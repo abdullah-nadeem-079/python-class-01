{
 "cells": [
  {
   "cell_type": "markdown",
   "id": "a903fd3c-491c-437a-a027-b221df52a519",
   "metadata": {},
   "source": [
    "## Today's Topics:\n",
    "* Conditional Statements\n",
    "    * if statement\n",
    "    * elif statement\n",
    "    * else statement"
   ]
  },
  {
   "cell_type": "code",
   "execution_count": 2,
   "id": "aee80377-b9de-4fa1-a82b-aff231b0298b",
   "metadata": {},
   "outputs": [
    {
     "name": "stdin",
     "output_type": "stream",
     "text": [
      "Enter your age: 50\n"
     ]
    },
    {
     "name": "stdout",
     "output_type": "stream",
     "text": [
      "you are old\n"
     ]
    }
   ],
   "source": [
    "age = int(input(\"Enter your age:\"))\n",
    "\n",
    "if age < 30:\n",
    "    print(\"you are young\")\n",
    "else:\n",
    "    print(\"you are old\")\n"
   ]
  },
  {
   "cell_type": "code",
   "execution_count": 4,
   "id": "fbb0f898-e9b0-4478-a05f-c4f84aa42b8f",
   "metadata": {},
   "outputs": [
    {
     "name": "stdin",
     "output_type": "stream",
     "text": [
      "Enter your age: 25\n"
     ]
    },
    {
     "name": "stdout",
     "output_type": "stream",
     "text": [
      "you are young\n"
     ]
    }
   ],
   "source": [
    "age = int(input(\"Enter your age:\"))\n",
    "\n",
    "if age >= 18:\n",
    "    print(\"you are young\")\n",
    "else:\n",
    "    print(\"you are not young\")"
   ]
  },
  {
   "cell_type": "code",
   "execution_count": 6,
   "id": "28b2f266-71eb-4267-aab2-1854f091a1d0",
   "metadata": {},
   "outputs": [
    {
     "name": "stdin",
     "output_type": "stream",
     "text": [
      "Enter bill amount 40000\n"
     ]
    },
    {
     "name": "stdout",
     "output_type": "stream",
     "text": [
      "Sorry ! you will not get any discount.\n"
     ]
    }
   ],
   "source": [
    "# Take bill amount as input from user if bill amount is fifty thousand or above give discount on bill otherwise no discount.\n",
    "\n",
    "bill_amount = int(input(\"Enter bill amount\"))\n",
    "\n",
    "if bill_amount >= 50000:\n",
    "    print(\"Congratulations ! you will get discount.\")\n",
    "else:\n",
    "    print(\"Sorry ! you will not get any discount.\")"
   ]
  },
  {
   "cell_type": "code",
   "execution_count": 11,
   "id": "9f6ae2e9-453d-467f-a0f1-19bdf1bf0283",
   "metadata": {},
   "outputs": [
    {
     "name": "stdin",
     "output_type": "stream",
     "text": [
      "Enter bill amount Rs. 75000\n"
     ]
    },
    {
     "name": "stdout",
     "output_type": "stream",
     "text": [
      "your discount is Rs.7500.0 on the purchase of Rs.75000\n"
     ]
    }
   ],
   "source": [
    "# Take bill amount as input from user if bill amount is fifty thousand or above give 10% discount on bill otherwise no discount.\n",
    "\n",
    "bill_amount = int(input(\"Enter bill amount Rs.\"))\n",
    "\n",
    "if bill_amount >= 50000:\n",
    "    discount = bill_amount * .10\n",
    "    print(f\"your discount is Rs.{discount} on the purchase of Rs.{bill_amount}\")\n",
    "else:\n",
    "    print(f\"you have got no discount on purchase of Rs.{bill_amount}\")\n"
   ]
  },
  {
   "cell_type": "code",
   "execution_count": 17,
   "id": "475c4fdc-67f8-4b02-a397-293c75f941d8",
   "metadata": {},
   "outputs": [
    {
     "name": "stdin",
     "output_type": "stream",
     "text": [
      "Enter your salary: 1000000\n"
     ]
    },
    {
     "name": "stdout",
     "output_type": "stream",
     "text": [
      "Your salary is Rs.1000000 and the tax deduction amount from your salary is Rs.50000.0 and after tax deduction your net salary will be Rs.950000.0\n"
     ]
    }
   ],
   "source": [
    "# Take the employe's salary as an input and if the salary is above 600000 deduct 5% tax from the salary otherwise no tax deduction\n",
    "\n",
    "emp_salary = int(input(\"Enter your salary:\"))\n",
    "\n",
    "taxable_salary = 600000\n",
    "tax = emp_salary * .05\n",
    "net_salary = emp_salary - tax\n",
    "\n",
    "if emp_salary > taxable_salary: \n",
    "    print(f\"Your salary is Rs.{emp_salary} and the tax deduction amount from your salary is Rs.{tax} and after tax deduction your net salary will be Rs.{net_salary}\")\n",
    "else:\n",
    "    print(f\"No tax is deducted from your salary and your net salary is Rs.{emp_salary}\")"
   ]
  },
  {
   "cell_type": "code",
   "execution_count": 2,
   "id": "cafbd327-5dd0-4986-aa21-273955dcdfa3",
   "metadata": {},
   "outputs": [
    {
     "name": "stdin",
     "output_type": "stream",
     "text": [
      "Enter your salary 3000000\n"
     ]
    },
    {
     "name": "stdout",
     "output_type": "stream",
     "text": [
      "Your salary is 3000000\n",
      "Tax amount on your salary is 450000.0\n",
      "Your net salary is 2550000.0\n"
     ]
    }
   ],
   "source": [
    "# Take the employe's salary as an input and if the salary is between 6lac-12lac deduct 5% tax from the salary, if the salary is between 12lsc-24lac deduct 10% tax and if the salary is above 24lac then deduct 15% tax from the salary\n",
    "\n",
    "salary = int(input(\"Enter your salary\"))\n",
    "\n",
    "if salary >= 2400000:\n",
    "    tax_amount = salary * .15\n",
    "elif salary >= 1200000:\n",
    "    tax_amount = salary * .10\n",
    "elif salary >= 600000:\n",
    "    tax_amount = salary * .05\n",
    "else:\n",
    "    tax_amount = salary * 0\n",
    "\n",
    "net_amount = salary - tax_amount\n",
    "\n",
    "print(f\"Your salary is {salary}\")\n",
    "print(f\"Tax amount on your salary is {tax_amount}\")\n",
    "print(f\"Your net salary is {net_amount}\")"
   ]
  },
  {
   "cell_type": "markdown",
   "id": "59b23a62-f18e-443d-a5fd-eab3b6bfdd22",
   "metadata": {},
   "source": [
    "## Practice questions by Sir Nasir Husain."
   ]
  },
  {
   "cell_type": "markdown",
   "id": "90e69353-002d-4d24-ab17-493a857d3462",
   "metadata": {},
   "source": [
    "##### Question number 01)\n",
    "A company decided to give the increment of:\n",
    "* 5% to employee if his/her year of service is more than 5 years.\n",
    "* 10% to employee if his/her year of service is more than 10 years.\n",
    "* 15% to employee if his/her year of service is more than 15 years.\n",
    "* 20% to employee if his/her year of service is more than 20 years or above.\n",
    "\n",
    "Ask user for their salary and year of service and print the new salary with increment.\n",
    "\n"
   ]
  },
  {
   "cell_type": "code",
   "execution_count": 8,
   "id": "470127dc-6225-4998-8863-ee8a35ca3a00",
   "metadata": {},
   "outputs": [
    {
     "name": "stdin",
     "output_type": "stream",
     "text": [
      "Enter your salary:  50000\n",
      "Enter your service year:  20\n"
     ]
    },
    {
     "name": "stdout",
     "output_type": "stream",
     "text": [
      "Your new salary after increment is: 57500.0\n"
     ]
    }
   ],
   "source": [
    "# Type your code here.\n",
    "\n",
    "emp_salary = int(input(\"Enter your salary: \"))\n",
    "svc_year = int(input(\"Enter your service year: \"))\n",
    "\n",
    "if svc_year > 20:\n",
    "    increment = 0.20\n",
    "elif svc_year > 15:\n",
    "    increment = 0.15\n",
    "elif svc_year > 10:\n",
    "    increment = 0.10\n",
    "elif svc_year > 5:\n",
    "    increment = 0.05\n",
    "else:\n",
    "    increment = 0\n",
    "\n",
    "new_salary = emp_salary + (emp_salary * increment)\n",
    "print(f\"Your new salary after increment is: {new_salary}\")\n"
   ]
  },
  {
   "cell_type": "markdown",
   "id": "8d5c345c-6884-4232-9426-27f779a741cb",
   "metadata": {},
   "source": [
    "##### Question number 02)\n",
    "Write a program to check whether a person is eligible for voting or not. Ask age of person, if age is more than or equal to 18 then he/she is eligible otherwise he/she is not eligible."
   ]
  },
  {
   "cell_type": "code",
   "execution_count": 10,
   "id": "e35d164d-8e22-46bf-981a-2e4c81b87c5f",
   "metadata": {},
   "outputs": [
    {
     "name": "stdin",
     "output_type": "stream",
     "text": [
      "Enter your age 10\n"
     ]
    },
    {
     "name": "stdout",
     "output_type": "stream",
     "text": [
      "You are not eligible for voting\n"
     ]
    }
   ],
   "source": [
    "# Type your code here.\n",
    "\n",
    "age = int(input(\"Enter your age\"))\n",
    "\n",
    "if age >= 18:\n",
    "    print(\"You are eligible for voting\")\n",
    "else:\n",
    "    print(\"You are not eligible for voting\")"
   ]
  },
  {
   "cell_type": "markdown",
   "id": "9d309638-10f5-407a-bfad-22d43958e84d",
   "metadata": {},
   "source": [
    "##### Question number 03)\n",
    "Take values of length and breadth of a shape and check whether its rectangle or square."
   ]
  },
  {
   "cell_type": "code",
   "execution_count": null,
   "id": "a0dff7d1-10e9-4084-adc3-0bfee56b01e6",
   "metadata": {},
   "outputs": [],
   "source": [
    "# Type your code here.\n",
    "\n",
    "length = int(input(\"Enter length of shape\"))\n",
    "breadth = int(input(\"Enter breadth of shape\"))\n",
    "\n",
    "if length == breadth:\n",
    "    print(\"This is a square\")\n",
    "else:\n",
    "    print(\"This is a rectangle\")"
   ]
  },
  {
   "cell_type": "markdown",
   "id": "72724271-eb5c-40e4-aaeb-e011bbe08826",
   "metadata": {},
   "source": [
    "##### Question number 04)\n",
    "Write a program to check whether a number entered by user is even or odd. "
   ]
  },
  {
   "cell_type": "code",
   "execution_count": 13,
   "id": "36d16cde-7ef8-4999-8469-3e22743e6fcf",
   "metadata": {},
   "outputs": [
    {
     "name": "stdin",
     "output_type": "stream",
     "text": [
      "Enter any number 45\n"
     ]
    },
    {
     "name": "stdout",
     "output_type": "stream",
     "text": [
      "45 is odd\n"
     ]
    }
   ],
   "source": [
    "# Type your code here.\n",
    "\n",
    "number = int(input(\"Enter any number\"))\n",
    "\n",
    "if number % 2 == 0:\n",
    "    print(number, \"is even\")\n",
    "else:\n",
    "    print(number, \"is odd\")"
   ]
  },
  {
   "cell_type": "markdown",
   "id": "7a7e71e4-3f57-4eec-b6a5-b7ed8e4467fa",
   "metadata": {},
   "source": [
    "##### Question number 05)\n",
    "Write a program to check whether a number entered by user is divisible by 7 or not."
   ]
  },
  {
   "cell_type": "code",
   "execution_count": 14,
   "id": "190ff5ae-0378-4095-a054-71a2fe70fd72",
   "metadata": {},
   "outputs": [
    {
     "name": "stdin",
     "output_type": "stream",
     "text": [
      "Enter any number 56\n"
     ]
    },
    {
     "name": "stdout",
     "output_type": "stream",
     "text": [
      "56 is divisible by 7\n"
     ]
    }
   ],
   "source": [
    "# Type your code here.\n",
    "\n",
    "number = int(input(\"Enter any number\"))\n",
    "\n",
    "if number % 7 == 0:\n",
    "    print(number, \"is divisible by 7\")\n",
    "else:\n",
    "    print(number, \"is not divisible by 7\")"
   ]
  },
  {
   "cell_type": "markdown",
   "id": "222f028c-da78-4386-9ac3-ff471b368c4e",
   "metadata": {},
   "source": [
    "##### Question number 06)\n",
    "Write a program to print \"Yes it's a multiple of 5\" if the number entered by user is multiple of 5, otherwise print \"No it's not a multiple of 5\"."
   ]
  },
  {
   "cell_type": "code",
   "execution_count": 15,
   "id": "f2bb9428-bd3f-4425-82a8-757967d0bd77",
   "metadata": {},
   "outputs": [
    {
     "name": "stdin",
     "output_type": "stream",
     "text": [
      "Enter any number 40\n"
     ]
    },
    {
     "name": "stdout",
     "output_type": "stream",
     "text": [
      "40 is a multiple of 5\n"
     ]
    }
   ],
   "source": [
    "# Type your code here.\n",
    "\n",
    "number = int(input(\"Enter any number\"))\n",
    "\n",
    "if number % 5 == 0:\n",
    "    print(number, \"is a multiple of 5\")\n",
    "else:\n",
    "    print(number, \"is not a multiple of 5\")"
   ]
  },
  {
   "cell_type": "markdown",
   "id": "29ad5200-f5e9-4bc9-a4b8-a0c329315ed0",
   "metadata": {},
   "source": [
    "##### Question number 07)\n",
    "Write a program to check whether the last digit of a number (entered by user) is divisible by 3 or not."
   ]
  },
  {
   "cell_type": "code",
   "execution_count": 19,
   "id": "e3c025b6-dfe6-4c2e-9e76-4bd52ee305e7",
   "metadata": {},
   "outputs": [
    {
     "name": "stdin",
     "output_type": "stream",
     "text": [
      "Enter any number 26\n"
     ]
    },
    {
     "name": "stdout",
     "output_type": "stream",
     "text": [
      "6 is divisible by 3\n"
     ]
    }
   ],
   "source": [
    "# Type your code here.\n",
    "\n",
    "number = int(input(\"Enter any number\"))\n",
    "last_digit = number % 10                 # number % 10 (gives the last digit of a numnber)\n",
    "\n",
    "if last_digit % 3 == 0:\n",
    "    print(last_digit, \"is divisible by 3\")\n",
    "else:\n",
    "    print(last_digit, \"is not divisible by 3\")"
   ]
  },
  {
   "cell_type": "markdown",
   "id": "faf24a9a-63bd-478e-8953-7c667e8c83c9",
   "metadata": {},
   "source": [
    "##### Question number 08)\n",
    "Take two int values from user and print the greatest among them."
   ]
  },
  {
   "cell_type": "code",
   "execution_count": 20,
   "id": "f51d986f-a5b3-4c43-9e17-a5b8f40aba10",
   "metadata": {},
   "outputs": [
    {
     "name": "stdin",
     "output_type": "stream",
     "text": [
      "Enter first number 15\n",
      "Enter second number 25\n"
     ]
    },
    {
     "name": "stdout",
     "output_type": "stream",
     "text": [
      "25 is the greatest\n"
     ]
    }
   ],
   "source": [
    "# Type your code here.\n",
    "\n",
    "number_01 = int(input(\"Enter first number\"))\n",
    "number_02 = int(input(\"Enter second number\"))\n",
    "\n",
    "if number_01 > number_02:\n",
    "    print(number_01, \"is the greatest\")\n",
    "else:\n",
    "    print(number_02, \"is the greatest\")"
   ]
  },
  {
   "cell_type": "markdown",
   "id": "02bb1e5a-3096-4185-99e4-f1afa737a8db",
   "metadata": {},
   "source": [
    "##### Question number 09)\n",
    "Write a program to check whether the year entered by user is leap year or not."
   ]
  },
  {
   "cell_type": "code",
   "execution_count": 27,
   "id": "a2c5ec47-c7f1-49b0-b3ec-b2828a7c87e0",
   "metadata": {},
   "outputs": [
    {
     "name": "stdin",
     "output_type": "stream",
     "text": [
      "Enter a year:  2019\n"
     ]
    },
    {
     "name": "stdout",
     "output_type": "stream",
     "text": [
      "2019 is not a leap year.\n"
     ]
    }
   ],
   "source": [
    "# Type your code here.\n",
    "\n",
    "year = int(input(\"Enter a year: \"))\n",
    "\n",
    "if (year % 4 == 0 and year % 100 != 0) or (year % 400 == 0):\n",
    "    print(year, \"is a leap year.\")\n",
    "else:\n",
    "    print(year, \"is not a leap year.\")\n"
   ]
  },
  {
   "cell_type": "markdown",
   "id": "70f85e3d-f313-447c-82aa-6f0a0f8dc054",
   "metadata": {},
   "source": [
    "##### Question number 10)\n",
    "Take the age input of three people by user and determine the oldest and youngest among them."
   ]
  },
  {
   "cell_type": "code",
   "execution_count": 25,
   "id": "8d7b666c-395f-43d0-8871-f5a8d4bc133b",
   "metadata": {},
   "outputs": [
    {
     "name": "stdin",
     "output_type": "stream",
     "text": [
      "Enter your age 15\n",
      "Enter your age 20\n",
      "Enter your age 25\n"
     ]
    },
    {
     "name": "stdout",
     "output_type": "stream",
     "text": [
      "person_03 is the oldest\n",
      "person_01 is the youngest\n"
     ]
    }
   ],
   "source": [
    "# Type your code here.\n",
    "\n",
    "person_01 = int(input(\"Enter your age\"))\n",
    "person_02 = int(input(\"Enter your age\"))\n",
    "person_03 = int(input(\"Enter your age\"))\n",
    "\n",
    "if person_01 > person_02 and person_01 > person_03:\n",
    "    print(\"person_01 is the oldest\")\n",
    "elif person_02 > person_01 and person_02 > person_03:\n",
    "    print(\"person_02 is the oldest\")\n",
    "elif person_03 > person_01 and person_03 > person_02:\n",
    "    print(\"person_03 is the oldest\")\n",
    "\n",
    "if person_01 < person_02 and person_01 < person_03:\n",
    "    print(\"person_01 is the youngest\")\n",
    "elif person_02 < person_02 and person_02 < person_03:\n",
    "    print(\"person_02 is the youngest\")\n",
    "elif person_03 < person_02 and person_03 < person_03:\n",
    "    print(\"person_03 is the youngest\")"
   ]
  },
  {
   "cell_type": "markdown",
   "id": "49bae2ed-d926-43fc-b0a5-49eafd9265d9",
   "metadata": {},
   "source": [
    "##### Question number 11)\n",
    "Write a program to display the last digit of the number."
   ]
  },
  {
   "cell_type": "code",
   "execution_count": 27,
   "id": "0a5f558f-1bf3-45ff-9856-bd7f0da55c2c",
   "metadata": {},
   "outputs": [
    {
     "name": "stdin",
     "output_type": "stream",
     "text": [
      "Enter any number 15\n"
     ]
    },
    {
     "name": "stdout",
     "output_type": "stream",
     "text": [
      "The last digit of the number is 5\n"
     ]
    }
   ],
   "source": [
    "# Type your code here.\n",
    "\n",
    "number = int(input(\"Enter any number\"))\n",
    "\n",
    "print(\"The last digit of the number is\", number % 10)"
   ]
  },
  {
   "cell_type": "markdown",
   "id": "04c338ec-8ca2-4965-ada9-3a9f00e33636",
   "metadata": {},
   "source": [
    "##### Question number 12)\n",
    "The shop will give discount of 10% if the purchasing cost is more than 1000.\n",
    "* Eeach item will cost Rs.100\n",
    "* Ask user for items quantity\n",
    "* Print the cost of all items.\n",
    "* Print the net cost after discount."
   ]
  },
  {
   "cell_type": "code",
   "execution_count": 11,
   "id": "518ff6f5-4369-4d38-8fe5-438609fdda36",
   "metadata": {},
   "outputs": [
    {
     "name": "stdin",
     "output_type": "stream",
     "text": [
      "Enter number of items:  11\n"
     ]
    },
    {
     "name": "stdout",
     "output_type": "stream",
     "text": [
      "Net amount to pay: 990.0\n"
     ]
    }
   ],
   "source": [
    "# Type your code here.\n",
    "\n",
    "items = int(input(\"Enter number of items: \"))\n",
    "total = items * 100\n",
    "\n",
    "if total > 1000:\n",
    "    discount = total * .10\n",
    "else:\n",
    "    discount = total * 0\n",
    "\n",
    "net_amount = total - discount\n",
    "\n",
    "\n",
    "print(\"Net amount to pay:\", net_amount)\n"
   ]
  },
  {
   "cell_type": "markdown",
   "id": "7eb75823-5385-4622-beb9-ff32da77bb82",
   "metadata": {},
   "source": [
    "##### Question number 13)\n",
    "The school has the following grading system:\n",
    "* Above 80% - Grade A\n",
    "* 60% to 80% - Grade B\n",
    "* 50% to 60% - Grade C\n",
    "* 45% to 50% - Grade D\n",
    "* 25% to 45% - Grade E\n",
    "* Below 25% - Grade F\n",
    "  \n",
    "Ask user to enter the percentage and print the corresponding grade."
   ]
  },
  {
   "cell_type": "code",
   "execution_count": 13,
   "id": "5a3a7916-e54a-4a16-9bcb-a1e6d4ef425f",
   "metadata": {},
   "outputs": [
    {
     "name": "stdin",
     "output_type": "stream",
     "text": [
      "Enter your percentage:  20\n"
     ]
    },
    {
     "name": "stdout",
     "output_type": "stream",
     "text": [
      "Grade - F\n"
     ]
    }
   ],
   "source": [
    "# Type your code here.\n",
    "\n",
    "percentage = int(input(\"Enter your percentage: \"))\n",
    "\n",
    "if percentage > 80:\n",
    "    print(\"Grade - A\")\n",
    "elif percentage >= 60 and percentage <= 80:\n",
    "    print(\"Grade - B\")\n",
    "elif percentage >= 50 and percentage < 60:\n",
    "    print(\"Grade - C\")\n",
    "elif percentage >= 45 and percentage < 50:\n",
    "    print(\"Grade - D\")\n",
    "elif percentage >= 25 and percentage < 45:\n",
    "    print(\"Grade - E\")\n",
    "elif percentage < 25:\n",
    "    print(\"Grade - F\")\n",
    "else:\n",
    "    print(\"Invalid value\")\n"
   ]
  },
  {
   "cell_type": "markdown",
   "id": "1ae08415-7c6a-4c4e-9268-9486e03d6675",
   "metadata": {},
   "source": [
    "##### Question number 14)\n",
    "Ask user to enter age, gender (M or F), Marial Status (Y or N) and then using the following rules print their place of service.\n",
    "* if employee is female then she will work only in urban areas.\n",
    "* if employee is male and age is in between 20 to 40 then he will work in both areas.\n",
    "* if employee is male and age is in between 40 to 60 then he will work in urban areas only.\n",
    "* Any other input of age should print \"Sorry you are not eligible to work\""
   ]
  },
  {
   "cell_type": "code",
   "execution_count": 26,
   "id": "abce4a63-6a78-4da2-9761-41ab1971eba1",
   "metadata": {},
   "outputs": [
    {
     "name": "stdin",
     "output_type": "stream",
     "text": [
      "Enter your age:  55\n",
      "Enter your gender (M/F):  m\n",
      "Enter marital status (Y/N):  y\n"
     ]
    },
    {
     "name": "stdout",
     "output_type": "stream",
     "text": [
      "You will work only in urban areas.\n"
     ]
    }
   ],
   "source": [
    "# Type your code here.\n",
    "\n",
    "age = int(input(\"Enter your age: \"))\n",
    "gender = input(\"Enter your gender (M/F): \").strip().upper()\n",
    "marital_status = input(\"Enter marital status (Y/N): \").strip().upper()\n",
    "\n",
    "if gender == \"F\":\n",
    "    print(\"You will work only in urban areas.\")\n",
    "elif gender == \"M\":\n",
    "    if 20 <= age <= 40:\n",
    "        print(\"You can work in both urban and rural areas.\")\n",
    "    elif 40 < age <= 60:\n",
    "        print(\"You will work only in urban areas.\")\n",
    "    else:\n",
    "        print(\"Sorry, you are not eligible to work.\")\n",
    "else:\n",
    "    print(\"Invalid input for gender.\")\n"
   ]
  },
  {
   "cell_type": "markdown",
   "id": "81f2568e-3058-4079-9060-d0daa30c4b53",
   "metadata": {},
   "source": [
    "##### Question number 15)\n",
    "Ask user to input the number of units then write a program to calculate the electricity bill according to the following criteria:\n",
    "* Upto 100 units = No charge.\n",
    "* Upto 200 units = Rs.05 per unit\n",
    "* above 300 units = Rs. 10 per unit"
   ]
  },
  {
   "cell_type": "code",
   "execution_count": 18,
   "id": "4d2f641d-9602-4bc9-b241-99952053af03",
   "metadata": {},
   "outputs": [
    {
     "name": "stdin",
     "output_type": "stream",
     "text": [
      "Enter number of units:  200\n"
     ]
    },
    {
     "name": "stdout",
     "output_type": "stream",
     "text": [
      "Electricity bill is: Rs. 1000\n"
     ]
    }
   ],
   "source": [
    "# Type your code here.\n",
    "\n",
    "number_of_units = int(input(\"Enter number of units: \"))\n",
    "\n",
    "if number_of_units <= 100:\n",
    "    amount = 0\n",
    "elif number_of_units <= 200:\n",
    "    amount = number_of_units * 5\n",
    "else:\n",
    "    amount = number_of_units * 10\n",
    "\n",
    "print(\"Electricity bill is: Rs.\", amount)\n"
   ]
  },
  {
   "cell_type": "markdown",
   "id": "a8009ff8-0a03-4d39-921d-1b8a6190f4fe",
   "metadata": {},
   "source": [
    "##### Question number 16)\n",
    "A student will not be allowed to sit in exam if his/her attendence is less than 75%.\n",
    "Take the following input from the user:\n",
    "* Number of classes held.\n",
    "* Number of classes attended.\n",
    "\n",
    "Then print percentage of class attended and whether the student is allowed to sit in exam or not."
   ]
  },
  {
   "cell_type": "code",
   "execution_count": 22,
   "id": "98ad87f8-fd8a-4a9b-9c59-51d1cee2714c",
   "metadata": {},
   "outputs": [
    {
     "name": "stdin",
     "output_type": "stream",
     "text": [
      "Enter number of classes held:  50\n",
      "Enter number of classes attended:  25\n"
     ]
    },
    {
     "name": "stdout",
     "output_type": "stream",
     "text": [
      "Attendance percentage: 50.0 %\n",
      "Not allowed to sit in exam.\n"
     ]
    }
   ],
   "source": [
    "# Type your code here.\n",
    "\n",
    "classes_held = int(input(\"Enter number of classes held: \"))\n",
    "classes_attended = int(input(\"Enter number of classes attended: \"))\n",
    "\n",
    "attendance = (classes_attended / classes_held) * 100\n",
    "\n",
    "print(\"Attendance percentage:\", attendance, \"%\")\n",
    "\n",
    "if attendance >= 75:\n",
    "    print(\"Allowed to sit in exam.\")\n",
    "else:\n",
    "    print(\"Not allowed to sit in exam.\")"
   ]
  },
  {
   "cell_type": "markdown",
   "id": "64ce5c50-77fe-4c21-86da-1322bb1668a9",
   "metadata": {},
   "source": [
    "##### Question number 17)\n",
    "Modify the above question and allow student to sit in exam if he/she has medical cause of low attendence. Ask student if he/she has medical cause or not (Yes or No) and print accordingly."
   ]
  },
  {
   "cell_type": "code",
   "execution_count": 23,
   "id": "d86ac344-ceca-45b7-8ee7-612a5d82b7a6",
   "metadata": {},
   "outputs": [
    {
     "name": "stdin",
     "output_type": "stream",
     "text": [
      "Enter number of classes held:  50\n",
      "Enter number of classes attended:  25\n"
     ]
    },
    {
     "name": "stdout",
     "output_type": "stream",
     "text": [
      "Attendance percentage: 50.0 %\n"
     ]
    },
    {
     "name": "stdin",
     "output_type": "stream",
     "text": [
      "Do you have a medical cause? (Yes/No):  yes\n"
     ]
    },
    {
     "name": "stdout",
     "output_type": "stream",
     "text": [
      "Allowed to sit in exam due to medical cause.\n"
     ]
    }
   ],
   "source": [
    "# Type your code here.\n",
    "\n",
    "classes_held = int(input(\"Enter number of classes held: \"))\n",
    "classes_attended = int(input(\"Enter number of classes attended: \"))\n",
    "\n",
    "attendance = (classes_attended / classes_held) * 100\n",
    "\n",
    "print(\"Attendance percentage:\", attendance, \"%\")\n",
    "\n",
    "# Check attendance\n",
    "if attendance >= 75:\n",
    "    print(\"Allowed to sit in exam.\")\n",
    "else:\n",
    "    medical_cause = input(\"Do you have a medical cause? (Yes/No): \").strip().lower()     # .strip() removes the spaces   \n",
    "    \n",
    "    if medical_cause == \"yes\":\n",
    "        print(\"Allowed to sit in exam due to medical cause.\")\n",
    "    else:\n",
    "        print(\"Not allowed to sit in exam.\")\n"
   ]
  }
 ],
 "metadata": {
  "kernelspec": {
   "display_name": "Python 3 (ipykernel)",
   "language": "python",
   "name": "python3"
  },
  "language_info": {
   "codemirror_mode": {
    "name": "ipython",
    "version": 3
   },
   "file_extension": ".py",
   "mimetype": "text/x-python",
   "name": "python",
   "nbconvert_exporter": "python",
   "pygments_lexer": "ipython3",
   "version": "3.13.5"
  }
 },
 "nbformat": 4,
 "nbformat_minor": 5
}
