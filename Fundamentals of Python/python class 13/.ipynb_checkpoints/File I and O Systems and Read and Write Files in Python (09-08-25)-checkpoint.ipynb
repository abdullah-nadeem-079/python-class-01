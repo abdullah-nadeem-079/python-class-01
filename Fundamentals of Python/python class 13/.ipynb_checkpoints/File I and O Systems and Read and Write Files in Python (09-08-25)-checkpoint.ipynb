{
 "cells": [
  {
   "cell_type": "markdown",
   "id": "bc81d189-645b-4e93-8f17-48218917712b",
   "metadata": {},
   "source": [
    "## Today's Topics:\n",
    "* Function Overloading in python\n",
    "* Arbitrary number of arguments\n",
    "* Positional arguments & Keyword arguments\n",
    "* Default parameter values\n",
    "* Use of positional and keyword arguments in dictionary\n",
    "* File read and write | input output operations\n",
    "* Open function\n",
    "    * open(file_name, mode)\n",
    "* Context Manager function\n",
    "    * with open(file_name, mode)"
   ]
  },
  {
   "cell_type": "markdown",
   "id": "ace4cc98-7219-40b3-8b0d-2ec0f07bb557",
   "metadata": {},
   "source": [
    "### Function Overloading:\n",
    "Unlike other languages python does not supprt traditional function overloading based on type or number of arguments.\n",
    "But you can achieve similar behaviour by:\n",
    "* using default parameters\n",
    "* accepting arbitrary arguments\n",
    "* checking types manually inside the function"
   ]
  },
  {
   "cell_type": "markdown",
   "id": "39eff1f7-2477-4c49-a2b1-cf627a226da7",
   "metadata": {},
   "source": [
    "### Arbitrary number of arguments:\n",
    "Python allows function to accept any number of arguments using arbitrary arguments.\n",
    "#### Types of Arbitrary Arguments:\n",
    "* Arbitrary Positional Arguments (tuple)\n",
    "    * use * for positional arguments\n",
    "* Arbitrary keyword Arguments (dictionary)\n",
    "    * use ** for keyword arguments\n",
    "#### Rules for using both Arbitrary Arguments Combine:\n",
    "* Positional arguments must come vefor keyword arguments\n",
    "* Cannot pass same parameter twice"
   ]
  },
  {
   "cell_type": "markdown",
   "id": "681420ff-2d95-42ff-a596-fcd317a6b1d4",
   "metadata": {},
   "source": [
    "### Arbitrary Positional Arguments:"
   ]
  },
  {
   "cell_type": "markdown",
   "id": "ea3abcbd-c551-4a54-9150-5ef77971fc6d",
   "metadata": {},
   "source": [
    "### Arbitrary Keyword Arguments:"
   ]
  },
  {
   "cell_type": "markdown",
   "id": "cc4e885d-8d5f-4d57-97ea-29e2063cb35c",
   "metadata": {},
   "source": [
    "### Default Parameter Values:\n",
    "You can provide default values for parameters, making them optional when calling the function."
   ]
  },
  {
   "cell_type": "markdown",
   "id": "937ae8d2-45f1-4751-9b9c-4e9ea8f3fc3a",
   "metadata": {},
   "source": [
    "### Use of Positional and Keyword arguments in dictionary:"
   ]
  },
  {
   "cell_type": "markdown",
   "id": "3cac4bd8-f9e6-41a3-a2ca-c1a7b39d31ba",
   "metadata": {},
   "source": [
    "### File I / O Systems and Read & Write Files in Python:\n",
    "Python allows you to interact with files to:\n",
    "* Read data (input)\n",
    "* Write or append data (output)\n",
    "This is useful for:\n",
    "* Reading configuration files\n",
    "* Logging output\n",
    "* Storing user data\n",
    "* Loading data sets etc"
   ]
  },
  {
   "cell_type": "markdown",
   "id": "e6dff28d-8d7a-4bc4-b632-72dd72dea55b",
   "metadata": {},
   "source": [
    "#### Reading a file:\n",
    "You can read a file using the open() function and one of the read mothods.\n",
    "#### Reading Methods:\n",
    "* read()----------reads the entire file as a string\n",
    "* readline()----------reads one line at time\n",
    "* readlines()----------reads all lines into a list"
   ]
  },
  {
   "cell_type": "markdown",
   "id": "55e56327-aad8-4ec5-87e8-a000d58efb5b",
   "metadata": {},
   "source": [
    "#### Writing a file:\n",
    "You can create or overwrite files using write mode \"w\" or append to existing file using \"a\"\n",
    "* If the file doesn't exist, it will be created\n",
    "* If the file exist:\n",
    "    * \"w\" overwrites the file\n",
    "    * \"a\" appends new content at the end"
   ]
  },
  {
   "cell_type": "markdown",
   "id": "ef6c71eb-14f8-4ae4-bd7b-bcdad815b71d",
   "metadata": {},
   "source": [
    "#### The open() function:"
   ]
  },
  {
   "cell_type": "code",
   "execution_count": null,
   "id": "da49728a-ca5b-4ac1-aa77-f2b77767bcb8",
   "metadata": {},
   "outputs": [],
   "source": [
    "# Syntax:\n",
    "open(file, mode='r', buffering=-1, encoding=None, errors=None, newline=None)\n",
    "# Don't forget to call file.close() when done."
   ]
  },
  {
   "cell_type": "markdown",
   "id": "505a9a2e-70bd-464e-840a-3dc16d0e61f7",
   "metadata": {},
   "source": [
    "#### Key Parameters:\n",
    "* file----------name or path of the file to open\n",
    "* mode----------mode of the file \"r\", \"w\", \"a\", \"rb\" etc\n",
    "* encoding----------use utf-8 for text files (recommended)\n",
    "* buffering----------use -1 (default), 0 (no buffering), 1 (line buffering), or any integer\n",
    "* newline----------controls how universal newlines mode works"
   ]
  },
  {
   "cell_type": "markdown",
   "id": "6ce59c49-ee13-4903-9a77-f49aeabff22e",
   "metadata": {},
   "source": [
    "#### Common file modes:\n",
    "* \"r\"----------read (default) (file must exist)\n",
    "* \"w\"----------write-creates file, overwrites\n",
    "* \"a\"----------append-creates file if not exist, adds at end\n",
    "* \"rb\"----------read in binary mode\n",
    "* \"wb\"----------write in binary mode\n",
    "* \"r+\"----------read and write (file must exist) "
   ]
  },
  {
   "cell_type": "markdown",
   "id": "f1a558da-0c8c-44df-a5a1-ec9f0c4a52a3",
   "metadata": {},
   "source": [
    "#### Context Manager with open():\n",
    "Python provides the with statement to work with files more safely and eddiciently.\n",
    "#### Advantages of with open():\n",
    "* Automatically closes the file when the block ends\n",
    "* Prevents resource leaks of file corruption\n",
    "* Cleaner and more Pythonic"
   ]
  },
  {
   "cell_type": "code",
   "execution_count": null,
   "id": "437e5dd7-0bab-491a-8d29-a81ebfeda02c",
   "metadata": {},
   "outputs": [],
   "source": [
    "# Syntax:\n",
    "with open(\"filename.txt\", \"mode\") as file:\n",
    "    # do everything inside the indent\n",
    "# file is automatically closed when leave the indent"
   ]
  }
 ],
 "metadata": {
  "kernelspec": {
   "display_name": "Python 3 (ipykernel)",
   "language": "python",
   "name": "python3"
  },
  "language_info": {
   "codemirror_mode": {
    "name": "ipython",
    "version": 3
   },
   "file_extension": ".py",
   "mimetype": "text/x-python",
   "name": "python",
   "nbconvert_exporter": "python",
   "pygments_lexer": "ipython3",
   "version": "3.13.5"
  }
 },
 "nbformat": 4,
 "nbformat_minor": 5
}
