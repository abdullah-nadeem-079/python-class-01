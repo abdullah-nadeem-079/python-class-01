{
 "cells": [
  {
   "cell_type": "markdown",
   "id": "fb30a65a-cfbf-41bb-9a1a-2f27cfc66d01",
   "metadata": {},
   "source": [
    "## Today's Topics:\n",
    "* Exception handling / Error handling\n",
    "* different types of errors\n",
    "* try : Except\n",
    "* Exception Class"
   ]
  },
  {
   "cell_type": "markdown",
   "id": "7b8b0ad2-45ef-4493-ae9c-a899c24f54bb",
   "metadata": {},
   "source": [
    "### Exception Handling / Error Handling:\n",
    "Exception handling (or error handling) in Python is how you deal with errors that happen during program execution — without crashing your entire program."
   ]
  },
  {
   "cell_type": "markdown",
   "id": "ac0523fd-71f2-4293-9aa2-da2c1d51a0a9",
   "metadata": {},
   "source": [
    "#### Syntax:"
   ]
  },
  {
   "cell_type": "code",
   "execution_count": null,
   "id": "d8cd6e27-310e-4e42-9991-8906ee2f6ee3",
   "metadata": {},
   "outputs": [],
   "source": [
    "try:\n",
    "    # Code that might raise an error\n",
    "except SomeSpecificError:\n",
    "    # Code that runs if that specific error occurs\n",
    "except AnotherError:\n",
    "    # Handles another kind of error\n",
    "else:\n",
    "    # Runs if no errors occurred\n",
    "finally:\n",
    "    # Runs no matter what (even if there's an error or not)"
   ]
  },
  {
   "cell_type": "markdown",
   "id": "efccaf73-950a-4edd-80e8-56264174070e",
   "metadata": {},
   "source": [
    "#### Common Exceptions for Error Handling:"
   ]
  },
  {
   "cell_type": "raw",
   "id": "3ebb14a9-c487-430b-8410-e7f9b566c552",
   "metadata": {},
   "source": [
    "| Exception           | Description                         |\n",
    "| ------------------- | ----------------------------------- |\n",
    "| `ZeroDivisionError` | Division by zero                    |\n",
    "| `ValueError`        | Invalid value for a type            |\n",
    "| `TypeError`         | Operation on incompatible types     |\n",
    "| `FileNotFoundError` | File does not exist                 |\n",
    "| `PermissionError`   | File exists but you lack permission |\n",
    "| `IndexError`        | List index out of range             |\n",
    "| `KeyError`          | Dictionary key not found            |\n",
    "| `ImportError`       | Import failed                       |\n"
   ]
  },
  {
   "cell_type": "markdown",
   "id": "3b50ccad-e8cf-41fe-b602-11e7078699f3",
   "metadata": {},
   "source": [
    "### Different Types of Errors:"
   ]
  },
  {
   "cell_type": "code",
   "execution_count": 23,
   "id": "5b726461-2e5e-4ba7-a2d6-9db35b9ea75a",
   "metadata": {},
   "outputs": [
    {
     "ename": "NameError",
     "evalue": "name 'Print' is not defined",
     "output_type": "error",
     "traceback": [
      "\u001b[1;31m---------------------------------------------------------------------------\u001b[0m",
      "\u001b[1;31mNameError\u001b[0m                                 Traceback (most recent call last)",
      "Cell \u001b[1;32mIn[23], line 1\u001b[0m\n\u001b[1;32m----> 1\u001b[0m Print(\u001b[38;5;124m\"\u001b[39m\u001b[38;5;124mhello\u001b[39m\u001b[38;5;124m\"\u001b[39m)\n",
      "\u001b[1;31mNameError\u001b[0m: name 'Print' is not defined"
     ]
    }
   ],
   "source": [
    "Print(\"hello\") # NameError"
   ]
  },
  {
   "cell_type": "code",
   "execution_count": 2,
   "id": "b401c4af-7c92-42c2-a408-10f649119e25",
   "metadata": {},
   "outputs": [
    {
     "ename": "SyntaxError",
     "evalue": "unterminated string literal (detected at line 1) (2149988476.py, line 1)",
     "output_type": "error",
     "traceback": [
      "\u001b[1;36m  Cell \u001b[1;32mIn[2], line 1\u001b[1;36m\u001b[0m\n\u001b[1;33m    print(\"hello)\u001b[0m\n\u001b[1;37m          ^\u001b[0m\n\u001b[1;31mSyntaxError\u001b[0m\u001b[1;31m:\u001b[0m unterminated string literal (detected at line 1)\n"
     ]
    }
   ],
   "source": [
    "print(\"hello) \n",
    "# SyntaxError"
   ]
  },
  {
   "cell_type": "code",
   "execution_count": 3,
   "id": "4a763284-3334-48a9-bede-9c362815ab51",
   "metadata": {},
   "outputs": [
    {
     "ename": "IndentationError",
     "evalue": "expected an indented block after 'if' statement on line 1 (3115084561.py, line 2)",
     "output_type": "error",
     "traceback": [
      "\u001b[1;36m  Cell \u001b[1;32mIn[3], line 2\u001b[1;36m\u001b[0m\n\u001b[1;33m    print(\"true\")\u001b[0m\n\u001b[1;37m    ^\u001b[0m\n\u001b[1;31mIndentationError\u001b[0m\u001b[1;31m:\u001b[0m expected an indented block after 'if' statement on line 1\n"
     ]
    }
   ],
   "source": [
    "if 10 > 5:\n",
    "print(\"true\") # IndentationError"
   ]
  },
  {
   "cell_type": "code",
   "execution_count": 4,
   "id": "6ef1189e-5180-467c-99a8-b8265a6f3b40",
   "metadata": {},
   "outputs": [
    {
     "ename": "FileNotFoundError",
     "evalue": "[Errno 2] No such file or directory: 'hello.txt'",
     "output_type": "error",
     "traceback": [
      "\u001b[1;31m---------------------------------------------------------------------------\u001b[0m",
      "\u001b[1;31mFileNotFoundError\u001b[0m                         Traceback (most recent call last)",
      "Cell \u001b[1;32mIn[4], line 1\u001b[0m\n\u001b[1;32m----> 1\u001b[0m \u001b[38;5;28;01mwith\u001b[39;00m \u001b[38;5;28mopen\u001b[39m(\u001b[38;5;124m\"\u001b[39m\u001b[38;5;124mhello.txt\u001b[39m\u001b[38;5;124m\"\u001b[39m) \u001b[38;5;28;01mas\u001b[39;00m file:\n\u001b[0;32m      2\u001b[0m     \u001b[38;5;28mprint\u001b[39m(file\u001b[38;5;241m.\u001b[39mread())\n",
      "File \u001b[1;32mC:\\ProgramData\\anaconda3\\Lib\\site-packages\\IPython\\core\\interactiveshell.py:324\u001b[0m, in \u001b[0;36m_modified_open\u001b[1;34m(file, *args, **kwargs)\u001b[0m\n\u001b[0;32m    317\u001b[0m \u001b[38;5;28;01mif\u001b[39;00m file \u001b[38;5;129;01min\u001b[39;00m {\u001b[38;5;241m0\u001b[39m, \u001b[38;5;241m1\u001b[39m, \u001b[38;5;241m2\u001b[39m}:\n\u001b[0;32m    318\u001b[0m     \u001b[38;5;28;01mraise\u001b[39;00m \u001b[38;5;167;01mValueError\u001b[39;00m(\n\u001b[0;32m    319\u001b[0m         \u001b[38;5;124mf\u001b[39m\u001b[38;5;124m\"\u001b[39m\u001b[38;5;124mIPython won\u001b[39m\u001b[38;5;124m'\u001b[39m\u001b[38;5;124mt let you open fd=\u001b[39m\u001b[38;5;132;01m{\u001b[39;00mfile\u001b[38;5;132;01m}\u001b[39;00m\u001b[38;5;124m by default \u001b[39m\u001b[38;5;124m\"\u001b[39m\n\u001b[0;32m    320\u001b[0m         \u001b[38;5;124m\"\u001b[39m\u001b[38;5;124mas it is likely to crash IPython. If you know what you are doing, \u001b[39m\u001b[38;5;124m\"\u001b[39m\n\u001b[0;32m    321\u001b[0m         \u001b[38;5;124m\"\u001b[39m\u001b[38;5;124myou can use builtins\u001b[39m\u001b[38;5;124m'\u001b[39m\u001b[38;5;124m open.\u001b[39m\u001b[38;5;124m\"\u001b[39m\n\u001b[0;32m    322\u001b[0m     )\n\u001b[1;32m--> 324\u001b[0m \u001b[38;5;28;01mreturn\u001b[39;00m io_open(file, \u001b[38;5;241m*\u001b[39margs, \u001b[38;5;241m*\u001b[39m\u001b[38;5;241m*\u001b[39mkwargs)\n",
      "\u001b[1;31mFileNotFoundError\u001b[0m: [Errno 2] No such file or directory: 'hello.txt'"
     ]
    }
   ],
   "source": [
    "with open(\"hello.txt\") as file:\n",
    "    print(file.read()) # FileNotFoundError"
   ]
  },
  {
   "cell_type": "code",
   "execution_count": 7,
   "id": "d4634c70-c354-4e6d-982d-9c5f43419b7e",
   "metadata": {},
   "outputs": [
    {
     "name": "stdin",
     "output_type": "stream",
     "text": [
      "Enter file name with extension hello.txt\n"
     ]
    },
    {
     "ename": "IndexError",
     "evalue": "list index out of range",
     "output_type": "error",
     "traceback": [
      "\u001b[1;31m---------------------------------------------------------------------------\u001b[0m",
      "\u001b[1;31mIndexError\u001b[0m                                Traceback (most recent call last)",
      "Cell \u001b[1;32mIn[7], line 4\u001b[0m\n\u001b[0;32m      2\u001b[0m file_name \u001b[38;5;241m=\u001b[39m \u001b[38;5;28minput\u001b[39m(\u001b[38;5;124m\"\u001b[39m\u001b[38;5;124mEnter file name with extension\u001b[39m\u001b[38;5;124m\"\u001b[39m)\n\u001b[0;32m      3\u001b[0m lst \u001b[38;5;241m=\u001b[39m [\u001b[38;5;241m1\u001b[39m,\u001b[38;5;241m2\u001b[39m,\u001b[38;5;241m3\u001b[39m,\u001b[38;5;241m4\u001b[39m,\u001b[38;5;241m5\u001b[39m]\n\u001b[1;32m----> 4\u001b[0m \u001b[38;5;28mprint\u001b[39m(lst[\u001b[38;5;241m7\u001b[39m])\n\u001b[0;32m      5\u001b[0m \u001b[38;5;28;01mwith\u001b[39;00m \u001b[38;5;28mopen\u001b[39m(file_name) \u001b[38;5;28;01mas\u001b[39;00m file:\n\u001b[0;32m      6\u001b[0m     \u001b[38;5;28mprint\u001b[39m(file\u001b[38;5;241m.\u001b[39mread())\n",
      "\u001b[1;31mIndexError\u001b[0m: list index out of range"
     ]
    }
   ],
   "source": [
    "try:\n",
    "    file_name = input(\"Enter file name with extension\")\n",
    "    lst = [1,2,3,4,5]\n",
    "    print(lst[7])\n",
    "    with open(file_name) as file:\n",
    "        print(file.read())\n",
    "except FileNotFoundError:\n",
    "    print(\"The file you are looking for is not found in this directory\") #IndexError"
   ]
  },
  {
   "cell_type": "markdown",
   "id": "5bd5e98a-4a49-46f0-aa24-4a041c5400ae",
   "metadata": {},
   "source": [
    "### try : Except:"
   ]
  },
  {
   "cell_type": "code",
   "execution_count": 13,
   "id": "4ea1931e-ab3e-4aa7-9144-c6d7942527ea",
   "metadata": {},
   "outputs": [
    {
     "name": "stdin",
     "output_type": "stream",
     "text": [
      "Enter file name with extension hello\n"
     ]
    },
    {
     "name": "stdout",
     "output_type": "stream",
     "text": [
      "The file you are looking for is not found in this directory\n"
     ]
    }
   ],
   "source": [
    "try:\n",
    "    file_name = input(\"Enter file name with extension\")\n",
    "    with open(file_name) as file:\n",
    "        print(file.read())\n",
    "except FileNotFoundError:\n",
    "    print(\"The file you are looking for is not found in this directory\") # Handling FileNotFoundError"
   ]
  },
  {
   "cell_type": "code",
   "execution_count": 9,
   "id": "b127b4f9-da0b-45f9-a967-a5f8b97915cb",
   "metadata": {},
   "outputs": [
    {
     "name": "stdin",
     "output_type": "stream",
     "text": [
      "Enter file name with extension hello.txt\n"
     ]
    },
    {
     "name": "stdout",
     "output_type": "stream",
     "text": [
      "Enter the correct index please\n"
     ]
    }
   ],
   "source": [
    "try:\n",
    "    file_name = input(\"Enter file name with extension\")\n",
    "    lst = [1,2,3,4,5]\n",
    "    print(lst[7])\n",
    "    with open(file_name) as file:\n",
    "        print(file.read())\n",
    "except FileNotFoundError:\n",
    "    print(\"The file you are looking for is not found in this directory\")\n",
    "except IndexError:\n",
    "    print(\"Enter the correct index please\") # Handling IndexError"
   ]
  },
  {
   "cell_type": "markdown",
   "id": "9fddb3e4-fea5-42f1-aa84-58d058534320",
   "metadata": {},
   "source": [
    "### Exception Class:\n",
    "Only use generic Exception when you're unsure what might go wrong. It can hide bugs if overused."
   ]
  },
  {
   "cell_type": "code",
   "execution_count": 21,
   "id": "f7debe32-9900-4941-9ebf-7e669dc6d381",
   "metadata": {},
   "outputs": [
    {
     "name": "stdin",
     "output_type": "stream",
     "text": [
      "Enter file name with extension hello.txt\n"
     ]
    },
    {
     "name": "stdout",
     "output_type": "stream",
     "text": [
      "Exception Detected [Errno 2] No such file or directory: 'hello.txt'\n"
     ]
    }
   ],
   "source": [
    "try:\n",
    "    file_name = input(\"Enter file name with extension\")\n",
    "    with open(file_name) as file:\n",
    "        print(file.read())\n",
    "except Exception as error:\n",
    "    print(\"Exception Detected\",error) # Handling Error Using Exception Class"
   ]
  }
 ],
 "metadata": {
  "kernelspec": {
   "display_name": "Python 3 (ipykernel)",
   "language": "python",
   "name": "python3"
  },
  "language_info": {
   "codemirror_mode": {
    "name": "ipython",
    "version": 3
   },
   "file_extension": ".py",
   "mimetype": "text/x-python",
   "name": "python",
   "nbconvert_exporter": "python",
   "pygments_lexer": "ipython3",
   "version": "3.13.5"
  }
 },
 "nbformat": 4,
 "nbformat_minor": 5
}
