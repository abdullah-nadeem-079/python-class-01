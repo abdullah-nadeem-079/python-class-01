{
 "cells": [
  {
   "cell_type": "markdown",
   "id": "639d6c85-ccb5-4131-b48e-0e35b0da676b",
   "metadata": {},
   "source": [
    "## Today's Topics:\n",
    "* Nested Conditional Statements.\n",
    "* Some practice questions to practice Conditional Statements completely."
   ]
  },
  {
   "cell_type": "markdown",
   "id": "04f095b6-da67-4990-b1b7-7c1b26fc6f9b",
   "metadata": {},
   "source": [
    "## Nested Conditional Statements: \n",
    "These are conditional statements (like if, elif, else) placed inside another conditional statement. In other words, you have one if (or elif) block that contains another if statement within it."
   ]
  },
  {
   "cell_type": "markdown",
   "id": "7a170720-3264-4781-a567-1166cda67b75",
   "metadata": {},
   "source": [
    "### General Structure for Nested Conditional Statements:"
   ]
  },
  {
   "cell_type": "code",
   "execution_count": null,
   "id": "5847df45-72fa-4d78-91a9-d4008049604f",
   "metadata": {},
   "outputs": [],
   "source": [
    "if condition1:\n",
    "    # Outer if block\n",
    "    if condition2:\n",
    "        # Inner if block\n",
    "        # Executes only if condition1 and condition2 are true\n",
    "    else:\n",
    "        # Inner else block\n",
    "else:\n",
    "    # Outer else block\n"
   ]
  },
  {
   "cell_type": "markdown",
   "id": "dee957c6-9740-4846-8ca2-2a3ff922d735",
   "metadata": {},
   "source": [
    "### Practice questions to practice Conditional Statements completely by Sir Nasir Husain."
   ]
  },
  {
   "cell_type": "markdown",
   "id": "83053291-1ec6-4f9e-92d2-098414cb9e3a",
   "metadata": {},
   "source": [
    "### Discounts and Pricing:"
   ]
  },
  {
   "cell_type": "markdown",
   "id": "a76fdccb-e712-467c-a94b-e4429cbe0421",
   "metadata": {},
   "source": [
    "##### Question Number 01)\n",
    "Write a program to check if a customer is eligible for a discount. If the total purchase is more than $100 then apply 10% discount and display the final price otherwise display the total price as it is."
   ]
  },
  {
   "cell_type": "code",
   "execution_count": 4,
   "id": "181f7ed3-3b10-4213-95dc-0e83d465c519",
   "metadata": {},
   "outputs": [
    {
     "name": "stdin",
     "output_type": "stream",
     "text": [
      "Enter purchase amount: 200\n"
     ]
    },
    {
     "name": "stdout",
     "output_type": "stream",
     "text": [
      "Your payable amount is 180.0\n"
     ]
    }
   ],
   "source": [
    "# Type your code here.\n",
    "\n",
    "purchase_amount = int(input(\"Enter purchase amount:\"))\n",
    "\n",
    "if purchase_amount > 100:\n",
    "    discount = purchase_amount * .10\n",
    "else:\n",
    "    discount = purchase_amount * 0\n",
    "\n",
    "new_amount = purchase_amount - discount\n",
    "\n",
    "print(\"Your payable amount is\", new_amount)"
   ]
  },
  {
   "cell_type": "markdown",
   "id": "35bcab5a-75b8-4665-83c0-75e5f5dbeb6c",
   "metadata": {},
   "source": [
    "##### Question Number 02)\n",
    "If a customer buys more than 5 items apply 15% discount on the total price otherwise no discount is applied, display the total price as it is."
   ]
  },
  {
   "cell_type": "code",
   "execution_count": 8,
   "id": "ae5b0deb-3cc9-482c-ac8c-188ae7b4cb07",
   "metadata": {},
   "outputs": [
    {
     "name": "stdin",
     "output_type": "stream",
     "text": [
      "Enter number of items purchased: 15\n",
      "Enter purchase amount: 7000\n"
     ]
    },
    {
     "name": "stdout",
     "output_type": "stream",
     "text": [
      "Your payable amount is 5950.0\n"
     ]
    }
   ],
   "source": [
    "# Type your code here.\n",
    "\n",
    "items_purchased = int(input(\"Enter number of items purchased:\"))\n",
    "purchase_amount = int(input(\"Enter purchase amount:\"))\n",
    "\n",
    "if items_purchased > 5:\n",
    "    discount = purchase_amount * .15\n",
    "else:\n",
    "    discount = purchase_amount * 0\n",
    "\n",
    "new_amount = purchase_amount - discount\n",
    "\n",
    "print(\"Your payable amount is\", new_amount)"
   ]
  },
  {
   "cell_type": "markdown",
   "id": "2f99a3ad-fe56-4b12-97d2-b28138d30aab",
   "metadata": {},
   "source": [
    "##### Question Number 03)\n",
    "Check if the customer is a member grant 20% discount otherwise no discount for non-member customers. Calculate and print the discounted price."
   ]
  },
  {
   "cell_type": "code",
   "execution_count": 20,
   "id": "b05aaab0-6daa-4f01-b584-5b8e2483d9ae",
   "metadata": {},
   "outputs": [
    {
     "name": "stdin",
     "output_type": "stream",
     "text": [
      "Enter purchase amount 15000\n",
      "Are you a member: yes\n"
     ]
    },
    {
     "name": "stdout",
     "output_type": "stream",
     "text": [
      "Your payable amount is 12000.0\n"
     ]
    }
   ],
   "source": [
    "# Type your code here.\n",
    "\n",
    "purchase_amount = int(input(\"Enter purchase amount\"))\n",
    "member_check = input(\"Are you a member?\").lower()\n",
    "\n",
    "if member_check == \"yes\":\n",
    "    discount = purchase_amount * .20\n",
    "else:\n",
    "    discount = purchase_amount * 0\n",
    "    \n",
    "\n",
    "new_amount = purchase_amount - discount\n",
    "\n",
    "print(\"Your payable amount is\", new_amount)\n",
    "    "
   ]
  },
  {
   "cell_type": "markdown",
   "id": "cd4a5b5f-50dc-4ab2-81e3-77901126b972",
   "metadata": {},
   "source": [
    "##### Question Number 04)\n",
    "If today is holiday then apply 25% discount otherwise apply 10% discount. Calculate and print the discounted price. "
   ]
  },
  {
   "cell_type": "code",
   "execution_count": 21,
   "id": "10c9db74-c54f-4d4f-a129-c8e0d80476eb",
   "metadata": {},
   "outputs": [
    {
     "name": "stdin",
     "output_type": "stream",
     "text": [
      "Enter purchase amount 15000\n",
      "Are you a member: no\n"
     ]
    },
    {
     "name": "stdout",
     "output_type": "stream",
     "text": [
      "Your payable amount is 13500.0\n"
     ]
    }
   ],
   "source": [
    "# Type your code here.\n",
    "\n",
    "purchase_amount = int(input(\"Enter purchase amount\"))\n",
    "holiday_check = input(\"Is today a holiday?\").lower()\n",
    "\n",
    "if holiday_check == \"yes\":\n",
    "    discount = purchase_amount * .25\n",
    "else:\n",
    "    discount = purchase_amount * .10\n",
    "    \n",
    "new_amount = purchase_amount - discount\n",
    "\n",
    "print(\"Your payable amount is\", new_amount)\n",
    "    "
   ]
  },
  {
   "cell_type": "markdown",
   "id": "935c5603-4a35-4848-be50-423f8fc14c0c",
   "metadata": {},
   "source": [
    "##### Question Number 05)\n",
    "If a customer buys an even number of items, they will get half of them for free otherwise they will pay for all. Calculate the number of items customer has to pay for."
   ]
  },
  {
   "cell_type": "code",
   "execution_count": 30,
   "id": "d3cb25d2-c22a-4a94-9ab3-40e99ab652d2",
   "metadata": {},
   "outputs": [
    {
     "name": "stdin",
     "output_type": "stream",
     "text": [
      "Enter number of items purchased 20\n"
     ]
    },
    {
     "name": "stdout",
     "output_type": "stream",
     "text": [
      "you have to pay for 10 items only\n"
     ]
    }
   ],
   "source": [
    "# Type your code here.\n",
    "\n",
    "items_purchased = int(input(\"Enter number of items purchased\"))\n",
    "\n",
    "if items_purchased % 2 == 0:\n",
    "    payable_items = int(items_purchased / 2)\n",
    "    print(\"you have to pay for\", payable_items, \"items only\")\n",
    "else:\n",
    "    print(\"you have to pay for all items\")"
   ]
  },
  {
   "cell_type": "markdown",
   "id": "abee9325-5513-4f9a-9128-a57374442b05",
   "metadata": {},
   "source": [
    "### Tax Calculatiaons:"
   ]
  },
  {
   "cell_type": "markdown",
   "id": "1281a98e-6420-43bf-855a-48ffccb5d5c7",
   "metadata": {},
   "source": [
    "##### Question Number 06)\n",
    "If the price of an item is greater than $500, apply luxury tax of 15% otherwise apply a standard tax of 8%. Calculate and print the price after tax."
   ]
  },
  {
   "cell_type": "code",
   "execution_count": 32,
   "id": "91565669-2f50-424b-953c-e568925b9ab4",
   "metadata": {},
   "outputs": [
    {
     "name": "stdin",
     "output_type": "stream",
     "text": [
      "Enter price of item 520\n"
     ]
    },
    {
     "name": "stdout",
     "output_type": "stream",
     "text": [
      "The new amount after tax is 598.0\n"
     ]
    }
   ],
   "source": [
    "# Type your code here.\n",
    "\n",
    "item_price = int(input(\"Enter price of item\"))\n",
    "\n",
    "if item_price > 500:\n",
    "    tax = item_price * .15\n",
    "else:\n",
    "    tax = item_price * .08\n",
    "\n",
    "new_amount = item_price + tax\n",
    "\n",
    "print(\"The new amount after tax is\", new_amount)"
   ]
  },
  {
   "cell_type": "markdown",
   "id": "cfe0fade-f40e-45c5-9de1-aa12f7526fe4",
   "metadata": {},
   "source": [
    "##### Question Number 07)\n",
    "If a person's income is above Rs.50000 deduct 20% of income as for tax otherwise deduct 10% of income for tax. No tax deduction for income below Rs.10000. Calculate and display the tax amount and net income of the person."
   ]
  },
  {
   "cell_type": "code",
   "execution_count": 38,
   "id": "acea18aa-4b14-487a-b215-e80355354e9e",
   "metadata": {},
   "outputs": [
    {
     "name": "stdin",
     "output_type": "stream",
     "text": [
      "Enter your income 25000\n"
     ]
    },
    {
     "name": "stdout",
     "output_type": "stream",
     "text": [
      "The tax amount on your income is 2500.0\n",
      "Your net income is 22500.0\n"
     ]
    }
   ],
   "source": [
    "# Type your code here.\n",
    "\n",
    "emp_income = int(input(\"Enter your income\"))\n",
    "\n",
    "if emp_income > 50000:\n",
    "    tax = emp_income * .20\n",
    "elif emp_income > 10000:\n",
    "    tax = emp_income * .10\n",
    "else:\n",
    "    tax = 0\n",
    "\n",
    "new_income = emp_income - tax\n",
    "\n",
    "print(\"The tax amount on your income is\", tax)\n",
    "print(\"Your net income is\", new_income)"
   ]
  },
  {
   "cell_type": "markdown",
   "id": "c3f9e4a9-62de-400c-b3e7-484ff9bfb1d7",
   "metadata": {},
   "source": [
    "##### Question Number 08)\n",
    "Write a program to categorize a person into tax brackets:\n",
    "* income < Rs.30000 = Low Tax\n",
    "* Rs.30000 <= income < Rs.100000 = Medium Tax\n",
    "* income >= Rs.100000 = High Tax"
   ]
  },
  {
   "cell_type": "code",
   "execution_count": 40,
   "id": "a029d150-a1a5-42e2-a483-468606987bb7",
   "metadata": {},
   "outputs": [
    {
     "name": "stdin",
     "output_type": "stream",
     "text": [
      "Enter your income 25000\n"
     ]
    },
    {
     "name": "stdout",
     "output_type": "stream",
     "text": [
      "Low Tax\n"
     ]
    }
   ],
   "source": [
    "# Type your code here.\n",
    "\n",
    "income = int(input(\"Enter your income\"))\n",
    "\n",
    "if income >= 100000:\n",
    "    print(\"High Tax\")\n",
    "elif emp_income > 30000:\n",
    "    print(\"Medium Tax\")\n",
    "else:\n",
    "    print(\"Low Tax\")"
   ]
  },
  {
   "cell_type": "markdown",
   "id": "83d86eea-b6e7-4f2f-9fb8-1ba594a54c7b",
   "metadata": {},
   "source": [
    "##### Question Number 09)\n",
    "If the item is marked as essential, apply a VAT of 5% otherwise apply VAT of 12%. Calculate and display the tax value and price after tax."
   ]
  },
  {
   "cell_type": "code",
   "execution_count": 45,
   "id": "7673fcf5-ffde-402d-908d-230b0742db61",
   "metadata": {},
   "outputs": [
    {
     "name": "stdin",
     "output_type": "stream",
     "text": [
      "Enter item amount 1200\n",
      "Is the item essential? yes\n"
     ]
    },
    {
     "name": "stdout",
     "output_type": "stream",
     "text": [
      "Tax amount on item is 60.0\n",
      "Your payable amount is 1260.0\n"
     ]
    }
   ],
   "source": [
    "# Type your code here.\n",
    "\n",
    "purchase_amount = int(input(\"Enter item amount\"))\n",
    "item_check = input(\"Is the item essential?\").lower()\n",
    "\n",
    "if item_check == \"yes\":\n",
    "    tax = purchase_amount * .05\n",
    "else:\n",
    "    tax = purchase_amount * .12\n",
    "    \n",
    "\n",
    "new_amount = purchase_amount + tax\n",
    "\n",
    "print(\"Tax amount on item is\", tax)\n",
    "print(\"Your payable amount is\", new_amount)\n",
    "    "
   ]
  },
  {
   "cell_type": "markdown",
   "id": "2dcc9a1e-a3e2-478e-b66e-dd9ba176164d",
   "metadata": {},
   "source": [
    "##### Question Number 10)\n",
    "If today is a tax free day, display the original price otherwise add a 7% tax."
   ]
  },
  {
   "cell_type": "code",
   "execution_count": 47,
   "id": "593a479d-9f1c-45c2-af93-91d86201573b",
   "metadata": {},
   "outputs": [
    {
     "name": "stdin",
     "output_type": "stream",
     "text": [
      "Enter purchase amount 500\n",
      "Is today a tax free day? yes\n"
     ]
    },
    {
     "name": "stdout",
     "output_type": "stream",
     "text": [
      "Tax amount on item is 0\n",
      "Your payable amount is 500\n"
     ]
    }
   ],
   "source": [
    "# Type your code here.\n",
    "\n",
    "purchase_amount = int(input(\"Enter purchase amount\"))\n",
    "item_check = input(\"Is today a tax free day?\").lower()\n",
    "\n",
    "if item_check == \"yes\":\n",
    "    tax = purchase_amount * 0\n",
    "else:\n",
    "    tax = purchase_amount * .07\n",
    "    \n",
    "\n",
    "new_amount = purchase_amount + tax\n",
    "\n",
    "print(\"Tax amount on item is\", tax)\n",
    "print(\"Your payable amount is\", new_amount)\n",
    "    "
   ]
  },
  {
   "cell_type": "markdown",
   "id": "e4f357ab-39c5-4220-a610-dc17501e9d2a",
   "metadata": {},
   "source": [
    "### Shopping and Billing:"
   ]
  },
  {
   "cell_type": "markdown",
   "id": "567cf9e7-2874-494e-9dd3-ad048c39f18e",
   "metadata": {},
   "source": [
    "##### Question Number 11)\n",
    "If the total purchase amount is more than Rs.500, offer free shipping otherwise charge Rs.50 for shipping. Display the total amount including shipping amount."
   ]
  },
  {
   "cell_type": "code",
   "execution_count": 59,
   "id": "2708fa94-bc6c-4641-a0a5-959e750e3954",
   "metadata": {},
   "outputs": [
    {
     "name": "stdin",
     "output_type": "stream",
     "text": [
      "Enter purchase amount 150\n"
     ]
    },
    {
     "name": "stdout",
     "output_type": "stream",
     "text": [
      "You will not get free shipping your total amount with shipping is 200\n"
     ]
    }
   ],
   "source": [
    "# Type your code here.\n",
    "\n",
    "purchase_amount = int(input(\"Enter purchase amount\"))\n",
    "shipping = 50\n",
    "total_amount = purchase_amount + shipping\n",
    "\n",
    "if purchase_amount > 500:\n",
    "    print(\"You will get free shipping your total amount with shipping is\", purchase_amount)\n",
    "else:\n",
    "    print(\"You will not get free shipping your total amount with shipping is\", total_amount)\n",
    "\n"
   ]
  },
  {
   "cell_type": "markdown",
   "id": "c8fc6574-db93-4455-b082-7ffe1a246057",
   "metadata": {},
   "source": [
    "##### Question Number 12)\n",
    "If a customer enters the correct discount code, apply 10% discount on the purchase otherwise no discount. Display the discount amount and purchase amount after discount. "
   ]
  },
  {
   "cell_type": "code",
   "execution_count": 66,
   "id": "95cf6906-edd8-4ba3-95aa-3a5d27864e33",
   "metadata": {},
   "outputs": [
    {
     "name": "stdin",
     "output_type": "stream",
     "text": [
      "Enter purchase amount 5000\n",
      "Enter discount code 9999\n"
     ]
    },
    {
     "name": "stdout",
     "output_type": "stream",
     "text": [
      "your payable amount after discount is 4500.0\n"
     ]
    }
   ],
   "source": [
    "# Type your code here.\n",
    "\n",
    "discount_codes = [1790, 1112, 1177, 7999, 9999]\n",
    "\n",
    "purchase_amount = int(input(\"Enter purchase amount\"))\n",
    "disc_code = int(input(\"Enter discount code\"))\n",
    "\n",
    "if disc_code in discount_codes:\n",
    "    discount = purchase_amount * .10\n",
    "    new_amount = purchase_amount - discount\n",
    "    print(\"your payable amount after discount is\", new_amount)\n",
    "else:\n",
    "    discount = 0\n",
    "    print(\"your payable amount without discount is\", new_amount)\n",
    "\n"
   ]
  },
  {
   "cell_type": "markdown",
   "id": "90639762-a7d1-45db-8a09-8f757484d756",
   "metadata": {},
   "source": [
    "##### Question Number 13)\n",
    "Apply discount based on the total price.\n",
    "* Rs.0 - Rs.50 = No discount\n",
    "* Rs.50 - Rs.100 = 10% discount\n",
    "* Over Rs.100 = 20% discount"
   ]
  },
  {
   "cell_type": "code",
   "execution_count": 70,
   "id": "67d3a0c0-a95e-49df-b46e-a085fd2e660c",
   "metadata": {},
   "outputs": [
    {
     "name": "stdin",
     "output_type": "stream",
     "text": [
      "Enter total price 150\n"
     ]
    },
    {
     "name": "stdout",
     "output_type": "stream",
     "text": [
      "your discount amount is 30.0\n",
      "Your payable amount is 120.0\n"
     ]
    }
   ],
   "source": [
    "# Type your code here.\n",
    "\n",
    "total_price = int(input(\"Enter total price\"))\n",
    "\n",
    "if total_price > 100:\n",
    "    discount = total_price * .20\n",
    "elif total_price >= 50 and total_price <= 100:\n",
    "    discount = total_price * .10\n",
    "else:\n",
    "    discount = 0\n",
    "\n",
    "new_price = total_price - discount\n",
    "\n",
    "print(\"your discount amount is\", discount)\n",
    "print(\"Your payable amount is\", new_price)"
   ]
  }
 ],
 "metadata": {
  "kernelspec": {
   "display_name": "Python 3 (ipykernel)",
   "language": "python",
   "name": "python3"
  },
  "language_info": {
   "codemirror_mode": {
    "name": "ipython",
    "version": 3
   },
   "file_extension": ".py",
   "mimetype": "text/x-python",
   "name": "python",
   "nbconvert_exporter": "python",
   "pygments_lexer": "ipython3",
   "version": "3.13.5"
  }
 },
 "nbformat": 4,
 "nbformat_minor": 5
}
