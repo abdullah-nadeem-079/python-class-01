{
 "cells": [
  {
   "cell_type": "markdown",
   "id": "f74d329c-0f25-46fe-8a6a-91be4668060d",
   "metadata": {},
   "source": [
    "## Today's Topics:\n",
    "* Loops\n",
    "    * For-in loop\n",
    "    * Conditional Statements in for-in loop\n",
    "        * if/else statements in for-in loop\n",
    "    * Control Statements in for-in loop\n",
    "        * Continue/Break Statements"
   ]
  },
  {
   "cell_type": "markdown",
   "id": "824bc1e0-7750-4455-abf9-9f6a03708015",
   "metadata": {},
   "source": [
    "#### For in loop:"
   ]
  },
  {
   "cell_type": "code",
   "execution_count": 13,
   "id": "564e4ef9-b872-4d03-82b8-5047b31584a4",
   "metadata": {},
   "outputs": [],
   "source": [
    "students = [\"Asad\", \"Farooq\", \"Shayan\", \"Hashir\", \"Talha\", \"Uzair\", \"Amir\", \"Mutahar\"]"
   ]
  },
  {
   "cell_type": "code",
   "execution_count": 7,
   "id": "b3566b0c-c6f1-498b-adba-5ab4764f5b58",
   "metadata": {},
   "outputs": [
    {
     "name": "stdout",
     "output_type": "stream",
     "text": [
      "Hello Asad\n",
      "Hello Farooq\n",
      "Hello Shayan\n",
      "Hello Hashir\n",
      "Hello Talha\n",
      "Hello Uzair\n",
      "Hello Amir\n",
      "Hello Mutahar\n"
     ]
    }
   ],
   "source": [
    "# direct iteration over list\n",
    "\n",
    "for student in students:\n",
    "    print(f\"Hello {student}\")"
   ]
  },
  {
   "cell_type": "code",
   "execution_count": 16,
   "id": "3985dd80-2b34-445f-92c8-913d67530b0d",
   "metadata": {},
   "outputs": [
    {
     "name": "stdout",
     "output_type": "stream",
     "text": [
      "0 Asad\n",
      "1 Farooq\n",
      "2 Shayan\n",
      "3 Hashir\n",
      "4 Talha\n",
      "5 Uzair\n",
      "6 Amir\n",
      "7 Mutahar\n"
     ]
    }
   ],
   "source": [
    "# iterating over list using index\n",
    "\n",
    "for n in range(8): # use len(collection) if don't know tha range\n",
    "    print(n, students[n])"
   ]
  },
  {
   "cell_type": "code",
   "execution_count": 17,
   "id": "09eb895b-af6a-40b2-883f-eceb80114a5f",
   "metadata": {},
   "outputs": [
    {
     "name": "stdout",
     "output_type": "stream",
     "text": [
      "Mutahar\n",
      "Amir\n",
      "Uzair\n",
      "Talha\n",
      "Hashir\n",
      "Shayan\n",
      "Farooq\n",
      "Asad\n"
     ]
    }
   ],
   "source": [
    "# reverse the iteration in list using negative index slicing\n",
    "\n",
    "for student in students[::-1]:\n",
    "    print(student)"
   ]
  },
  {
   "cell_type": "code",
   "execution_count": 14,
   "id": "d31ada4b-3a56-4bb4-b7ed-84f00d84ff59",
   "metadata": {},
   "outputs": [
    {
     "name": "stdout",
     "output_type": "stream",
     "text": [
      "1 Asad\n",
      "2 Farooq\n",
      "3 Shayan\n",
      "4 Hashir\n",
      "5 Talha\n",
      "6 Uzair\n",
      "7 Amir\n",
      "8 Mutahar\n"
     ]
    }
   ],
   "source": [
    "# add numbering to iteration using enumerate() function\n",
    "\n",
    "for number, student in enumerate(students, start = 1):\n",
    "    print(number, student)"
   ]
  },
  {
   "cell_type": "code",
   "execution_count": 14,
   "id": "2f8e6349-2a0f-437b-ad29-8eb9f13119ec",
   "metadata": {},
   "outputs": [
    {
     "name": "stdin",
     "output_type": "stream",
     "text": [
      "Enter guest name Abdullah\n",
      "Enter guest name Ali\n",
      "Enter guest name Ezaan\n",
      "Enter guest name Ibrahim\n",
      "Enter guest name Musa\n"
     ]
    },
    {
     "name": "stdout",
     "output_type": "stream",
     "text": [
      "['Abdullah', 'Ali', 'Ezaan', 'Ibrahim', 'Musa']\n"
     ]
    }
   ],
   "source": [
    "# get input in list with iteration using range function\n",
    "\n",
    "guests = []\n",
    "\n",
    "for barati in range(5):\n",
    "    name = input(\"Enter guest name\")\n",
    "    guests.append(name)\n",
    "print(guests)"
   ]
  },
  {
   "cell_type": "code",
   "execution_count": 12,
   "id": "22056fa5-e034-466b-83b6-2ca41585586e",
   "metadata": {},
   "outputs": [
    {
     "name": "stdin",
     "output_type": "stream",
     "text": [
      "How many guest 3\n",
      "Enter guest name oo\n",
      "Enter guest name pp\n",
      "Enter guest name ll\n"
     ]
    },
    {
     "name": "stdout",
     "output_type": "stream",
     "text": [
      "['oo', 'pp', 'll']\n"
     ]
    }
   ],
   "source": [
    "# get input in list with iteration using range function\n",
    "\n",
    "guests = []\n",
    "n = int(input(\"How many guest\"))\n",
    "\n",
    "for barati in range(n):\n",
    "    name = input(\"Enter guest name\")\n",
    "    guests.append(name)\n",
    "print(guests)"
   ]
  },
  {
   "cell_type": "markdown",
   "id": "e473f1f9-087d-45d9-8adb-5a4773b7e896",
   "metadata": {},
   "source": [
    "#### Conditional Statementes in loop:"
   ]
  },
  {
   "cell_type": "code",
   "execution_count": 4,
   "id": "0c3d61d3-898c-48fd-9409-5737da022182",
   "metadata": {},
   "outputs": [
    {
     "name": "stdout",
     "output_type": "stream",
     "text": [
      "Asad Kal apko zaroor ana hai\n",
      "Farooq Kal apki chutti hai\n",
      "Shayan Kal apki chutti hai\n",
      "Hashir Kal apki chutti hai\n",
      "Talha Kal apko zaroor ana hai\n",
      "Uzair Kal apko zaroor ana hai\n",
      "Amir Kal apko zaroor ana hai\n",
      "Mutahar Kal apki chutti hai\n"
     ]
    }
   ],
   "source": [
    "for student in students:\n",
    "    if len(student)>5:\n",
    "        print(student, \"Kal apki chutti hai\")\n",
    "    else:\n",
    "        print(student, \"Kal apko zaroor ana hai\")"
   ]
  },
  {
   "cell_type": "markdown",
   "id": "4ceccce0-ea99-4bc1-bee9-e7077f32b7ac",
   "metadata": {},
   "source": [
    "#### Break Statememt:"
   ]
  },
  {
   "cell_type": "code",
   "execution_count": 9,
   "id": "b877b6e5-7a16-4986-8420-f502859ff69a",
   "metadata": {},
   "outputs": [
    {
     "name": "stdout",
     "output_type": "stream",
     "text": [
      "Asad\n",
      "Farooq\n",
      "Shayan\n",
      "Hashir\n"
     ]
    }
   ],
   "source": [
    "for student in students:\n",
    "    if student == \"Talha\":\n",
    "        break\n",
    "    else:\n",
    "        print(student)\n",
    "\n"
   ]
  },
  {
   "cell_type": "markdown",
   "id": "815afe1a-a28f-4d0f-a52d-b266480a9cca",
   "metadata": {},
   "source": [
    "#### Continue Statement:"
   ]
  },
  {
   "cell_type": "code",
   "execution_count": 15,
   "id": "9975a5b1-b3b6-4e1b-90f3-ec1bf5f65e1a",
   "metadata": {},
   "outputs": [
    {
     "name": "stdout",
     "output_type": "stream",
     "text": [
      "0\n",
      "1\n",
      "2\n",
      "3\n",
      "4\n",
      "6\n",
      "7\n",
      "8\n",
      "9\n"
     ]
    }
   ],
   "source": [
    "for a in range(10):\n",
    "    if a == 5:\n",
    "        continue\n",
    "    else:\n",
    "        print(a)"
   ]
  },
  {
   "cell_type": "code",
   "execution_count": 22,
   "id": "91769009-3304-4fdb-b349-b6ebb3fd0322",
   "metadata": {},
   "outputs": [
    {
     "name": "stdin",
     "output_type": "stream",
     "text": [
      "Enter dish name biryani\n",
      "Enter dish name pulao\n",
      "Enter dish name kheer\n",
      "Enter dish name fish\n",
      "Enter dish name karhai\n"
     ]
    },
    {
     "data": {
      "text/plain": [
       "['biryani', 'pulao', 'kheer', 'karhai']"
      ]
     },
     "execution_count": 22,
     "metadata": {},
     "output_type": "execute_result"
    }
   ],
   "source": [
    "# using continue statement combined with conditional statement to take input in a empty list\n",
    "\n",
    "menu = []\n",
    "\n",
    "for dish in range(5):\n",
    "    dish = input(\"Enter dish name\").lower() # .lower to prevent entry of specified word in any case\n",
    "    if dish == \"fish\":\n",
    "        continue\n",
    "    else:\n",
    "        menu.append(dish)\n",
    "\n",
    "menu"
   ]
  },
  {
   "cell_type": "code",
   "execution_count": 23,
   "id": "0609b21b-8970-414d-b54f-6428dbcb0d47",
   "metadata": {},
   "outputs": [
    {
     "name": "stdin",
     "output_type": "stream",
     "text": [
      "biryani for 300 people 250\n",
      "karhai for 300 people 150\n",
      "fishseekh boti for 300 people 300\n",
      "labey sherein for 300 people 950\n"
     ]
    },
    {
     "data": {
      "text/plain": [
       "{'biryani': '250',\n",
       " 'karhai': '150',\n",
       " 'fishseekh boti': '300',\n",
       " 'labey sherein': '950'}"
      ]
     },
     "execution_count": 23,
     "metadata": {},
     "output_type": "execute_result"
    }
   ],
   "source": [
    "# using loops over dictionary, taking input from user\n",
    "\n",
    "rates = {}\n",
    "items = [\"biryani\", \"karhai\", \"fish\" \"seekh boti\", \"labey sherein\" ]\n",
    "\n",
    "for i in items:\n",
    "    quantity = input(f\"{i} for 300 people\")\n",
    "    rates[i] = quantity\n",
    "rates"
   ]
  },
  {
   "cell_type": "code",
   "execution_count": 8,
   "id": "f680fe73-5fa4-4f2c-b2f2-efee0c86e3ad",
   "metadata": {},
   "outputs": [
    {
     "name": "stdin",
     "output_type": "stream",
     "text": [
      "how much for charger 4\n",
      "how much for handfree 4\n",
      "how much for usb 4\n",
      "how much for datacable 4\n",
      "how much for powerbank 4\n",
      "how much for mouse 4\n",
      "how much for keyboard 4\n",
      "how much for mobilecover 4\n"
     ]
    },
    {
     "name": "stdout",
     "output_type": "stream",
     "text": [
      "Individual rates of items {'charger': 4, 'handfree': 4, 'usb': 4, 'datacable': 4, 'powerbank': 4, 'mouse': 4, 'keyboard': 4, 'mobilecover': 4}\n",
      "The total cost for these items is 32\n"
     ]
    }
   ],
   "source": [
    "item = [\"charger\", \"handfree\", \"usb\", \"datacable\", \"powerbank\", \"mouse\", \"keyboard\", \"mobilecover\"]\n",
    "rates = {}\n",
    "\n",
    "for i in item:\n",
    "    price = int(input(f\"how much for {i}\"))\n",
    "    rates[i] = price\n",
    "\n",
    "total = sum(rates.values())\n",
    "\n",
    "print(\"Individual rates of items\", rates)\n",
    "print(\"The total cost for these items is\", total)"
   ]
  }
 ],
 "metadata": {
  "kernelspec": {
   "display_name": "Python 3 (ipykernel)",
   "language": "python",
   "name": "python3"
  },
  "language_info": {
   "codemirror_mode": {
    "name": "ipython",
    "version": 3
   },
   "file_extension": ".py",
   "mimetype": "text/x-python",
   "name": "python",
   "nbconvert_exporter": "python",
   "pygments_lexer": "ipython3",
   "version": "3.13.5"
  }
 },
 "nbformat": 4,
 "nbformat_minor": 5
}
