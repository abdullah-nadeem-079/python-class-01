{
 "cells": [
  {
   "cell_type": "markdown",
   "id": "254f40c8-e86e-4315-9ece-4ea52f43e0af",
   "metadata": {},
   "source": [
    "## Today's Topics:\n",
    "* Functions:\n",
    "    * Python Functions (built-in)\n",
    "    * Class Functions (inside-class)\n",
    "    * User Defined Functions"
   ]
  },
  {
   "cell_type": "markdown",
   "id": "a69f5020-5a72-44dd-98e4-61f08308c1fe",
   "metadata": {},
   "source": [
    "### User Defined Functions:"
   ]
  },
  {
   "cell_type": "code",
   "execution_count": 2,
   "id": "e1c78ed2-dc5e-4d45-85b5-e965b6bb91cf",
   "metadata": {},
   "outputs": [],
   "source": [
    "# syntax\n",
    "def function_name():\n",
    "    print(\"hello_python\")"
   ]
  },
  {
   "cell_type": "code",
   "execution_count": 6,
   "id": "f684986b-f4fb-42be-a288-3c68ae9c833d",
   "metadata": {},
   "outputs": [
    {
     "name": "stdout",
     "output_type": "stream",
     "text": [
      "Hello\n"
     ]
    }
   ],
   "source": [
    "# function defined\n",
    "def say_hello():\n",
    "    print(\"Hello\")\n",
    "\n",
    "# function call\n",
    "say_hello()"
   ]
  },
  {
   "cell_type": "code",
   "execution_count": 8,
   "id": "d75958a3-a54d-4aa3-861e-5a6f52f478a3",
   "metadata": {},
   "outputs": [
    {
     "name": "stdout",
     "output_type": "stream",
     "text": [
      "30\n"
     ]
    }
   ],
   "source": [
    "# function defined\n",
    "def add():\n",
    "    a = 10\n",
    "    b = 20\n",
    "    print(a + b)\n",
    "\n",
    "# function call\n",
    "add()"
   ]
  },
  {
   "cell_type": "code",
   "execution_count": 10,
   "id": "47e19d65-7181-456f-ad87-60d381cfcd82",
   "metadata": {},
   "outputs": [
    {
     "name": "stdout",
     "output_type": "stream",
     "text": [
      "Welcome Abdullah\n"
     ]
    }
   ],
   "source": [
    "# defining a parameterized function\n",
    "def say_greetings(name):\n",
    "    print(f\"We    lcome {name}\")\n",
    "\n",
    "# parameterized function call\n",
    "say_greetings(\"Abdullah\")"
   ]
  },
  {
   "cell_type": "code",
   "execution_count": 11,
   "id": "165d55e5-bda8-486a-be47-b9a84fcf2bb3",
   "metadata": {},
   "outputs": [
    {
     "name": "stdout",
     "output_type": "stream",
     "text": [
      "40\n"
     ]
    }
   ],
   "source": [
    "# defining a parameterized function with positional arguments\n",
    "def multiply(a, b):\n",
    "    print(a * b)\n",
    "\n",
    "# function call\n",
    "multiply(5, 8)"
   ]
  },
  {
   "cell_type": "code",
   "execution_count": 2,
   "id": "33458340-cb81-480a-ae8e-4ef1cc366c75",
   "metadata": {},
   "outputs": [],
   "source": [
    "# Write a program that takes a string as an argument and analyze str len, alphabets, spaces, numbers, uuppercase, lowercase, punctuation, vowels, words, sentence, paragraphs.\n",
    "\n",
    "txt = \"\"\"The quick brown fox jumps over 13 lazy dogs. It’s a classic pangram, isn’t it? Well, not exactly—it omits some things: digits, for example. Let's add a few: 1234567890. Now, it's starting to look more diverse.\n",
    "\n",
    "Amazingly, the sky at 5:45 a.m. was painted in shades of orange, purple, and pink. Birds chirped, the wind whispered, and somewhere far off, a car honked twice—beep beep. The world, even in silence, speaks volumes.\n",
    "\n",
    "Do you ever wonder why \"queue\" has four silent letters? Or why “knight” starts with a ‘K’? English can be strange, complex, even illogical at times. Yet, it’s fascinating—full of history, nuance, and evolution.\"\"\""
   ]
  },
  {
   "cell_type": "code",
   "execution_count": 3,
   "id": "d6d8c596-f31d-4a52-9244-3a8aa11c06ae",
   "metadata": {},
   "outputs": [],
   "source": [
    "# Type your code here\n",
    "\n",
    "def text_analyzer(txt):\n",
    "\n",
    "    vow = \"AEIOUaeiou\"\n",
    "    punc = '!\"#$%&\\'()*+,-./:;<=>?@[\\\\]^_`{|}~'\n",
    "\n",
    "    length = len(txt)\n",
    "    words = len(txt.split(\" \"))\n",
    "    sentences = len(txt.split(\".\"))\n",
    "    paragraphs = len(txt.split(\"/n\"))\n",
    "\n",
    "    alphabets = 0\n",
    "    spaces = 0\n",
    "    numbers = 0\n",
    "    uppercase = 0\n",
    "    lowercase = 0\n",
    "    punctuation = 0\n",
    "    vowels = 0\n",
    "    others = 0\n",
    "    show_others = \"\"\n",
    "    show_punc = \"\"\n",
    "\n",
    "    for char in txt:\n",
    "        if char.isalpha():\n",
    "            alphabets += 1\n",
    "            if char.isupper():\n",
    "                uppercase += 1\n",
    "            else:\n",
    "                lowercase += 1\n",
    "            if char in vow:\n",
    "                vowels += 1\n",
    "        elif char.isspace():\n",
    "            spaces += 1\n",
    "        elif char.isnumeric():\n",
    "            numbers += 1\n",
    "        elif char in punc:\n",
    "            punctuation += 1\n",
    "            show_punc += char\n",
    "        else:\n",
    "            others += 1\n",
    "            show_others += char\n",
    "\n",
    "    print(f\"\"\"\n",
    "length of txt is {length}\n",
    "words in txt are {words}\n",
    "sentences in txt are {sentences}\n",
    "paragraphs in txt are {paragraphs}\n",
    "alphabets in txt are {alphabets}\n",
    "spaces in txt are {spaces}\n",
    "numbers in txt are {numbers}\n",
    "uppercase in txt are {uppercase}\n",
    "lowercase in txt are {lowercase}\n",
    "punctuation in txt are {punctuation}\n",
    "vowels in txt are {vowels}\n",
    "others in txt are {others}\n",
    "the other charecters in txt are {show_others}\n",
    "the punctuation in txt are {show_punc}\n",
    "\n",
    "\"\"\")\n",
    "    \n",
    "    \n",
    "    \n",
    "    \n",
    "\n",
    "    \n",
    "        "
   ]
  },
  {
   "cell_type": "code",
   "execution_count": 71,
   "id": "2a1fa216-61bc-4133-9909-596b1ec7f0b4",
   "metadata": {},
   "outputs": [
    {
     "name": "stdout",
     "output_type": "stream",
     "text": [
      "\n",
      "length of txt is 637\n",
      "words in txt are 104\n",
      "sentences in txt are 12\n",
      "paragraphs in txt are 1\n",
      "alphabets in txt are 467\n",
      "spaces in txt are 107\n",
      "numbers in txt are 15\n",
      "uppercase in txt are 13\n",
      "lowercase in txt are 454\n",
      "punctuation in txt are 38\n",
      "vowels in txt are 168\n",
      "others in txt are 10\n",
      "the other charecters in txt are ’’——“”‘’’—\n",
      "the punctuation in txt are .,?,:,.':.,'.,:..,,.,,,.,,.\"\"??,,.,,,.\n",
      "\n",
      "\n"
     ]
    }
   ],
   "source": [
    "text_analyzer(txt)"
   ]
  },
  {
   "cell_type": "code",
   "execution_count": 16,
   "id": "45f0f307-23ef-4bac-8994-c27fec95e08d",
   "metadata": {},
   "outputs": [],
   "source": [
    "import string"
   ]
  },
  {
   "cell_type": "code",
   "execution_count": 18,
   "id": "ec020a94-16c6-4daf-a296-4a5d91e2a568",
   "metadata": {},
   "outputs": [
    {
     "data": {
      "text/plain": [
       "'!\"#$%&\\'()*+,-./:;<=>?@[\\\\]^_`{|}~'"
      ]
     },
     "execution_count": 18,
     "metadata": {},
     "output_type": "execute_result"
    }
   ],
   "source": [
    "string.punctuation"
   ]
  }
 ],
 "metadata": {
  "kernelspec": {
   "display_name": "Python 3 (ipykernel)",
   "language": "python",
   "name": "python3"
  },
  "language_info": {
   "codemirror_mode": {
    "name": "ipython",
    "version": 3
   },
   "file_extension": ".py",
   "mimetype": "text/x-python",
   "name": "python",
   "nbconvert_exporter": "python",
   "pygments_lexer": "ipython3",
   "version": "3.13.5"
  }
 },
 "nbformat": 4,
 "nbformat_minor": 5
}
