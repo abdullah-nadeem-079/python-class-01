{
 "cells": [
  {
   "cell_type": "markdown",
   "id": "b354fb79-eff7-4dd5-baa6-0ebd3395bd8b",
   "metadata": {},
   "source": [
    "## Today's Topics:\n",
    "* Data Structures\n",
    "  * Dictionary\n",
    "  * Tuple\n",
    "  * Set\n",
    "* Collections"
   ]
  },
  {
   "cell_type": "markdown",
   "id": "8b31bf77-60ac-4d96-a853-99f13b434989",
   "metadata": {},
   "source": [
    "### Dictionary:\n",
    "A dictionary in Python is an unordered, mutable collection of key-value pairs, where each key is unique and maps to a value.\n",
    "* structure = {key1:value1, key2:value2, key3:value3,...}\n",
    "* keys: unique and immutable (e.g str, int, tuples)\n",
    "* values: any data type and allow duplicates\n",
    "* Mutable: can change, add or remmove key value pairs\n",
    "* unordered: not arranged sequently\n",
    "* Access: using square brackets dict[key]\n",
    "* Iterable: loops are allowed\n",
    "* Indexing: not allowed"
   ]
  },
  {
   "cell_type": "markdown",
   "id": "4dfec87c-6967-49a2-8c9b-1165165b78ec",
   "metadata": {},
   "source": [
    "#### Creating a Dictionary:"
   ]
  },
  {
   "cell_type": "code",
   "execution_count": 45,
   "id": "f6a398d6-6c51-4d2d-9bea-5c8e38fc488b",
   "metadata": {},
   "outputs": [
    {
     "name": "stdout",
     "output_type": "stream",
     "text": [
      "{'Name': 'Anas', 'Age': 23, 'City': 'Karachi', 'Gender': 'Male'}\n",
      "<class 'dict'>\n",
      "length of record1 is 4\n"
     ]
    }
   ],
   "source": [
    "record1 = {\"Name\": \"Anas\", \"Age\":23, \"City\":\"Karachi\", \"Gender\":\"Male\"}\n",
    "meta1 = {\"Height\": 5.7 ,\"Blood Group\": \"B+\", \"Married\":\"Yes\"}\n",
    "print(record1)\n",
    "print(type(record1))\n",
    "print(\"length of record1 is\", len(record1))"
   ]
  },
  {
   "cell_type": "markdown",
   "id": "27540ef6-48d5-4807-972d-6ee5b1abdef4",
   "metadata": {},
   "source": [
    "#### Adding a new key:value pair:"
   ]
  },
  {
   "cell_type": "code",
   "execution_count": 30,
   "id": "add7740b-79b5-4c80-bc1e-03f0fe5b321b",
   "metadata": {},
   "outputs": [
    {
     "data": {
      "text/plain": [
       "{'Name': 'Anas',\n",
       " 'Age': 23,\n",
       " 'City': 'Karachi',\n",
       " 'Gender': 'Male',\n",
       " 'Father Name': 'Nadeem',\n",
       " 'Contact': '+92 3142270474',\n",
       " 'Qualification': 'BS'}"
      ]
     },
     "execution_count": 30,
     "metadata": {},
     "output_type": "execute_result"
    }
   ],
   "source": [
    "record1[\"Father Name\"] = \"Nadeem\"\n",
    "record1[\"Contact\"] = \"+92 3142270474\"\n",
    "record1 [\"Qualification\"] = \"BS\"\n",
    "record1"
   ]
  },
  {
   "cell_type": "markdown",
   "id": "e0088282-61e6-4af0-b274-6fb7343355f0",
   "metadata": {},
   "source": [
    "#### Updating a key:value pair: (If a key already exist it will update it's value)"
   ]
  },
  {
   "cell_type": "code",
   "execution_count": 31,
   "id": "39da302f-5318-43d2-b78d-76372e98ddb2",
   "metadata": {},
   "outputs": [
    {
     "data": {
      "text/plain": [
       "{'Name': 'Anas',\n",
       " 'Age': 23,\n",
       " 'City': 'Karachi',\n",
       " 'Gender': 'Male',\n",
       " 'Father Name': 'Nadeem Ahmed',\n",
       " 'Contact': '+92 3142270474',\n",
       " 'Qualification': 'BS'}"
      ]
     },
     "execution_count": 31,
     "metadata": {},
     "output_type": "execute_result"
    }
   ],
   "source": [
    "record1[\"Father Name\"] = \"Nadeem Ahmed\"\n",
    "record1"
   ]
  },
  {
   "cell_type": "markdown",
   "id": "954bcffa-36c5-4adf-acf5-63d05861aff0",
   "metadata": {},
   "source": [
    "#### Accessing values using keys:"
   ]
  },
  {
   "cell_type": "code",
   "execution_count": 19,
   "id": "4e24dc43-42fa-48ea-a3e9-21273a712a10",
   "metadata": {},
   "outputs": [
    {
     "name": "stdout",
     "output_type": "stream",
     "text": [
      "Anas\n",
      "Nadeem Ahmed\n"
     ]
    }
   ],
   "source": [
    "print(record1[\"Name\"]) \n",
    "print(record1[\"Father Name\"])"
   ]
  },
  {
   "cell_type": "markdown",
   "id": "d52ece65-1c60-4425-b575-e6def9b137ed",
   "metadata": {},
   "source": [
    "#### Deleting key:value pair:"
   ]
  },
  {
   "cell_type": "code",
   "execution_count": 32,
   "id": "78edacc9-6693-4231-ac16-5fe394f516e4",
   "metadata": {},
   "outputs": [
    {
     "data": {
      "text/plain": [
       "{'Name': 'Anas',\n",
       " 'Age': 23,\n",
       " 'City': 'Karachi',\n",
       " 'Father Name': 'Nadeem Ahmed',\n",
       " 'Contact': '+92 3142270474',\n",
       " 'Qualification': 'BS'}"
      ]
     },
     "execution_count": 32,
     "metadata": {},
     "output_type": "execute_result"
    }
   ],
   "source": [
    "del record1[\"Gender\"] \n",
    "record1"
   ]
  },
  {
   "cell_type": "markdown",
   "id": "09e75f70-39dd-487d-8d5e-a33289e76fb9",
   "metadata": {},
   "source": [
    "#### Dictionary Functions:"
   ]
  },
  {
   "cell_type": "code",
   "execution_count": 33,
   "id": "3e7f7b0c-3bb3-4332-940a-e068e9451954",
   "metadata": {},
   "outputs": [
    {
     "data": {
      "text/plain": [
       "'Karachi'"
      ]
     },
     "execution_count": 33,
     "metadata": {},
     "output_type": "execute_result"
    }
   ],
   "source": [
    "record1.pop(\"City\") # remove the specified element from the dict permanently"
   ]
  },
  {
   "cell_type": "code",
   "execution_count": 34,
   "id": "bc46bca0-a428-4d74-9fc5-8d3a9228d649",
   "metadata": {},
   "outputs": [
    {
     "data": {
      "text/plain": [
       "('Qualification', 'BS')"
      ]
     },
     "execution_count": 34,
     "metadata": {},
     "output_type": "execute_result"
    }
   ],
   "source": [
    "record1.popitem() # remove the last element of the dict permanently"
   ]
  },
  {
   "cell_type": "code",
   "execution_count": 36,
   "id": "0acfaf93-620a-4eb0-bfef-90e6a4dc43c3",
   "metadata": {},
   "outputs": [
    {
     "data": {
      "text/plain": [
       "dict_keys(['Name', 'Age', 'Father Name', 'Contact'])"
      ]
     },
     "execution_count": 36,
     "metadata": {},
     "output_type": "execute_result"
    }
   ],
   "source": [
    "record1.keys() # displays all the keys of the dict"
   ]
  },
  {
   "cell_type": "code",
   "execution_count": 38,
   "id": "36a17bf9-609f-492f-8beb-f9ca822f1e1b",
   "metadata": {},
   "outputs": [
    {
     "data": {
      "text/plain": [
       "dict_values(['Anas', 23, 'Nadeem Ahmed', '+92 3142270474'])"
      ]
     },
     "execution_count": 38,
     "metadata": {},
     "output_type": "execute_result"
    }
   ],
   "source": [
    "record1.values() # displays all the values of the dict"
   ]
  },
  {
   "cell_type": "code",
   "execution_count": 39,
   "id": "790c9078-83cc-4902-a538-162ea0dd32fd",
   "metadata": {},
   "outputs": [
    {
     "data": {
      "text/plain": [
       "dict_items([('Name', 'Anas'), ('Age', 23), ('Father Name', 'Nadeem Ahmed'), ('Contact', '+92 3142270474')])"
      ]
     },
     "execution_count": 39,
     "metadata": {},
     "output_type": "execute_result"
    }
   ],
   "source": [
    "record1.items() # displays all the key:value pairs of the dict"
   ]
  },
  {
   "cell_type": "code",
   "execution_count": 44,
   "id": "ddb4e4cd-2b27-4099-bf27-0de42a457783",
   "metadata": {},
   "outputs": [
    {
     "data": {
      "text/plain": [
       "'Anas'"
      ]
     },
     "execution_count": 44,
     "metadata": {},
     "output_type": "execute_result"
    }
   ],
   "source": [
    "record1.get(\"Name\")\n",
    "# displays the value of specified key and if the key isn't available it doesn't show the error"
   ]
  },
  {
   "cell_type": "code",
   "execution_count": 47,
   "id": "4e9b3eb3-908d-4d6c-bf24-dbf5a5a56220",
   "metadata": {},
   "outputs": [
    {
     "data": {
      "text/plain": [
       "{'Name': 'Anas',\n",
       " 'Age': 23,\n",
       " 'City': 'Karachi',\n",
       " 'Gender': 'Male',\n",
       " 'Height': 5.7,\n",
       " 'Blood Group': 'B+',\n",
       " 'Married': 'Yes'}"
      ]
     },
     "execution_count": 47,
     "metadata": {},
     "output_type": "execute_result"
    }
   ],
   "source": [
    "record1.update(meta1) # adds another collection elements one by one\n",
    "record1"
   ]
  },
  {
   "cell_type": "markdown",
   "id": "f7f4c1fd-ab50-4538-963a-c12c903087e8",
   "metadata": {},
   "source": [
    "#### List in dictionary:"
   ]
  },
  {
   "cell_type": "code",
   "execution_count": 76,
   "id": "87ebcf8f-8f32-42cf-b1b6-4b5395bc13a9",
   "metadata": {},
   "outputs": [],
   "source": [
    "students = {\n",
    "            \"Roll_No\": [1,2,3,4,5,6,7,8,9,10],\n",
    "            \"Names\": [\"Asad\", \"Farooq\", \"Shayan\", \"Hashir\", \"Talha\", \"Umar\", \"Asim\", \"Uzair\"], \n",
    "            \"Courses\":[\"AI and DS\",\"Web Dev\", \"Cyber Security\", \"Graphic Design\", \"Video Editing\", \n",
    "                       \"AI and DS\",\"Web Dev\", \"Cyber Security\", \"Graphic Design\", \"Video Editing\"],\n",
    "            \"Marks\": [85,70,92,78,56,79,74,85,90,68]\n",
    "           }"
   ]
  },
  {
   "cell_type": "code",
   "execution_count": 77,
   "id": "8aa50a7b-2946-4997-8b72-df2964540cb2",
   "metadata": {},
   "outputs": [
    {
     "name": "stdout",
     "output_type": "stream",
     "text": [
      "{'Roll_No': [1, 2, 3, 4, 5, 6, 7, 8, 9, 10], 'Names': ['Asad', 'Farooq', 'Shayan', 'Hashir', 'Talha', 'Umar', 'Asim', 'Uzair'], 'Courses': ['AI and DS', 'Web Dev', 'Cyber Security', 'Graphic Design', 'Video Editing', 'AI and DS', 'Web Dev', 'Cyber Security', 'Graphic Design', 'Video Editing'], 'Marks': [85, 70, 92, 78, 56, 79, 74, 85, 90, 68]}\n"
     ]
    }
   ],
   "source": [
    "print(students)"
   ]
  },
  {
   "cell_type": "code",
   "execution_count": 79,
   "id": "8e5f30e5-dac2-43b4-b61f-54cec9c462f1",
   "metadata": {},
   "outputs": [
    {
     "data": {
      "text/plain": [
       "['Asad', 'Farooq', 'Shayan', 'Hashir', 'Talha', 'Umar', 'Asim', 'Uzair']"
      ]
     },
     "execution_count": 79,
     "metadata": {},
     "output_type": "execute_result"
    }
   ],
   "source": [
    "students[\"Names\"]"
   ]
  },
  {
   "cell_type": "code",
   "execution_count": 80,
   "id": "f78e39ca-e83f-4935-8232-2d9237a6c17f",
   "metadata": {},
   "outputs": [
    {
     "data": {
      "text/plain": [
       "[85, 70, 92, 78, 56, 79, 74, 85, 90, 68]"
      ]
     },
     "execution_count": 80,
     "metadata": {},
     "output_type": "execute_result"
    }
   ],
   "source": [
    "students[\"Marks\"]"
   ]
  },
  {
   "cell_type": "markdown",
   "id": "ee1f8dc7-5634-40e2-93d8-08af76af91ca",
   "metadata": {},
   "source": [
    "### Tuple:\n",
    "A tuple is an ordered, immutable collection of elements in Python, defined using parentheses ().\n",
    "* Syntax = tuple_name = (element1, element2, element3, ...)\n",
    "* Ordered: arranged sequently\n",
    "* Immutable: cannot change, add or remmove elements\n",
    "* Access: using square brackets []\n",
    "* Values: allow duplicate values\n",
    "* Data-types: allow all data types (e.g str, int, float etc)\n",
    "* Indexing: supports indexing and slicing like list\n",
    "* Packing/Unpacking: combines vaues into tuple/assigns tuple values to varibles\n"
   ]
  },
  {
   "cell_type": "markdown",
   "id": "02c0beec-2bc7-4321-b4db-335550072d7e",
   "metadata": {},
   "source": [
    "#### Creating a Tuple:"
   ]
  },
  {
   "cell_type": "code",
   "execution_count": 3,
   "id": "f3cc9209-57b4-4c43-a3fc-df2881a18efc",
   "metadata": {},
   "outputs": [
    {
     "name": "stdout",
     "output_type": "stream",
     "text": [
      "tup1 = ('apple', 'mango', 'banana', 'strawberry', 'orange') and type of tup1 is <class 'tuple'> and it's length is 5\n",
      "tup2 = (1, 3, 5, 7, 9, 1, 3, 5, 7, 9) and type of tup1 is <class 'tuple'> and it's length is 10\n",
      "tup3 = ('python',) and type of tup1 is <class 'tuple'> and it's length is 1\n"
     ]
    }
   ],
   "source": [
    "tup1 = (\"apple\", \"mango\", \"banana\", \"strawberry\", \"orange\")\n",
    "tup2 = (1,3,5,7,9,1,3,5,7,9)\n",
    "tup3 = (\"python\",)\n",
    "\n",
    "print(\"tup1 =\", tup1, \"and type of tup1 is\", type(tup1), \"and it's length is\", len(tup1))\n",
    "print(\"tup2 =\", tup2, \"and type of tup1 is\", type(tup2), \"and it's length is\", len(tup2))\n",
    "print(\"tup3 =\", tup3, \"and type of tup1 is\", type(tup3), \"and it's length is\", len(tup3))"
   ]
  },
  {
   "cell_type": "markdown",
   "id": "91b81017-9a03-4f43-9198-5ddb81f9eaa8",
   "metadata": {},
   "source": [
    "#### Tuple Functions:"
   ]
  },
  {
   "cell_type": "code",
   "execution_count": 103,
   "id": "2fbf40ed-e060-4ee3-a791-8981285c084a",
   "metadata": {},
   "outputs": [
    {
     "data": {
      "text/plain": [
       "3"
      ]
     },
     "execution_count": 103,
     "metadata": {},
     "output_type": "execute_result"
    }
   ],
   "source": [
    "tup1.index(\"strawberry\") # displays the index value of the specified element"
   ]
  },
  {
   "cell_type": "code",
   "execution_count": 95,
   "id": "e12c11d8-37b6-44d0-adc2-2ad6995243ca",
   "metadata": {},
   "outputs": [
    {
     "data": {
      "text/plain": [
       "2"
      ]
     },
     "execution_count": 95,
     "metadata": {},
     "output_type": "execute_result"
    }
   ],
   "source": [
    "tup2.count(9) # count the occurrence of an element "
   ]
  },
  {
   "cell_type": "markdown",
   "id": "bee7a5cb-d6ae-430a-b7e5-38e0ceb3aee8",
   "metadata": {},
   "source": [
    "### Set\n",
    "A set in Python is an unordered collection of unique elements. Sets are mutable, but the elements themselves must be immutable types (e.g., numbers, strings, or tuples).\n",
    "\n",
    "* Ordered: arranged sequently\n",
    "* Unique-values: don't allow duplicate values\n",
    "* Mutable: can change, add or remmove elements\n",
    "* Indexing: not allowed\n",
    "* Data-type: immutable (e.g., numbers, strings, or tuples)\n",
    "* Element-access: not allowed\n",
    "* Mathematical-operations: support mathematical set operations (union, intersection, difference and symmetric difference)"
   ]
  },
  {
   "cell_type": "markdown",
   "id": "f21408f6-5cd2-4a7a-9d38-5fa57b09266e",
   "metadata": {},
   "source": [
    "#### Creating a set"
   ]
  },
  {
   "cell_type": "code",
   "execution_count": 47,
   "id": "695fcb6a-1215-4e02-8c62-a1c04696134c",
   "metadata": {},
   "outputs": [
    {
     "name": "stdout",
     "output_type": "stream",
     "text": [
      "nums = {1, 2, 3, 4, 5, 6, 7, 8, 9, 10} length of nums is 10 it's type is <class 'set'>\n",
      "evens = {2, 4, 6, 8, 10} length of nums is 5 it's type is <class 'set'>\n",
      "odds = {1, 3, 5, 7, 9} length of odds is 5 it's type is <class 'set'>\n",
      "empt = set() length of empt is 0 it's type is <class 'set'>\n"
     ]
    }
   ],
   "source": [
    "nums = {1,2,3,4,5,6,7,8,9,10,1,2,3,4,5,6,7,8,9,10}\n",
    "odds = {1,3,5,7,9}\n",
    "evens = {2,4,6,8,10}\n",
    "empt = set({})\n",
    "print(\"nums =\", nums, \"length of nums is\", len(nums), \"it's type is\", type(nums))\n",
    "print(\"evens =\", evens, \"length of nums is\", len(evens), \"it's type is\", type(evens))\n",
    "print(\"odds =\", set(odds), \"length of odds is\", len(odds), \"it's type is\", type(odds))\n",
    "print(\"empt =\", empt, \"length of empt is\", len(empt), \"it's type is\", type(empt))"
   ]
  },
  {
   "cell_type": "markdown",
   "id": "50d5b82a-dd0d-4c84-a09c-4a3c298936d0",
   "metadata": {},
   "source": [
    "#### Set Functions:"
   ]
  },
  {
   "cell_type": "code",
   "execution_count": 22,
   "id": "0bf0128f-9a3f-4431-a392-104946ca61e4",
   "metadata": {},
   "outputs": [
    {
     "data": {
      "text/plain": [
       "{1, 2, 3, 4, 5, 6, 7, 8, 9, 10, 100}"
      ]
     },
     "execution_count": 22,
     "metadata": {},
     "output_type": "execute_result"
    }
   ],
   "source": [
    "nums.add(100) # adds the specified element in the specified set permanently\n",
    "nums"
   ]
  },
  {
   "cell_type": "code",
   "execution_count": 20,
   "id": "e45f4e4d-6c89-4485-9254-3a8ae619ea07",
   "metadata": {},
   "outputs": [
    {
     "data": {
      "text/plain": [
       "{2, 4, 6, 8, 10, 100}"
      ]
     },
     "execution_count": 20,
     "metadata": {},
     "output_type": "execute_result"
    }
   ],
   "source": [
    "nums.difference(odds) # displays the different elements of first set to second set"
   ]
  },
  {
   "cell_type": "code",
   "execution_count": 41,
   "id": "4b2ffabe-25db-4c5e-8037-eac7b62c3bcc",
   "metadata": {},
   "outputs": [
    {
     "data": {
      "text/plain": [
       "{2, 4, 6, 8, 10}"
      ]
     },
     "execution_count": 41,
     "metadata": {},
     "output_type": "execute_result"
    }
   ],
   "source": [
    "nums.difference_update(odds) # rmoves the common elements of first set with second set permanently\n",
    "nums"
   ]
  },
  {
   "cell_type": "code",
   "execution_count": 43,
   "id": "dc483c03-8e82-48d0-8a13-ec3535dd86cc",
   "metadata": {},
   "outputs": [
    {
     "data": {
      "text/plain": [
       "{1, 3, 5, 7, 9}"
      ]
     },
     "execution_count": 43,
     "metadata": {},
     "output_type": "execute_result"
    }
   ],
   "source": [
    "nums.intersection(odds) # displays the common elements of first set with second set"
   ]
  },
  {
   "cell_type": "code",
   "execution_count": 44,
   "id": "8f5c8d08-a49a-441c-9141-e046eb2b503c",
   "metadata": {},
   "outputs": [
    {
     "data": {
      "text/plain": [
       "{1, 3, 5, 7, 9}"
      ]
     },
     "execution_count": 44,
     "metadata": {},
     "output_type": "execute_result"
    }
   ],
   "source": [
    "nums.intersection_update(odds) # Keeps only common elements of first set with second set permanently\n",
    "nums"
   ]
  },
  {
   "cell_type": "code",
   "execution_count": 46,
   "id": "69bd86be-818e-4798-8bdd-e94949ca63e0",
   "metadata": {},
   "outputs": [
    {
     "data": {
      "text/plain": [
       "True"
      ]
     },
     "execution_count": 46,
     "metadata": {},
     "output_type": "execute_result"
    }
   ],
   "source": [
    "evens.isdisjoint(odds) # checks whether both sets null intersection or not"
   ]
  },
  {
   "cell_type": "code",
   "execution_count": 48,
   "id": "d857f723-4de9-41b7-8108-e5e7aeba8854",
   "metadata": {},
   "outputs": [
    {
     "data": {
      "text/plain": [
       "True"
      ]
     },
     "execution_count": 48,
     "metadata": {},
     "output_type": "execute_result"
    }
   ],
   "source": [
    "odds.issubset(nums) # checks whether second set contains all the elements of first set or not"
   ]
  },
  {
   "cell_type": "code",
   "execution_count": 49,
   "id": "57932d91-eb7b-4443-9ec4-2668fd4c1b23",
   "metadata": {},
   "outputs": [
    {
     "data": {
      "text/plain": [
       "True"
      ]
     },
     "execution_count": 49,
     "metadata": {},
     "output_type": "execute_result"
    }
   ],
   "source": [
    "nums.issuperset(evens) # checks whether first set contains all the elements of second set or not"
   ]
  },
  {
   "cell_type": "code",
   "execution_count": 50,
   "id": "b0cb7c23-73b7-4607-be19-cc5d939d9e97",
   "metadata": {},
   "outputs": [
    {
     "data": {
      "text/plain": [
       "{1, 2, 3, 4, 5, 6, 7, 8, 9, 10}"
      ]
     },
     "execution_count": 50,
     "metadata": {},
     "output_type": "execute_result"
    }
   ],
   "source": [
    "evens.union(odds) # join both sets but no repeated values"
   ]
  }
 ],
 "metadata": {
  "kernelspec": {
   "display_name": "Python 3 (ipykernel)",
   "language": "python",
   "name": "python3"
  },
  "language_info": {
   "codemirror_mode": {
    "name": "ipython",
    "version": 3
   },
   "file_extension": ".py",
   "mimetype": "text/x-python",
   "name": "python",
   "nbconvert_exporter": "python",
   "pygments_lexer": "ipython3",
   "version": "3.13.5"
  }
 },
 "nbformat": 4,
 "nbformat_minor": 5
}
