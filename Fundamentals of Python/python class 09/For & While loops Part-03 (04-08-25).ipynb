{
 "cells": [
  {
   "cell_type": "markdown",
   "id": "035c3e47-ebca-45ac-914a-301aee58ba98",
   "metadata": {},
   "source": [
    "## Today's Topics:\n",
    "* Loops\n",
    "  * While-loop (Basics)"
   ]
  },
  {
   "cell_type": "markdown",
   "id": "62c7491b-7996-47b5-a828-c1fdec12b30e",
   "metadata": {},
   "source": [
    "#### While loop:\n",
    "A while loop in Python repeatedly executes a block of code as long as a specified condition is True. It's a condition based loop.\n",
    "\n",
    "#### Syntax:\n",
    "while condition:\n",
    "\n",
    "    # code block to execute\n",
    "    \n",
    "else:\n",
    "\n",
    "    # optional block that runs if the loop ends normally\n",
    "\n",
    "* Condition: An expression that returns True or False.\n",
    "* Code Block: The indented block that executes repeatedly.\n",
    "* Increment/Decrement (Optional): Updates the variable to eventually make the condition False.\n",
    "* Else Block (Optional): Executes only when the loop terminates normally, not via break.\n",
    "\n",
    "#### Key Charactersitics:\n",
    "* Condition is checked before entering the loop (pre-test loop).\n",
    "* If the condition is initially False, the loop body will not run even once.\n",
    "* Can result in an infinite loop if the condition never becomes False.\n",
    "* Supports break and continue for better control.\n",
    "\n"
   ]
  },
  {
   "cell_type": "code",
   "execution_count": 1,
   "id": "ddcb1db8-6294-42a7-9169-3196b50c3e8e",
   "metadata": {},
   "outputs": [
    {
     "name": "stdout",
     "output_type": "stream",
     "text": [
      "0 hello python\n",
      "1 hello python\n",
      "2 hello python\n",
      "3 hello python\n",
      "4 hello python\n",
      "5 hello python\n",
      "6 hello python\n",
      "7 hello python\n",
      "8 hello python\n",
      "9 hello python\n",
      "10 hello python\n"
     ]
    }
   ],
   "source": [
    "a = 0\n",
    "while a <= 10:\n",
    "    print(a, \"hello python\")\n",
    "    a += 1"
   ]
  },
  {
   "cell_type": "code",
   "execution_count": 22,
   "id": "e8805fa2-d9aa-47da-99d6-c3a063ba451f",
   "metadata": {},
   "outputs": [
    {
     "name": "stdout",
     "output_type": "stream",
     "text": [
      "10 hello python\n",
      "9 hello python\n",
      "8 hello python\n",
      "7 hello python\n",
      "6 hello python\n",
      "5 hello python\n",
      "4 hello python\n",
      "3 hello python\n",
      "2 hello python\n",
      "1 hello python\n",
      "0 hello python\n"
     ]
    }
   ],
   "source": [
    "a = 10\n",
    "while a >= 0:\n",
    "    print(a, \"hello python\")\n",
    "    a -= 1"
   ]
  },
  {
   "cell_type": "code",
   "execution_count": 3,
   "id": "357d34d9-0f85-42cf-af2a-64627a895f49",
   "metadata": {},
   "outputs": [
    {
     "name": "stdin",
     "output_type": "stream",
     "text": [
      "Enter friend name Anas\n",
      "Enter friend name Ali\n",
      "Enter friend name Wamiq\n",
      "Enter friend name Usman\n",
      "Enter friend name Safwaan\n",
      "Enter friend name Zohaib\n",
      "Enter friend name quit\n"
     ]
    },
    {
     "data": {
      "text/plain": [
       "['Anas', 'Ali', 'Wamiq', 'Usman', 'Safwaan', 'Zohaib']"
      ]
     },
     "execution_count": 3,
     "metadata": {},
     "output_type": "execute_result"
    }
   ],
   "source": [
    "friends = []\n",
    "\n",
    "while True:\n",
    "    name = input(\"Enter friend name\")\n",
    "    if name == \"quit\":\n",
    "        break\n",
    "    else:\n",
    "        friends.append(name)\n",
    "\n",
    "friends"
   ]
  },
  {
   "cell_type": "code",
   "execution_count": 1,
   "id": "e32eb567-40d2-4298-8155-8f36d9b6360d",
   "metadata": {},
   "outputs": [
    {
     "name": "stdin",
     "output_type": "stream",
     "text": [
      "Enter pizza name Tikka\n",
      "Enter pizza name Cheesy\n",
      "Enter pizza name Fajita\n"
     ]
    },
    {
     "name": "stdout",
     "output_type": "stream",
     "text": [
      "['Tikka', 'Cheesy', 'Fajita']\n",
      "I like Tikka very much\n",
      "I like Cheesy very much\n",
      "I like Fajita very much\n",
      "all are best in taste\n"
     ]
    }
   ],
   "source": [
    "Pizza = []\n",
    "\n",
    "for p in range(3):\n",
    "    name = input(\"Enter pizza name\")\n",
    "    Pizza.append(name)\n",
    "print(Pizza)\n",
    "\n",
    "for p in Pizza:\n",
    "    print(f\"I like {p} very much\")\n",
    "print(\"all are best in taste\")"
   ]
  }
 ],
 "metadata": {
  "kernelspec": {
   "display_name": "Python 3 (ipykernel)",
   "language": "python",
   "name": "python3"
  },
  "language_info": {
   "codemirror_mode": {
    "name": "ipython",
    "version": 3
   },
   "file_extension": ".py",
   "mimetype": "text/x-python",
   "name": "python",
   "nbconvert_exporter": "python",
   "pygments_lexer": "ipython3",
   "version": "3.13.5"
  }
 },
 "nbformat": 4,
 "nbformat_minor": 5
}
