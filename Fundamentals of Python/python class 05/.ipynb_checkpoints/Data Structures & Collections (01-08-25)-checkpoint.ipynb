{
 "cells": [
  {
   "cell_type": "markdown",
   "id": "3e1afe55-ce3e-4209-9b65-45d5f735d184",
   "metadata": {},
   "source": [
    "## Today's Topics:\n",
    "* Data Structures\n",
    "  * List\n",
    "* Collections"
   ]
  },
  {
   "cell_type": "markdown",
   "id": "87b0b9b4-10c4-4700-a78e-eb73895f8db6",
   "metadata": {},
   "source": [
    "### Data Structures:\n",
    "A data structure is a way of organizing and storing data so that it can be accessed and worked with efficiently. Python provides several built-in data structures, which are:\n",
    "* String\n",
    "* List\n",
    "* Dictionary\n",
    "* Tuple\n",
    "* Set"
   ]
  },
  {
   "cell_type": "markdown",
   "id": "9b708aba-b3fe-4051-bcbb-d1aeb4aa3786",
   "metadata": {},
   "source": [
    "#### List:\n",
    "A built-in data type that stores set of values, it can store elements of different types (int, str, float etc.).\n",
    "* Mutable = Elements in list can be changed. \n",
    "* Iterable = Looping is allowed.\n",
    "* Arrange in order\n",
    "* Allows duplicate values"
   ]
  },
  {
   "cell_type": "code",
   "execution_count": 1,
   "id": "d1016df9-4975-4e01-8003-d2efd61279f2",
   "metadata": {},
   "outputs": [
    {
     "name": "stdout",
     "output_type": "stream",
     "text": [
      "<class 'list'>\n"
     ]
    }
   ],
   "source": [
    "# Creating an empty list and checking it's type.\n",
    "\n",
    "null_list = []\n",
    "print (type(null_list))"
   ]
  },
  {
   "cell_type": "code",
   "execution_count": 2,
   "id": "02891143-b5bc-4434-93a7-47025560e61e",
   "metadata": {},
   "outputs": [
    {
     "data": {
      "text/plain": [
       "0"
      ]
     },
     "execution_count": 2,
     "metadata": {},
     "output_type": "execute_result"
    }
   ],
   "source": [
    "len(null_list)"
   ]
  },
  {
   "cell_type": "code",
   "execution_count": 2,
   "id": "2c907db3-0980-4d25-b40a-04401eb385d1",
   "metadata": {},
   "outputs": [],
   "source": [
    "## Creating a membered list\n",
    "students = [\"Asad\", \"Farooq\", \"Shayan\", \"Hashir\", \"Talha\", \"Umar\", \"Asim\", \"Uzair\"]\n",
    "new_students = [\"Laiba\", \"Shumaila\", \"Ruksana\", \"Shabana\"]"
   ]
  },
  {
   "cell_type": "code",
   "execution_count": 4,
   "id": "7e68fbe6-8ef0-4ca1-a7d9-c2658bf5c867",
   "metadata": {},
   "outputs": [
    {
     "data": {
      "text/plain": [
       "8"
      ]
     },
     "execution_count": 4,
     "metadata": {},
     "output_type": "execute_result"
    }
   ],
   "source": [
    "len(students)"
   ]
  },
  {
   "cell_type": "markdown",
   "id": "0bd7dc52-3cfc-4f98-b2ed-cb5a160f84fc",
   "metadata": {},
   "source": [
    "### Index / Indices:\n",
    "Indexing is the way you access individual elements in data-structures/sequences.\n",
    "* Indexing starts with zero.\n",
    "* Python also supports negative indexing (i.e -1, -2, -3 etc.)\n",
    "* We always use [] to access elements using indexing."
   ]
  },
  {
   "cell_type": "code",
   "execution_count": null,
   "id": "52342b98-1afc-425c-a7f7-679cd7e9b98b",
   "metadata": {},
   "outputs": [],
   "source": [
    "# +ve          0        1         2         3        4       5        6       7\n",
    "students = [\"Asad\", \"Farooq\", \"Shayan\", \"Hashir\", \"Talha\", \"Umar\", \"Asim\", \"Uzair\"]\n",
    "# -ve         -8      -7         -6        -5        -4      -3      -2      -1"
   ]
  },
  {
   "cell_type": "code",
   "execution_count": 6,
   "id": "064b31c1-e21c-4d12-8b4d-2936eecb91cd",
   "metadata": {},
   "outputs": [
    {
     "data": {
      "text/plain": [
       "('Talha', 'Umar')"
      ]
     },
     "execution_count": 6,
     "metadata": {},
     "output_type": "execute_result"
    }
   ],
   "source": [
    "students[4], students[-3]"
   ]
  },
  {
   "cell_type": "markdown",
   "id": "8f136057-7ea9-4913-b002-15a568d711ad",
   "metadata": {},
   "source": [
    "### Slicing:\n",
    "List slicing in Python is a way to access a range of elements from a list.\n",
    "* Syntax = list[start:stop:step]\n",
    "* Allows negaive indexing\n",
    "* Can skip elements using step value\n",
    "* No errors\n",
    "* Immutable (creates a copy)"
   ]
  },
  {
   "cell_type": "code",
   "execution_count": 17,
   "id": "0325437a-4bf3-423c-9c1d-4600d931adf7",
   "metadata": {},
   "outputs": [
    {
     "data": {
      "text/plain": [
       "(['Farooq', 'Shayan', 'Hashir', 'Talha'], ['Hashir', 'Talha', 'Umar', 'Asim'])"
      ]
     },
     "execution_count": 17,
     "metadata": {},
     "output_type": "execute_result"
    }
   ],
   "source": [
    "students[1:5], students[-5:-1 # slicing using positive and negative indexing"
   ]
  },
  {
   "cell_type": "code",
   "execution_count": 18,
   "id": "2dad8bdd-8a80-43d2-a498-e35b5c6b632d",
   "metadata": {},
   "outputs": [
    {
     "data": {
      "text/plain": [
       "['Farooq', 'Hashir', 'Umar']"
      ]
     },
     "execution_count": 18,
     "metadata": {},
     "output_type": "execute_result"
    }
   ],
   "source": [
    "students[1:7:2] # slicing using steps"
   ]
  },
  {
   "cell_type": "code",
   "execution_count": 19,
   "id": "39d03606-d4df-4b9d-8ee9-0b0f48c1e782",
   "metadata": {},
   "outputs": [
    {
     "data": {
      "text/plain": [
       "['Asad', 'Farooq', 'Shayan', 'Hashir', 'Talha', 'Umar', 'Asim', 'Uzair']"
      ]
     },
     "execution_count": 19,
     "metadata": {},
     "output_type": "execute_result"
    }
   ],
   "source": [
    "students[:] # gives the entire list from start to end"
   ]
  },
  {
   "cell_type": "code",
   "execution_count": 20,
   "id": "c0581a2c-1e12-4ddb-b819-2a8c249b5d22",
   "metadata": {},
   "outputs": [
    {
     "data": {
      "text/plain": [
       "['Uzair', 'Asim', 'Umar', 'Talha', 'Hashir', 'Shayan', 'Farooq', 'Asad']"
      ]
     },
     "execution_count": 20,
     "metadata": {},
     "output_type": "execute_result"
    }
   ],
   "source": [
    "students[::-1] # reverse the list using negitive stepping"
   ]
  },
  {
   "cell_type": "markdown",
   "id": "87e2e4c7-3b6c-47b1-9e28-c16651095db4",
   "metadata": {},
   "source": [
    "## List Functions:"
   ]
  },
  {
   "cell_type": "code",
   "execution_count": 15,
   "id": "eeffcc78-dd3d-497d-a964-c20c57c1d6c8",
   "metadata": {},
   "outputs": [
    {
     "data": {
      "text/plain": [
       "['Asad',\n",
       " 'Farooq',\n",
       " 'Hashir',\n",
       " 'Talha',\n",
       " 'Ali',\n",
       " 'Umar',\n",
       " 'Asim',\n",
       " 'Uzair',\n",
       " 'Laiba',\n",
       " 'Shumaila',\n",
       " 'Ruksana',\n",
       " 'Shabana',\n",
       " 'Laiba',\n",
       " 'Shumaila',\n",
       " 'Ruksana',\n",
       " 'Shabana',\n",
       " 'Abdullah']"
      ]
     },
     "execution_count": 15,
     "metadata": {},
     "output_type": "execute_result"
    }
   ],
   "source": [
    "students.append(\"Abdullah\") # adds a single member in a list at a time\n",
    "students"
   ]
  },
  {
   "cell_type": "code",
   "execution_count": 13,
   "id": "f387cc09-d6a6-4007-a4fc-ea80e4f63068",
   "metadata": {},
   "outputs": [
    {
     "data": {
      "text/plain": [
       "['Asad',\n",
       " 'Farooq',\n",
       " 'Hashir',\n",
       " 'Talha',\n",
       " 'Ali',\n",
       " 'Umar',\n",
       " 'Asim',\n",
       " 'Uzair',\n",
       " 'Laiba',\n",
       " 'Shumaila',\n",
       " 'Ruksana',\n",
       " 'Shabana']"
      ]
     },
     "execution_count": 13,
     "metadata": {},
     "output_type": "execute_result"
    }
   ],
   "source": [
    "students.insert(4,\"Ali\") # adds a single member in a list on a given index at a time\n",
    "students"
   ]
  },
  {
   "cell_type": "code",
   "execution_count": 3,
   "id": "a513d0dc-252a-4d07-a1f4-6a0a8aee1de0",
   "metadata": {},
   "outputs": [
    {
     "data": {
      "text/plain": [
       "['Asad',\n",
       " 'Farooq',\n",
       " 'Shayan',\n",
       " 'Hashir',\n",
       " 'Talha',\n",
       " 'Umar',\n",
       " 'Asim',\n",
       " 'Uzair',\n",
       " 'Laiba',\n",
       " 'Shumaila',\n",
       " 'Ruksana',\n",
       " 'Shabana']"
      ]
     },
     "execution_count": 3,
     "metadata": {},
     "output_type": "execute_result"
    }
   ],
   "source": [
    "students.extend(new_students) # adds another collection elements one by one\n",
    "students"
   ]
  },
  {
   "cell_type": "code",
   "execution_count": 16,
   "id": "b7331084-d3f4-4b92-aeb8-72ac5723858b",
   "metadata": {},
   "outputs": [
    {
     "data": {
      "text/plain": [
       "['Asad',\n",
       " 'Farooq',\n",
       " 'Talha',\n",
       " 'Ali',\n",
       " 'Umar',\n",
       " 'Asim',\n",
       " 'Uzair',\n",
       " 'Laiba',\n",
       " 'Shumaila',\n",
       " 'Ruksana',\n",
       " 'Shabana',\n",
       " 'Laiba',\n",
       " 'Shumaila',\n",
       " 'Ruksana',\n",
       " 'Shabana',\n",
       " 'Abdullah']"
      ]
     },
     "execution_count": 16,
     "metadata": {},
     "output_type": "execute_result"
    }
   ],
   "source": [
    "del students [2] # delete single element by index\n",
    "students"
   ]
  },
  {
   "cell_type": "code",
   "execution_count": 19,
   "id": "36aa4f71-074f-45c0-a7aa-cb80351d5525",
   "metadata": {},
   "outputs": [
    {
     "data": {
      "text/plain": [
       "'Ruksana'"
      ]
     },
     "execution_count": 19,
     "metadata": {},
     "output_type": "execute_result"
    }
   ],
   "source": [
    "students.pop() # deletes the last element by index and returns the value of deleted element"
   ]
  },
  {
   "cell_type": "code",
   "execution_count": 5,
   "id": "496e92d1-89a0-4824-ac27-ce9fbca7394b",
   "metadata": {},
   "outputs": [
    {
     "data": {
      "text/plain": [
       "['Asad',\n",
       " 'Farooq',\n",
       " 'Shayan',\n",
       " 'Hashir',\n",
       " 'Talha',\n",
       " 'Umar',\n",
       " 'Asim',\n",
       " 'Uzair',\n",
       " 'Shumaila',\n",
       " 'Ruksana',\n",
       " 'Shabana']"
      ]
     },
     "execution_count": 5,
     "metadata": {},
     "output_type": "execute_result"
    }
   ],
   "source": [
    "students.remove(\"Laiba\") # removes the given element from the list permanently\n",
    "students"
   ]
  },
  {
   "cell_type": "code",
   "execution_count": 21,
   "id": "5fdb92ff-5ad4-4c8c-9ac7-8d64e3f89fa3",
   "metadata": {},
   "outputs": [
    {
     "data": {
      "text/plain": [
       "[]"
      ]
     },
     "execution_count": 21,
     "metadata": {},
     "output_type": "execute_result"
    }
   ],
   "source": [
    "new_students.clear() # deletes all elements of list\n",
    "new_students"
   ]
  },
  {
   "cell_type": "code",
   "execution_count": 29,
   "id": "fa35dc9a-f534-4f7a-9431-23939dd7d569",
   "metadata": {},
   "outputs": [
    {
     "data": {
      "text/plain": [
       "['Asad',\n",
       " 'Farooq',\n",
       " 'Talha',\n",
       " 'Ali',\n",
       " 'Umar',\n",
       " 'Asim',\n",
       " 'Uzair',\n",
       " 'Laiba',\n",
       " 'Shumaila',\n",
       " 'Ruksana',\n",
       " 'Shabana']"
      ]
     },
     "execution_count": 29,
     "metadata": {},
     "output_type": "execute_result"
    }
   ],
   "source": [
    "students"
   ]
  },
  {
   "cell_type": "code",
   "execution_count": 28,
   "id": "21e24a27-91df-4c51-a362-da9eb16b18a2",
   "metadata": {},
   "outputs": [
    {
     "data": {
      "text/plain": [
       "6"
      ]
     },
     "execution_count": 28,
     "metadata": {},
     "output_type": "execute_result"
    }
   ],
   "source": [
    "students.index(\"Uzair\") # displays the index of the first occurence of the given element"
   ]
  },
  {
   "cell_type": "code",
   "execution_count": 30,
   "id": "391b8f5b-44ba-4e35-995e-fe120550cb0d",
   "metadata": {},
   "outputs": [
    {
     "data": {
      "text/plain": [
       "1"
      ]
     },
     "execution_count": 30,
     "metadata": {},
     "output_type": "execute_result"
    }
   ],
   "source": [
    "students.count(\"Ali\") # counts the occurence of the given element"
   ]
  },
  {
   "cell_type": "code",
   "execution_count": 33,
   "id": "69203e74-20ac-4495-99ff-e1112a21580d",
   "metadata": {},
   "outputs": [
    {
     "data": {
      "text/plain": [
       "['Ali',\n",
       " 'Asad',\n",
       " 'Asim',\n",
       " 'Farooq',\n",
       " 'Laiba',\n",
       " 'Ruksana',\n",
       " 'Shabana',\n",
       " 'Shumaila',\n",
       " 'Talha',\n",
       " 'Umar',\n",
       " 'Uzair']"
      ]
     },
     "execution_count": 33,
     "metadata": {},
     "output_type": "execute_result"
    }
   ],
   "source": [
    "students.sort() # sorts the elements of list according to ASCII value permanently\n",
    "students"
   ]
  },
  {
   "cell_type": "code",
   "execution_count": 34,
   "id": "cccba383-b043-41b7-a1de-d717d2dcb5f6",
   "metadata": {},
   "outputs": [
    {
     "data": {
      "text/plain": [
       "['Uzair',\n",
       " 'Umar',\n",
       " 'Talha',\n",
       " 'Shumaila',\n",
       " 'Shabana',\n",
       " 'Ruksana',\n",
       " 'Laiba',\n",
       " 'Farooq',\n",
       " 'Asim',\n",
       " 'Asad',\n",
       " 'Ali']"
      ]
     },
     "execution_count": 34,
     "metadata": {},
     "output_type": "execute_result"
    }
   ],
   "source": [
    "students.reverse() # reverse the elements of list permanently\n",
    "students"
   ]
  }
 ],
 "metadata": {
  "kernelspec": {
   "display_name": "Python 3 (ipykernel)",
   "language": "python",
   "name": "python3"
  },
  "language_info": {
   "codemirror_mode": {
    "name": "ipython",
    "version": 3
   },
   "file_extension": ".py",
   "mimetype": "text/x-python",
   "name": "python",
   "nbconvert_exporter": "python",
   "pygments_lexer": "ipython3",
   "version": "3.13.5"
  }
 },
 "nbformat": 4,
 "nbformat_minor": 5
}
