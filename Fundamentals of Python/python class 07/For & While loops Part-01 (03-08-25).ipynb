{
 "cells": [
  {
   "cell_type": "markdown",
   "id": "68311d75-ceda-4e7c-981c-6252b96f54aa",
   "metadata": {},
   "source": [
    "## Today's Topics:\n",
    "* Loops\n",
    "    * for in loop"
   ]
  },
  {
   "cell_type": "markdown",
   "id": "dd78609c-542b-46b4-8f34-cf37db1891ac",
   "metadata": {},
   "source": [
    "### Loops:\n",
    "A loop is a programming construct that repeats a block of code as long as a condition is true.\n",
    "### Types of loops:\n",
    "* For in = Iterates over a sequence (like a list, tuple, string).\n",
    "* While = Repeats as long as a condition is true.    "
   ]
  },
  {
   "cell_type": "markdown",
   "id": "37f0f40c-2db1-4f27-8478-b96206449c02",
   "metadata": {},
   "source": [
    "#### For-in loop:\n",
    "A for...in loop in Python is used to iterate over a sequence (like a list, tuple, string, dictionary, or range) and execute a block of code for each item in the sequence. It’s an iterator-based loop rather than a traditional counting loop.\n",
    "\n",
    "#### Syntax of for loop:\n",
    "for variable in sequence:\n",
    "\n",
    "    # code block\n",
    "    \n",
    "else:\n",
    "\n",
    "    # optional else block\n",
    "\n",
    "* variable: A temporary name that holds each item in the sequence during each iteration.\n",
    "* sequence: A collection of items that the loop will iterate over. It could be a list, tuple, string, dictionary, or range.\n",
    "* The code block inside the loop is executed once for each item in the iterable.\n",
    "* else → optional, executes only if the loop completes without a break.\n",
    "\n",
    "#### Key Characteristics:\n",
    "* Iterates directly over elements of a sequence (not by index, unless specified).\n",
    "* No need to manually increment counters.\n",
    "* Automatically stops when the sequence ends.\n",
    "* Supports break, continue, and else."
   ]
  },
  {
   "cell_type": "markdown",
   "id": "c069d5ee-7292-41e5-9fd8-31b21dee91de",
   "metadata": {},
   "source": [
    "#### Iterating over string:"
   ]
  },
  {
   "cell_type": "code",
   "execution_count": 5,
   "id": "3ceef103-564a-430d-9899-4ec56b5d43c5",
   "metadata": {},
   "outputs": [
    {
     "name": "stdout",
     "output_type": "stream",
     "text": [
      "H\n",
      "e\n",
      "l\n",
      "l\n",
      "o\n",
      " \n",
      "P\n",
      "y\n",
      "t\n",
      "h\n",
      "o\n",
      "n\n"
     ]
    }
   ],
   "source": [
    "text = \"Hello Python\"\n",
    "\n",
    "for char in text:\n",
    "    print(char)"
   ]
  },
  {
   "cell_type": "markdown",
   "id": "09f51895-f88f-45e0-8b83-6cdd323179e8",
   "metadata": {},
   "source": [
    "#### Iterating over range:"
   ]
  },
  {
   "cell_type": "code",
   "execution_count": 3,
   "id": "6f478c36-2be4-4950-b691-0106c192f921",
   "metadata": {},
   "outputs": [
    {
     "name": "stdout",
     "output_type": "stream",
     "text": [
      "0 Abdullah Nadeem\n",
      "1 Abdullah Nadeem\n",
      "2 Abdullah Nadeem\n",
      "3 Abdullah Nadeem\n",
      "4 Abdullah Nadeem\n",
      "5 Abdullah Nadeem\n",
      "6 Abdullah Nadeem\n",
      "7 Abdullah Nadeem\n",
      "8 Abdullah Nadeem\n",
      "9 Abdullah Nadeem\n"
     ]
    }
   ],
   "source": [
    "# Print your name 10 times with serial number\n",
    "\n",
    "for a in range(10):\n",
    "    print(a, \"Abdullah Nadeem\")"
   ]
  },
  {
   "cell_type": "markdown",
   "id": "a31e2634-4ee5-4456-8a6f-c4cc79a66050",
   "metadata": {},
   "source": [
    "#### Iterating over list:"
   ]
  },
  {
   "cell_type": "code",
   "execution_count": 15,
   "id": "778bed7c-6e9b-44ca-b4f7-dc9ec2909983",
   "metadata": {},
   "outputs": [
    {
     "name": "stdout",
     "output_type": "stream",
     "text": [
      "<class 'list'>\n",
      "Apple\n",
      "Mango\n",
      "Banana\n",
      "Strawberry\n",
      "Grapes\n"
     ]
    }
   ],
   "source": [
    "fruits = [\"Apple\", \"Mango\", \"Banana\", \"Strawberry\", \"Grapes\"]\n",
    "print(type(fruits))\n",
    "\n",
    "for item in fruits:\n",
    "    print(item)"
   ]
  },
  {
   "cell_type": "markdown",
   "id": "ba46e49c-0c91-4590-9929-d23983965575",
   "metadata": {},
   "source": [
    "#### Iterating over tuple:"
   ]
  },
  {
   "cell_type": "code",
   "execution_count": 13,
   "id": "2fd5aec9-0112-4bc1-9807-6f19cbe7644a",
   "metadata": {},
   "outputs": [
    {
     "name": "stdout",
     "output_type": "stream",
     "text": [
      "<class 'tuple'>\n",
      "45\n",
      "80\n",
      "72\n",
      "96\n",
      "55\n",
      "38\n"
     ]
    }
   ],
   "source": [
    "nums = (45,80,72,96,55,38)\n",
    "print(type(nums))\n",
    "\n",
    "for digit in nums:\n",
    "    print(digit)"
   ]
  }
 ],
 "metadata": {
  "kernelspec": {
   "display_name": "Python 3 (ipykernel)",
   "language": "python",
   "name": "python3"
  },
  "language_info": {
   "codemirror_mode": {
    "name": "ipython",
    "version": 3
   },
   "file_extension": ".py",
   "mimetype": "text/x-python",
   "name": "python",
   "nbconvert_exporter": "python",
   "pygments_lexer": "ipython3",
   "version": "3.13.5"
  }
 },
 "nbformat": 4,
 "nbformat_minor": 5
}
