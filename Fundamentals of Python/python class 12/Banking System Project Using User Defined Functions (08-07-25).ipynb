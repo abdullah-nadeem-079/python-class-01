{
 "cells": [
  {
   "cell_type": "markdown",
   "id": "5851b28c-f27c-469d-a5d2-29584affdbc5",
   "metadata": {},
   "source": [
    "## Today's Topics:\n",
    "* Bank Module\n",
    "    * open_account function\n",
    "    * cash_deposit function\n",
    "    * check_balance function\n",
    "    * cash_withdrawl function\n",
    "    * close_account function\n",
    "    * transfer_amount function"
   ]
  },
  {
   "cell_type": "code",
   "execution_count": 7,
   "id": "3d31026c-5b30-49cc-af61-918a85b11264",
   "metadata": {},
   "outputs": [],
   "source": [
    "all_accounts = []\n",
    "import random"
   ]
  },
  {
   "cell_type": "code",
   "execution_count": 29,
   "id": "bf296e7f-877b-4246-ad51-978159eb1102",
   "metadata": {},
   "outputs": [],
   "source": [
    "def open_account():\n",
    "    account_title = input(\"Account Title:\")\n",
    "    cnic = input(\"CNIC:\")\n",
    "    contact = input(\"Contact Number:\")\n",
    "    initial_deposit = int(input(\"Initial Deposit:\"))\n",
    "    account_number = random.randint(10000, 99999)\n",
    "    account = {\"title\" : account_title,\n",
    "              \"cnic\" : cnic,\n",
    "              \"contact\" : contact,\n",
    "              \"balance\" : initial_deposit,\n",
    "              \"account_number\" : account_number}\n",
    "    all_accounts.append(account)\n",
    "    print(\"Your account opened successfully\")\n",
    "    print(f\"Your account title is {account[\"title\"]} and account number is {account[\"account_number\"]}\")"
   ]
  },
  {
   "cell_type": "code",
   "execution_count": 15,
   "id": "66b8cdbb-37dd-4ea3-b57d-dc1e3e348a91",
   "metadata": {},
   "outputs": [],
   "source": [
    "def cash_deposit(acc_num, amount):\n",
    "    if amount > 0:   \n",
    "        for acc in all_accounts:\n",
    "            if acc [\"account_number\"] == acc_num:\n",
    "                acc[\"balance\"] += amount\n",
    "                print(\"Amount deposeted Successfully\")\n",
    "                break\n",
    "        else:\n",
    "            print(\"Invalid Account Number\")\n",
    "    else:\n",
    "        print(\"Invalid Amount\")\n",
    "        \n",
    "    \n",
    "    "
   ]
  },
  {
   "cell_type": "code",
   "execution_count": 46,
   "id": "0b61a120-1004-4be2-a6aa-aea411bc6d85",
   "metadata": {},
   "outputs": [],
   "source": [
    "def check_balance(acc_num):\n",
    "    for acc in all_accounts:\n",
    "            if acc [\"account_number\"] == acc_num:\n",
    "                print(f\"your account balamce is Rs: {acc[\"balance\"]}\")\n",
    "                break\n",
    "            else:\n",
    "                print(\"Invalid Account Number\")"
   ]
  },
  {
   "cell_type": "code",
   "execution_count": 30,
   "id": "91a316af-60d3-490f-bcd6-8e69bfe0123e",
   "metadata": {},
   "outputs": [],
   "source": [
    "def cash_withdrawl(acc_num, amount):\n",
    "    for acc in all_accounts:\n",
    "            if (acc [\"account_number\"] == acc_num) and (acc [\"balance\"] >= amount):\n",
    "                acc[\"balance\"] -= amount\n",
    "                print(f\"here is your amount Rs. {amount}\")\n",
    "                break\n",
    "            else:\n",
    "                print(\"Invalid Account Number / insuficient Balance\")\n",
    "   "
   ]
  },
  {
   "cell_type": "code",
   "execution_count": 38,
   "id": "49514f55-9092-4b0c-800c-91530d93a650",
   "metadata": {},
   "outputs": [],
   "source": [
    "def close_account(acc_num):\n",
    "    for i, acc in enumerate(all_accounts):\n",
    "            if acc [\"account_number\"] == acc_num:\n",
    "                print(f\"Here is your amount {acc[\"balance\"]}\")\n",
    "                acc[\"balance\"] = 0\n",
    "                del all_accounts[i]\n",
    "                print(\"Your account clossed successfully\")\n",
    "                \n",
    "                break\n",
    "            else:\n",
    "                print(\"Invalid Account Number\")"
   ]
  },
  {
   "cell_type": "code",
   "execution_count": 73,
   "id": "e319e49e-86ce-4dca-af0f-7bacd73b0921",
   "metadata": {},
   "outputs": [],
   "source": [
    "def transfer_amount(from_account, amount, to_account):\n",
    "    # Initialize variables to store the account information\n",
    "    from_acc = None\n",
    "    to_acc = None\n",
    "\n",
    "    # Find the from_account and to_account in all_accounts\n",
    "    for account in all_accounts:\n",
    "        if account[\"account_number\"] == from_account:\n",
    "            from_acc = account  # Found the from account\n",
    "        elif account[\"account_number\"] == to_account:\n",
    "            to_acc = account  # Found the to account\n",
    "\n",
    "    # Check if both accounts were found\n",
    "    if from_acc is None:\n",
    "        print(\"Invalid from Account\")\n",
    "        return  # Exit the function if from_account is not found\n",
    "    if to_acc is None:\n",
    "        print(\"Invalid to Account\")\n",
    "        return  # Exit the function if to_account is not found\n",
    "\n",
    "    # Check if the from_account has sufficient balance\n",
    "    if from_acc[\"balance\"] < amount:\n",
    "        print(\"Insufficient funds in the from account\")\n",
    "        return  # Exit the function if there are not enough funds\n",
    "\n",
    "    # Perform the transfer: subtract from from_account and add to to_account\n",
    "    from_acc[\"balance\"] -= amount\n",
    "    to_acc[\"balance\"] += amount\n",
    "\n",
    "    print(f\"Transfer successful! {amount} transferred from {from_account} to {to_account}.\")\n",
    "    print(f\"New balance of from account: {from_acc['balance']}\")\n",
    "    print(f\"New balance of to account: {to_acc['balance']}\")\n"
   ]
  },
  {
   "cell_type": "code",
   "execution_count": 79,
   "id": "ac2e0423-59af-4b03-93c6-6c0e647a26a9",
   "metadata": {},
   "outputs": [],
   "source": [
    "import bank_module # importing bank module"
   ]
  }
 ],
 "metadata": {
  "kernelspec": {
   "display_name": "Python 3 (ipykernel)",
   "language": "python",
   "name": "python3"
  },
  "language_info": {
   "codemirror_mode": {
    "name": "ipython",
    "version": 3
   },
   "file_extension": ".py",
   "mimetype": "text/x-python",
   "name": "python",
   "nbconvert_exporter": "python",
   "pygments_lexer": "ipython3",
   "version": "3.13.5"
  }
 },
 "nbformat": 4,
 "nbformat_minor": 5
}
