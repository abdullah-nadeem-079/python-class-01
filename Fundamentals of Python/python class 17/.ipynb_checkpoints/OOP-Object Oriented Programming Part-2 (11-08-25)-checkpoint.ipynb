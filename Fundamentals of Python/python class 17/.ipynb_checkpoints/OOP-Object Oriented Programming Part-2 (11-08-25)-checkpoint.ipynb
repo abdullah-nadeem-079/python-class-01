{
 "cells": [
  {
   "cell_type": "markdown",
   "id": "194a2a9a-faf7-420c-9173-f0b0bd53d9bd",
   "metadata": {},
   "source": [
    "## Today's Topics:\n",
    "* 4 pillars of OOP\n",
    "    * Encapsulation\n",
    "    * Inheritance\n",
    "* Access modifiers\n",
    "    * public method\n",
    "    * private method\n",
    "    * protected method\n",
    "* Validation using methods\n",
    "* Inheritance"
   ]
  },
  {
   "cell_type": "code",
   "execution_count": 10,
   "id": "816b11e6-9334-4b40-85a0-2d280caf6ee1",
   "metadata": {},
   "outputs": [],
   "source": [
    "class Student:\n",
    "    def __init__(self, roll, name, course, gender, email):\n",
    "        self.roll = roll\n",
    "        self.name = name\n",
    "        self.course = course\n",
    "        self.gender = gender\n",
    "        self.email = email\n",
    "\n",
    "    def attend_class(self):\n",
    "        print(f\"{self.name} is attending class\")\n",
    "    def appear_exam(self):\n",
    "        print(f\"{self.name} is appearing in exam\")\n",
    "    def result(self):\n",
    "        print(f\"{self.name} is pass in exam\")"
   ]
  },
  {
   "cell_type": "markdown",
   "id": "79be3004-d882-49d1-98ef-29b622e0d13e",
   "metadata": {},
   "source": [
    "* Any object can access data member of class from outside the class.\n",
    "* Any object acn modify data member of class from outside the class.\n",
    "* We neet to protect the data being accessed and modified outdside the class."
   ]
  },
  {
   "cell_type": "code",
   "execution_count": 5,
   "id": "14ef40a7-fc49-4002-a524-95e5b5486852",
   "metadata": {},
   "outputs": [],
   "source": [
    "s1 = Student(\"ds101\", \"Ahmed\", \"AI\", \"Male\", \"ahemed@gmail.com\")"
   ]
  },
  {
   "cell_type": "code",
   "execution_count": 7,
   "id": "ac02032b-58be-4b6a-8ee4-47dc5b47cb05",
   "metadata": {},
   "outputs": [
    {
     "data": {
      "text/plain": [
       "'AI'"
      ]
     },
     "execution_count": 7,
     "metadata": {},
     "output_type": "execute_result"
    }
   ],
   "source": [
    "s1.course # data member of class acessed from outside the class"
   ]
  },
  {
   "cell_type": "code",
   "execution_count": 9,
   "id": "70e658b2-962b-4b47-85ed-76c6e1307346",
   "metadata": {},
   "outputs": [
    {
     "data": {
      "text/plain": [
       "'web devlopment'"
      ]
     },
     "execution_count": 9,
     "metadata": {},
     "output_type": "execute_result"
    }
   ],
   "source": [
    "s1.course = \"web devlopment\"\n",
    "s1.course # data member of class modified from outside the class"
   ]
  },
  {
   "cell_type": "markdown",
   "id": "6d7eb991-ca9a-49a6-9b50-1e25a77263b6",
   "metadata": {},
   "source": [
    "### 4 Pillars of OOP:\n",
    "* Encapsulation\n",
    "* Inheritance\n",
    "* Polymorphism\n",
    "* Abstraction"
   ]
  },
  {
   "cell_type": "markdown",
   "id": "126f0284-17ff-4d14-884c-d1f9893274bd",
   "metadata": {},
   "source": [
    "### Encapsulation:\n",
    "Binding data with methods."
   ]
  },
  {
   "cell_type": "markdown",
   "id": "68f7afef-e243-44d5-9e95-1baa2fed2d08",
   "metadata": {},
   "source": [
    "#### getter setter:"
   ]
  },
  {
   "cell_type": "code",
   "execution_count": 1,
   "id": "7a6b0fd6-82cd-4ec4-8dad-ad8e312e9784",
   "metadata": {},
   "outputs": [],
   "source": [
    "class Student:\n",
    "    def __init__(self, roll, name, course, gender, email):\n",
    "        self.roll = roll\n",
    "        self.name = name\n",
    "        self.course = course\n",
    "        self.gender = gender\n",
    "        self.email = email\n",
    "\n",
    "    def attend_class(self):\n",
    "        print(f\"{self.name} is attending class\")\n",
    "    def appear_exam(self):\n",
    "        print(f\"{self.name} is appearing in exam\")\n",
    "    def result(self):\n",
    "        print(f\"{self.name} is pass in exam\")\n",
    "    def get_roll_number(self):\n",
    "        return self.roll\n",
    "    def set_roll_number(self, new_roll):\n",
    "        self.roll = new_roll\n",
    "    def get_name(self):\n",
    "        return self.name\n",
    "    def set_name(self, new_name):\n",
    "        self.name = new_name\n",
    "        "
   ]
  },
  {
   "cell_type": "code",
   "execution_count": 2,
   "id": "6d934c27-962d-4bd8-8274-329cb6dec3e3",
   "metadata": {},
   "outputs": [],
   "source": [
    "s1 = Student(\"ds101\", \"Ahmed\", \"AI\", \"Male\", \"ahemed@gmail.com\")"
   ]
  },
  {
   "cell_type": "code",
   "execution_count": 3,
   "id": "a2e6d085-a5db-4d82-918e-8429e1e18c64",
   "metadata": {},
   "outputs": [
    {
     "data": {
      "text/plain": [
       "'Ahmed'"
      ]
     },
     "execution_count": 3,
     "metadata": {},
     "output_type": "execute_result"
    }
   ],
   "source": [
    "s1.get_name() # accessing s1 name using get function"
   ]
  },
  {
   "cell_type": "code",
   "execution_count": 6,
   "id": "94de4862-e2a1-4ae7-8f1f-cd9d2788b58d",
   "metadata": {},
   "outputs": [
    {
     "data": {
      "text/plain": [
       "'Abdullah'"
      ]
     },
     "execution_count": 6,
     "metadata": {},
     "output_type": "execute_result"
    }
   ],
   "source": [
    "s1.set_name(\"Abdullah\")\n",
    "s1.get_name() # setting new s1 name using set function"
   ]
  },
  {
   "cell_type": "code",
   "execution_count": 7,
   "id": "8b9b55b3-b2bf-4820-9e73-d9b44d27a71e",
   "metadata": {},
   "outputs": [
    {
     "data": {
      "text/plain": [
       "'ds101'"
      ]
     },
     "execution_count": 7,
     "metadata": {},
     "output_type": "execute_result"
    }
   ],
   "source": [
    "s1.get_roll_number() # getting s1 roll mumber using get function"
   ]
  },
  {
   "cell_type": "code",
   "execution_count": 10,
   "id": "82af222b-0f06-4c8c-be95-475782e9c43c",
   "metadata": {},
   "outputs": [
    {
     "data": {
      "text/plain": [
       "'ds107'"
      ]
     },
     "execution_count": 10,
     "metadata": {},
     "output_type": "execute_result"
    }
   ],
   "source": [
    "s1.set_roll_number(\"ds107\") # setting s1 roll number using set function\n",
    "s1.get_roll_number() # getting s1 roll mumber using get function"
   ]
  },
  {
   "cell_type": "markdown",
   "id": "cf72d0ec-996d-4551-af46-53870eedce55",
   "metadata": {},
   "source": [
    "#### Access Modifiers:\n",
    "* Public: public methods and fields can be accessed directly by any class. All class members are public by default.\n",
    "* Private: protected methods and fields can be accessed within the same class it is declared and its subclass. Use double underscore in start to make method private\n",
    "* Protected: private methods and fields can be only accessed within the same class it is declared. Use single underscore in start to make method protected"
   ]
  },
  {
   "cell_type": "markdown",
   "id": "789f4975-a09f-4c6c-bb8a-a83ae720adba",
   "metadata": {},
   "source": [
    "#### Private Method:"
   ]
  },
  {
   "cell_type": "code",
   "execution_count": 29,
   "id": "9ce47997-3ad1-4d09-a6b6-726efd27ccc3",
   "metadata": {},
   "outputs": [],
   "source": [
    "class BankAccount:\n",
    "    def __init__(self, owner, balance):\n",
    "        self.owner = owner\n",
    "        self.__balance = balance  # private attribute\n",
    "\n",
    "    def deposit(self, amount):\n",
    "        self.__update_balance(amount)\n",
    "        print(f\"{amount} deposited. New balance is {self.__balance}\")\n",
    "\n",
    "    def withdraw(self, amount):\n",
    "        if amount <= self.__balance:\n",
    "            self.__update_balance(-amount)\n",
    "            print(f\"{amount} withdrawn. New balance is {self.__balance}\")\n",
    "        else:\n",
    "            print(\"Insufficient funds.\")\n",
    "\n",
    "    # This is a private method\n",
    "    def __update_balance(self, amount):\n",
    "        self.__balance += amount\n",
    "\n",
    "    def get_balance(self):\n",
    "        return self.__balance"
   ]
  },
  {
   "cell_type": "code",
   "execution_count": 30,
   "id": "d7f0c020-ba8c-4ea8-b70b-16d11e10cee4",
   "metadata": {},
   "outputs": [],
   "source": [
    "acc1 = BankAccount(\"Hani\", 10000)"
   ]
  },
  {
   "cell_type": "code",
   "execution_count": 33,
   "id": "5db8ea1f-c460-473e-a8f3-7bae868065be",
   "metadata": {},
   "outputs": [
    {
     "data": {
      "text/plain": [
       "'Hani'"
      ]
     },
     "execution_count": 33,
     "metadata": {},
     "output_type": "execute_result"
    }
   ],
   "source": [
    "acc1.owner"
   ]
  },
  {
   "cell_type": "code",
   "execution_count": 31,
   "id": "24ab81a5-7858-4f82-9086-2d94e0fe8332",
   "metadata": {},
   "outputs": [
    {
     "name": "stdout",
     "output_type": "stream",
     "text": [
      "5000 deposited. New balance is 15000\n"
     ]
    }
   ],
   "source": [
    "acc1.deposit(5000)"
   ]
  },
  {
   "cell_type": "code",
   "execution_count": 32,
   "id": "1eed1306-adaf-4b88-a995-3e56a310b96e",
   "metadata": {},
   "outputs": [
    {
     "name": "stdout",
     "output_type": "stream",
     "text": [
      "5000 withdrawn. New balance is 10000\n"
     ]
    }
   ],
   "source": [
    "acc1.withdraw(5000)"
   ]
  },
  {
   "cell_type": "code",
   "execution_count": 34,
   "id": "aa7f2d57-c50d-4904-bad9-40068c9eb3ec",
   "metadata": {},
   "outputs": [
    {
     "data": {
      "text/plain": [
       "10000"
      ]
     },
     "execution_count": 34,
     "metadata": {},
     "output_type": "execute_result"
    }
   ],
   "source": [
    "acc1.get_balance()"
   ]
  },
  {
   "cell_type": "code",
   "execution_count": null,
   "id": "72d264b2-0231-43bd-b23a-74487b2b6469",
   "metadata": {},
   "outputs": [],
   "source": [
    " acc1.__update_balance # cannot be accessed outside the class for it is a protected method"
   ]
  },
  {
   "cell_type": "markdown",
   "id": "9236dd1c-6358-4b66-9d7d-3b6a164b6112",
   "metadata": {},
   "source": [
    "#### Protected Method: "
   ]
  },
  {
   "cell_type": "code",
   "execution_count": 3,
   "id": "da4cef9a-354b-4639-8fba-f31f44893be2",
   "metadata": {},
   "outputs": [],
   "source": [
    "class Student:\n",
    "    def __init__(self, roll, name, course, gender, email):\n",
    "        self._roll = roll # making self.roll protected modifier by using underscore in start\n",
    "        self._name = name # making self.name protected modifier by using underscore in start\n",
    "        self.course = course\n",
    "        self.gender = gender\n",
    "        self.email = email\n",
    "\n",
    "    def attend_class(self):\n",
    "        print(f\"{self.name} is attending class\")\n",
    "    def appear_exam(self):\n",
    "        print(f\"{self.name} is appearing in exam\")\n",
    "    def result(self):\n",
    "        print(f\"{self.name} is pass in exam\")\n",
    "    def get_roll_number(self):\n",
    "        return self._roll \n",
    "    def set_roll_number(self, new_roll):\n",
    "        self._roll = new_roll\n",
    "    def get_name(self):\n",
    "        return self._name\n",
    "    def set_name(self, new_name):\n",
    "        black_listed_name = \"Atif\"\n",
    "        if new_name == black_listed_name: # adding validation for black listed names\n",
    "            print(\"This name is not allowed\")\n",
    "        else:\n",
    "            self._name = new_name"
   ]
  },
  {
   "cell_type": "code",
   "execution_count": 4,
   "id": "f1b2fed7-f87d-48dc-a2f9-13689f0cffa0",
   "metadata": {},
   "outputs": [],
   "source": [
    "s1 = Student(\"ds101\", \"Ahmed\", \"AI\", \"Male\", \"ahemed@gmail.com\")"
   ]
  },
  {
   "cell_type": "code",
   "execution_count": 5,
   "id": "2d866578-d875-449e-b05a-5f344bbfe59c",
   "metadata": {},
   "outputs": [
    {
     "data": {
      "text/plain": [
       "'Ahmed'"
      ]
     },
     "execution_count": 5,
     "metadata": {},
     "output_type": "execute_result"
    }
   ],
   "source": [
    "s1.get_name()"
   ]
  },
  {
   "cell_type": "code",
   "execution_count": 18,
   "id": "6b0b093e-652a-46ce-8a88-3b073f8d1bc1",
   "metadata": {},
   "outputs": [
    {
     "data": {
      "text/plain": [
       "'Ahmed'"
      ]
     },
     "execution_count": 18,
     "metadata": {},
     "output_type": "execute_result"
    }
   ],
   "source": [
    "# s1._name and s1._roll cannot be ccessed outside the class unless the user know the variable name"
   ]
  },
  {
   "cell_type": "code",
   "execution_count": 19,
   "id": "52274ab6-56d7-4954-8be4-a566a9f6c0b4",
   "metadata": {},
   "outputs": [],
   "source": [
    "from student import Student # storing the source code file in module so the user can't see the code"
   ]
  },
  {
   "cell_type": "code",
   "execution_count": 20,
   "id": "0232f10c-1215-4afe-b1b4-e809df0222a6",
   "metadata": {},
   "outputs": [
    {
     "data": {
      "text/plain": [
       "'Ahmed'"
      ]
     },
     "execution_count": 20,
     "metadata": {},
     "output_type": "execute_result"
    }
   ],
   "source": [
    "s1.get_name() "
   ]
  },
  {
   "cell_type": "code",
   "execution_count": 6,
   "id": "88a56a71-f74b-47d4-927b-308c0dc7aacd",
   "metadata": {},
   "outputs": [
    {
     "name": "stdout",
     "output_type": "stream",
     "text": [
      "This name is not allowed\n"
     ]
    }
   ],
   "source": [
    "s1.set_name(\"Atif\") # trying to set black listed name which is not allowed"
   ]
  },
  {
   "cell_type": "code",
   "execution_count": 40,
   "id": "e8d597f8-ef92-4d29-8d08-bb8372d28db9",
   "metadata": {},
   "outputs": [
    {
     "data": {
      "text/plain": [
       "'Anas'"
      ]
     },
     "execution_count": 40,
     "metadata": {},
     "output_type": "execute_result"
    }
   ],
   "source": [
    "s1.get_name()"
   ]
  },
  {
   "cell_type": "code",
   "execution_count": 9,
   "id": "690a7532-627d-4bd5-9621-e673304a81f3",
   "metadata": {},
   "outputs": [],
   "source": [
    "class Laptop:\n",
    "    def __init__(self, model, ram, storage, processor):\n",
    "        self._model = model\n",
    "        self._ram = ram\n",
    "        self._storage = storage\n",
    "        self._processor = processor\n",
    "    def get_model(self):\n",
    "        return self._model\n",
    "    def set_model(self, new_model):\n",
    "        self._model = new_model\n",
    "    def get_ram(self):\n",
    "        return self._ram\n",
    "    def set_ram(self, new_ram):\n",
    "        if new_ram > 16: # adding vlidation for ram capacity\n",
    "            print(f\"{new_ram}GB is not supported\")\n",
    "        else:\n",
    "            self._ram = new_ram\n",
    "            print(f\"Ram updated to {new_ram} successfully\")\n",
    "    def get_storage(self):\n",
    "        return self._storage\n",
    "    def set_storage(self, new_storage):\n",
    "        self._storage = new_storage"
   ]
  },
  {
   "cell_type": "code",
   "execution_count": 3,
   "id": "f874737f-ddad-447e-a790-df6d58d00db1",
   "metadata": {},
   "outputs": [],
   "source": [
    "lap1 = Laptop(\"HP\", 8, \"1TB\", \"Corei5\") # creating an object "
   ]
  },
  {
   "cell_type": "code",
   "execution_count": 4,
   "id": "dce2e5ce-fe1b-4934-8f53-879e0a1e4f38",
   "metadata": {},
   "outputs": [
    {
     "data": {
      "text/plain": [
       "8"
      ]
     },
     "execution_count": 4,
     "metadata": {},
     "output_type": "execute_result"
    }
   ],
   "source": [
    "lap1.get_ram() # getting ram using get function"
   ]
  },
  {
   "cell_type": "code",
   "execution_count": 7,
   "id": "f06b2483-4d30-44f4-a08b-1f2a370f4fdb",
   "metadata": {},
   "outputs": [
    {
     "data": {
      "text/plain": [
       "12"
      ]
     },
     "execution_count": 7,
     "metadata": {},
     "output_type": "execute_result"
    }
   ],
   "source": [
    "lap1.set_ram(12)\n",
    "lap1.get_ram() # setiing new ram using set ram function"
   ]
  },
  {
   "cell_type": "code",
   "execution_count": 10,
   "id": "4b1522dd-2fdd-4322-99cb-f5dc01d34eb7",
   "metadata": {},
   "outputs": [
    {
     "name": "stdout",
     "output_type": "stream",
     "text": [
      "56GB os not supported\n"
     ]
    }
   ],
   "source": [
    "lap1.set_ram(56) # trying to set unvalid value of ram to see if the validation works"
   ]
  },
  {
   "cell_type": "markdown",
   "id": "cd5b45ee-56ee-4836-adde-ab0bb5770fc0",
   "metadata": {},
   "source": [
    "### Inheritance:\n",
    "* If Class A inherits Class B, then Class B is called parent class and Class A is called child Class\n",
    "* The child class will have access to everything of parent class\n",
    "* Python supports both multi inheritance and multi level inheritance"
   ]
  },
  {
   "cell_type": "code",
   "execution_count": 12,
   "id": "ec09b718-92de-4486-ba41-b1c1f6dfd525",
   "metadata": {},
   "outputs": [],
   "source": [
    "# Parent Class:\n",
    "\n",
    "class Car():\n",
    "    def __init__(self, make, model, year):\n",
    "        self.make = make\n",
    "        self.model = model\n",
    "        self.year = year\n",
    "        self.odometer_reading = 0\n",
    "\n",
    "    def get_descriptive_name(self):\n",
    "        long_name = str(self.year) + ' ' + self.make + ' ' + self.model\n",
    "        return long_name.title()\n",
    "    def read_odometer(self):\n",
    "        print(\"This car has \" + str(self.odometer_reading) + \" miles on it.\")\n",
    "    def update_odometer(self, mileage):\n",
    "        if mileage >= self.odometer_reading:\n",
    "            self.odometer_reading = mileage\n",
    "        else:\n",
    "            print(\"You can't roll back an odometer!\")\n",
    "    def increament_odometer(self, miles):\n",
    "        self.odometer_reading += miles"
   ]
  },
  {
   "cell_type": "code",
   "execution_count": 17,
   "id": "a46be66f-c276-48ab-a88e-854b30072d37",
   "metadata": {},
   "outputs": [],
   "source": [
    "# Child Class:\n",
    "\n",
    "class ElectricCar(Car):\n",
    "    pass"
   ]
  },
  {
   "cell_type": "code",
   "execution_count": 18,
   "id": "30079988-38ad-4578-b7cd-777f4d92770f",
   "metadata": {},
   "outputs": [],
   "source": [
    "ec1 = ElectricCar(\"Tesla\", \"ModelS\", \"2025\") # creating an object of child class, it will get all instances of parent class because it inherits it."
   ]
  },
  {
   "cell_type": "code",
   "execution_count": 19,
   "id": "58ebbfeb-702c-4e5b-8156-f41cfea7720e",
   "metadata": {},
   "outputs": [
    {
     "data": {
      "text/plain": [
       "'2025 Tesla Models'"
      ]
     },
     "execution_count": 19,
     "metadata": {},
     "output_type": "execute_result"
    }
   ],
   "source": [
    "ec1.get_descriptive_name()"
   ]
  },
  {
   "cell_type": "code",
   "execution_count": 20,
   "id": "531edb0d-4052-438f-844d-3fe9c1ba9360",
   "metadata": {},
   "outputs": [
    {
     "name": "stdout",
     "output_type": "stream",
     "text": [
      "This car has 0 miles on it.\n"
     ]
    }
   ],
   "source": [
    "ec1.read_odometer()"
   ]
  },
  {
   "cell_type": "code",
   "execution_count": 22,
   "id": "c2344eae-fa01-47c9-b8c8-160ad9cde313",
   "metadata": {},
   "outputs": [
    {
     "name": "stdout",
     "output_type": "stream",
     "text": [
      "This car has 100 miles on it.\n"
     ]
    }
   ],
   "source": [
    "ec1.update_odometer(100)\n",
    "ec1.read_odometer()"
   ]
  },
  {
   "cell_type": "code",
   "execution_count": 23,
   "id": "42012821-a786-4e9d-a3ea-ee60cb51b7f9",
   "metadata": {},
   "outputs": [
    {
     "name": "stdout",
     "output_type": "stream",
     "text": [
      "This car has 125 miles on it.\n"
     ]
    }
   ],
   "source": [
    "ec1.increament_odometer(25)\n",
    "ec1.read_odometer()"
   ]
  },
  {
   "cell_type": "code",
   "execution_count": 24,
   "id": "86dd9643-0120-4837-b5b2-25654cd83229",
   "metadata": {},
   "outputs": [],
   "source": [
    "class ElectricCar(Car):\n",
    "    def __init__(self, make, model, year, seats, battery): \n",
    "        super().__init__(make, model, year) # using super function to call method from parent class, so we don't need to assign value to instance again\n",
    "        self.seats = seats \n",
    "        self.battery = battery\n",
    "    def charge_battery(self):\n",
    "        print(\"Electric car's battery is being charged\")"
   ]
  },
  {
   "cell_type": "code",
   "execution_count": 26,
   "id": "7c80742e-a6a7-4bcb-a991-eeec8f3415e7",
   "metadata": {},
   "outputs": [],
   "source": [
    "ec1 = ElectricCar(\"Tesla\", \"Model3\", \"2025\", 6, \"Osaka\")"
   ]
  },
  {
   "cell_type": "code",
   "execution_count": 27,
   "id": "c144583f-0222-4957-8fea-41d681673fdc",
   "metadata": {},
   "outputs": [
    {
     "data": {
      "text/plain": [
       "'2025 Tesla Model3'"
      ]
     },
     "execution_count": 27,
     "metadata": {},
     "output_type": "execute_result"
    }
   ],
   "source": [
    "ec1.get_descriptive_name()"
   ]
  }
 ],
 "metadata": {
  "kernelspec": {
   "display_name": "Python 3 (ipykernel)",
   "language": "python",
   "name": "python3"
  },
  "language_info": {
   "codemirror_mode": {
    "name": "ipython",
    "version": 3
   },
   "file_extension": ".py",
   "mimetype": "text/x-python",
   "name": "python",
   "nbconvert_exporter": "python",
   "pygments_lexer": "ipython3",
   "version": "3.13.5"
  }
 },
 "nbformat": 4,
 "nbformat_minor": 5
}
