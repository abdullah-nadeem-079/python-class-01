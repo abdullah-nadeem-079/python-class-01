{
 "cells": [
  {
   "cell_type": "markdown",
   "id": "4ed28267-a61c-49cd-9a98-5aa0a841b3e4",
   "metadata": {},
   "source": [
    "## Today's Topics:\n",
    "* More about Functions\n",
    "    * Local Variables\n",
    "    * Return Statement in functions\n",
    "* Shop Module\n",
    "    * shopping_cart function\n",
    "    * generate_bill function\n",
    "    * total_amount function\n",
    "    * apply_discount function\n",
    "    * apply_tax function"
   ]
  },
  {
   "cell_type": "markdown",
   "id": "76a8e933-9d41-4845-b753-b5ff6f590c98",
   "metadata": {},
   "source": [
    "#### Local variables:\n",
    "* veriables defined inside a functiom ara called local variables\n",
    "* local variables can only be used inside the function\n",
    "* scope of local variables is only inside the function "
   ]
  },
  {
   "cell_type": "code",
   "execution_count": 15,
   "id": "81bd8ae5-f923-41b6-9ec4-bf67b7df5389",
   "metadata": {},
   "outputs": [],
   "source": [
    "# local variable defined:\n",
    "def square(n):\n",
    "    squaared = n**2\n",
    "    print(squaared)"
   ]
  },
  {
   "cell_type": "code",
   "execution_count": 18,
   "id": "f1e075d5-5ff1-4f3f-bf09-66b5dd9485cf",
   "metadata": {},
   "outputs": [
    {
     "name": "stdout",
     "output_type": "stream",
     "text": [
      "16\n"
     ]
    },
    {
     "ename": "TypeError",
     "evalue": "unsupported operand type(s) for +: 'NoneType' and 'int'",
     "output_type": "error",
     "traceback": [
      "\u001b[1;31m---------------------------------------------------------------------------\u001b[0m",
      "\u001b[1;31mTypeError\u001b[0m                                 Traceback (most recent call last)",
      "Cell \u001b[1;32mIn[18], line 1\u001b[0m\n\u001b[1;32m----> 1\u001b[0m square(\u001b[38;5;241m4\u001b[39m) \u001b[38;5;241m+\u001b[39m \u001b[38;5;241m100\u001b[39m\n",
      "\u001b[1;31mTypeError\u001b[0m: unsupported operand type(s) for +: 'NoneType' and 'int'"
     ]
    }
   ],
   "source": [
    "square(4) + 100 # output of local variable without return statement, it shows the nonetype error"
   ]
  },
  {
   "cell_type": "markdown",
   "id": "05adbfca-6229-4bf3-ac9f-71c11301f390",
   "metadata": {},
   "source": [
    "#### Return Statement in functions:"
   ]
  },
  {
   "cell_type": "code",
   "execution_count": 3,
   "id": "1006c63c-50ef-403a-985b-ce59ea22d239",
   "metadata": {},
   "outputs": [],
   "source": [
    "# local variable with return statement defined:\n",
    "def square(n):\n",
    "    squaared = n**2\n",
    "    return(squaared)\n",
    "\n",
    "# return value can be accessed anywhere in the file"
   ]
  },
  {
   "cell_type": "code",
   "execution_count": 4,
   "id": "d86d8af5-81c2-4a83-905b-28c244973951",
   "metadata": {},
   "outputs": [
    {
     "data": {
      "text/plain": [
       "116"
      ]
     },
     "execution_count": 4,
     "metadata": {},
     "output_type": "execute_result"
    }
   ],
   "source": [
    "square(4) + 100 # output of the return statement defined in local varible above"
   ]
  },
  {
   "cell_type": "code",
   "execution_count": 5,
   "id": "2047e22e-fd11-4704-badb-945812745453",
   "metadata": {},
   "outputs": [],
   "source": [
    "result = square(4) + 100 # storing result of return statement so it can be called anywhere in the file"
   ]
  },
  {
   "cell_type": "code",
   "execution_count": 31,
   "id": "5035a375-0fef-4c34-a2aa-e6628ff61e00",
   "metadata": {},
   "outputs": [
    {
     "data": {
      "text/plain": [
       "116"
      ]
     },
     "execution_count": 31,
     "metadata": {},
     "output_type": "execute_result"
    }
   ],
   "source": [
    "result # output of calling result of the returned function "
   ]
  },
  {
   "cell_type": "markdown",
   "id": "e79c56ee-96be-445b-9d70-3dedc0219289",
   "metadata": {},
   "source": [
    "## Shop Module Functions:"
   ]
  },
  {
   "cell_type": "code",
   "execution_count": 6,
   "id": "e817b3ac-689c-4c7d-8042-7cbb87bc08da",
   "metadata": {},
   "outputs": [],
   "source": [
    "mamu_shop = [{\"item\" : \"floor\", \"price\" : 100, \"inventory\" : 250}, \n",
    "             {\"item\" : \"sugar\", \"price\" : 180, \"inventory\" : 500}, \n",
    "             {\"item\" : \"rice\", \"price\" : 300, \"inventory\" : 500}, \n",
    "             {\"item\" : \"oil\", \"price\" : 500, \"inventory\" : 1000}, \n",
    "             {\"item\" : \"ghee\", \"price\" : 500, \"inventory\" : 500}, \n",
    "             {\"item\" : \"tea\", \"price\" : 400, \"inventory\" : 100}, \n",
    "             {\"item\" : \"soap\", \"price\" : 200, \"inventory\" : 500}, \n",
    "             {\"item\" : \"salt\", \"price\" : 150, \"inventory\" : 100}]"
   ]
  },
  {
   "cell_type": "code",
   "execution_count": 16,
   "id": "abba7b1f-ff01-4a6b-b551-0c023bf329bc",
   "metadata": {},
   "outputs": [],
   "source": [
    "def shopping():\n",
    "    cart = {}\n",
    "    while True:\n",
    "        item_name = input(\"Enter the item name you want to buy or press q to exit:\").lower()\n",
    "        if item_name == \"q\":\n",
    "            break\n",
    "        else:\n",
    "            for a in mamu_shop:\n",
    "                if a[\"item\"] == item_name:\n",
    "                    if item_name in cart.keys():\n",
    "                        print(\"item already added in the cart\")\n",
    "                    else:\n",
    "                        print(f\"{item_name} it's for Rs. {a[\"price\"]}\")\n",
    "                        quantity = float(input(\"How much do you want?\"))\n",
    "                        if a[\"inventory\"] >= quantity:\n",
    "                            cart[item_name] = a[\"price\"] * quantity\n",
    "                            a[\"inventory\"] -= quantity\n",
    "                        else:\n",
    "                            print(f\"{item_name} is not abailable enough\")\n",
    "    generate_bill(cart)"
   ]
  },
  {
   "cell_type": "code",
   "execution_count": 14,
   "id": "2f3aa7bb-ab24-4fbd-afdc-5b8eb98f9073",
   "metadata": {},
   "outputs": [],
   "source": [
    "def generate_bill(cart):\n",
    "    net = total(cart)\n",
    "    tax = apply_tax(net)\n",
    "    disc = apply_discount(net)\n",
    "    for item, price in cart.items():\n",
    "        print(f\"\"\"\n",
    "        {item} : {price}\n",
    "        \"\"\")\n",
    "    print(f\"\"\"\n",
    "        Total Amount : {net}\n",
    "        Tax Applied : {tax}\n",
    "        Applied Discount : {disc}\n",
    "        Amount Payable : {net + tax - disc}\n",
    "        \"\"\")"
   ]
  },
  {
   "cell_type": "code",
   "execution_count": 8,
   "id": "ea30c940-42eb-4ce3-99e6-996ed3d1b75e",
   "metadata": {},
   "outputs": [],
   "source": [
    "def total(cart):\n",
    "    total_amount = sum(cart.values())\n",
    "    return total_amount"
   ]
  },
  {
   "cell_type": "code",
   "execution_count": 9,
   "id": "e3701a9b-d5b0-45f6-80bc-35a871b6a264",
   "metadata": {},
   "outputs": [],
   "source": [
    "def apply_discount(total_amount):\n",
    "    \n",
    "    if total_amount >= 50000:\n",
    "        disc = total_amount * .10\n",
    "    elif total_amount >= 25000:\n",
    "        disc = total_amount * .05\n",
    "    elif total_amount >= 10000:\n",
    "        disc = total_amount * .01\n",
    "    else:\n",
    "        disc = total_amount * 0\n",
    "\n",
    "    return disc\n",
    "        "
   ]
  },
  {
   "cell_type": "code",
   "execution_count": 10,
   "id": "15f1b594-2f76-478e-ae0f-e61e7c8cdf58",
   "metadata": {},
   "outputs": [],
   "source": [
    "def apply_tax(total_amount):\n",
    "    if total_amount >= 50000:\n",
    "        tax = total_amount * .05\n",
    "    elif total_amount >= 25000:\n",
    "        tax = total_amount * .025\n",
    "    elif total_amount >= 10000:\n",
    "        tax = total_amount * .001\n",
    "    else:\n",
    "        tax = total_amount * 0\n",
    "\n",
    "    return tax"
   ]
  },
  {
   "cell_type": "code",
   "execution_count": 11,
   "id": "a906731f-88f5-4818-8246-18baa654c933",
   "metadata": {},
   "outputs": [],
   "source": [
    "import shop_module # importing shop module "
   ]
  },
  {
   "cell_type": "code",
   "execution_count": 13,
   "id": "4b515b33-6f43-4b5a-b17b-98ae55518012",
   "metadata": {},
   "outputs": [
    {
     "name": "stdin",
     "output_type": "stream",
     "text": [
      "Enter the item name you want to buy or press q to exit: sugar\n"
     ]
    },
    {
     "name": "stdout",
     "output_type": "stream",
     "text": [
      "sugar it's for Rs. 180\n"
     ]
    },
    {
     "name": "stdin",
     "output_type": "stream",
     "text": [
      "How much do you want? 15\n",
      "Enter the item name you want to buy or press q to exit: soap\n"
     ]
    },
    {
     "name": "stdout",
     "output_type": "stream",
     "text": [
      "soap it's for Rs. 200\n"
     ]
    },
    {
     "name": "stdin",
     "output_type": "stream",
     "text": [
      "How much do you want? 20\n",
      "Enter the item name you want to buy or press q to exit: oil\n"
     ]
    },
    {
     "name": "stdout",
     "output_type": "stream",
     "text": [
      "oil it's for Rs. 500\n"
     ]
    },
    {
     "name": "stdin",
     "output_type": "stream",
     "text": [
      "How much do you want? 15\n",
      "Enter the item name you want to buy or press q to exit: rice\n"
     ]
    },
    {
     "name": "stdout",
     "output_type": "stream",
     "text": [
      "rice it's for Rs. 300\n"
     ]
    },
    {
     "name": "stdin",
     "output_type": "stream",
     "text": [
      "How much do you want? 20\n",
      "Enter the item name you want to buy or press q to exit: ghee\n"
     ]
    },
    {
     "name": "stdout",
     "output_type": "stream",
     "text": [
      "ghee it's for Rs. 500\n"
     ]
    },
    {
     "name": "stdin",
     "output_type": "stream",
     "text": [
      "How much do you want? 15\n",
      "Enter the item name you want to buy or press q to exit: q\n"
     ]
    },
    {
     "name": "stdout",
     "output_type": "stream",
     "text": [
      "\n",
      "        sugar : 2700.0\n",
      "        \n",
      "\n",
      "        soap : 4000.0\n",
      "        \n",
      "\n",
      "        oil : 7500.0\n",
      "        \n",
      "\n",
      "        rice : 6000.0\n",
      "        \n",
      "\n",
      "        ghee : 7500.0\n",
      "        \n",
      "\n",
      "        Total Amount : 27700.0\n",
      "        Tax Applied : 692.5\n",
      "        Applied Discount : 1385.0\n",
      "        Amount Payable : 27007.5\n",
      "        \n"
     ]
    }
   ],
   "source": [
    "shopping()"
   ]
  }
 ],
 "metadata": {
  "kernelspec": {
   "display_name": "Python 3 (ipykernel)",
   "language": "python",
   "name": "python3"
  },
  "language_info": {
   "codemirror_mode": {
    "name": "ipython",
    "version": 3
   },
   "file_extension": ".py",
   "mimetype": "text/x-python",
   "name": "python",
   "nbconvert_exporter": "python",
   "pygments_lexer": "ipython3",
   "version": "3.13.5"
  }
 },
 "nbformat": 4,
 "nbformat_minor": 5
}
