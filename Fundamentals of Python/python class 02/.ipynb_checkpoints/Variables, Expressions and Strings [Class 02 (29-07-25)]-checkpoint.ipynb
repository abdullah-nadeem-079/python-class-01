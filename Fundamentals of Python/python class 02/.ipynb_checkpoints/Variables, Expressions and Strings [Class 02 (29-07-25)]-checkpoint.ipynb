{
 "cells": [
  {
   "cell_type": "markdown",
   "id": "9a4794b4-a927-4b5f-9638-6bee593b5dc8",
   "metadata": {},
   "source": [
    "## Today's Topics:\n",
    "* Variables\n",
    "* Expressions\n",
    "* String"
   ]
  },
  {
   "cell_type": "markdown",
   "id": "93d212df-b66b-4f11-814c-5bea93d82f28",
   "metadata": {},
   "source": [
    "## Variable:\n",
    "A variable/identifier is a name given to a memory location in a program.\n",
    "\n",
    "## Rules for naming variable:\n",
    "* Identifiers can be combination of uppercase and lowercase letters, digits or an underscore (_).\n",
    "* Python is case sensitive language so name, Name and NAME are considered as separate variables.\n",
    "* An identifier can not start with digit so name01 is valid but 01name is not valid for identifier.\n",
    "* identifier can be of any length.\n",
    "* Variable cannot be named with reserved words.\n",
    "* Variables cannot contain blank spaces."
   ]
  },
  {
   "cell_type": "markdown",
   "id": "fbe1c686-4ca9-4916-9416-515df29a17bb",
   "metadata": {},
   "source": [
    "### Example:"
   ]
  },
  {
   "cell_type": "code",
   "execution_count": null,
   "id": "eabd850a-6026-45d9-9753-e707992dfeb8",
   "metadata": {},
   "outputs": [],
   "source": [
    "name = \"Abdullah\"\n",
    "age = 19\n",
    "price = 49.99"
   ]
  },
  {
   "cell_type": "markdown",
   "id": "9ffbc3e7-b8a5-418a-9b35-4ad56f0d9bb5",
   "metadata": {},
   "source": [
    "## Strings:"
   ]
  },
  {
   "cell_type": "raw",
   "id": "6b4a5495-2964-48c0-810f-c98f89946c10",
   "metadata": {},
   "source": [
    "String is a data type that stores a sequence of charaacters with quotations.\n",
    "String is immutable (cannot be changed)."
   ]
  },
  {
   "cell_type": "code",
   "execution_count": 25,
   "id": "1564b8c1-c99f-433a-8716-27414322f1d0",
   "metadata": {},
   "outputs": [],
   "source": [
    "text = \"i am a python string.\""
   ]
  },
  {
   "cell_type": "code",
   "execution_count": 2,
   "id": "650fb470-41af-4d3b-8ae0-b0441c90a805",
   "metadata": {},
   "outputs": [
    {
     "name": "stdout",
     "output_type": "stream",
     "text": [
      "<class 'str'>\n"
     ]
    }
   ],
   "source": [
    "print(type(text))"
   ]
  },
  {
   "cell_type": "markdown",
   "id": "d9e7de5f-355b-4e72-8280-fef8f7e28967",
   "metadata": {},
   "source": [
    "### Basic String Operations:"
   ]
  },
  {
   "cell_type": "code",
   "execution_count": 4,
   "id": "96c8cfaa-7f01-4a43-92ab-5161bda68cd5",
   "metadata": {},
   "outputs": [
    {
     "data": {
      "text/plain": [
       "'Hello Python'"
      ]
     },
     "execution_count": 4,
     "metadata": {},
     "output_type": "execute_result"
    }
   ],
   "source": [
    "\"Hello\" + \" \" + \"Python\" # Concatenation"
   ]
  },
  {
   "cell_type": "code",
   "execution_count": 5,
   "id": "0c4131bf-2333-401e-8865-c1cfa9adf897",
   "metadata": {},
   "outputs": [
    {
     "data": {
      "text/plain": [
       "21"
      ]
     },
     "execution_count": 5,
     "metadata": {},
     "output_type": "execute_result"
    }
   ],
   "source": [
    "len(text) # displays the length of string."
   ]
  },
  {
   "cell_type": "code",
   "execution_count": 10,
   "id": "87cf9f53-8c3a-40a9-9ea1-4e456b5da3b4",
   "metadata": {},
   "outputs": [
    {
     "data": {
      "text/plain": [
       "'a'"
      ]
     },
     "execution_count": 10,
     "metadata": {},
     "output_type": "execute_result"
    }
   ],
   "source": [
    "text[5] # indexing"
   ]
  },
  {
   "cell_type": "code",
   "execution_count": 16,
   "id": "22ae39a2-520d-440f-8549-a29007c41d69",
   "metadata": {},
   "outputs": [
    {
     "data": {
      "text/plain": [
       "'pyt'"
      ]
     },
     "execution_count": 16,
     "metadata": {},
     "output_type": "execute_result"
    }
   ],
   "source": [
    "text[7:10] # slicing"
   ]
  },
  {
   "cell_type": "markdown",
   "id": "959f5354-d721-447e-a953-a10b3ff1ca08",
   "metadata": {},
   "source": [
    "### String Functions:"
   ]
  },
  {
   "cell_type": "code",
   "execution_count": 17,
   "id": "b21d42c7-209f-4ed8-9d7c-c38d2e80a53c",
   "metadata": {},
   "outputs": [
    {
     "data": {
      "text/plain": [
       "'I am a python string.'"
      ]
     },
     "execution_count": 17,
     "metadata": {},
     "output_type": "execute_result"
    }
   ],
   "source": [
    "text.capitalize() # captalize the first letter of string"
   ]
  },
  {
   "cell_type": "code",
   "execution_count": 27,
   "id": "8a619e6e-e407-4411-adb2-fc83a9e15fae",
   "metadata": {},
   "outputs": [
    {
     "data": {
      "text/plain": [
       "'i am a python string.'"
      ]
     },
     "execution_count": 27,
     "metadata": {},
     "output_type": "execute_result"
    }
   ],
   "source": [
    "text.lower() # converts the string in lowercase"
   ]
  },
  {
   "cell_type": "code",
   "execution_count": 28,
   "id": "4a069a1d-3547-4c5e-9cf7-25b7666fc4a1",
   "metadata": {},
   "outputs": [
    {
     "data": {
      "text/plain": [
       "'I AM A PYTHON STRING.'"
      ]
     },
     "execution_count": 28,
     "metadata": {},
     "output_type": "execute_result"
    }
   ],
   "source": [
    "text.upper() # converts the string in uppercase"
   ]
  },
  {
   "cell_type": "code",
   "execution_count": 29,
   "id": "6fe66b4b-433c-4d72-a51c-3f89375a3652",
   "metadata": {},
   "outputs": [
    {
     "data": {
      "text/plain": [
       "2"
      ]
     },
     "execution_count": 29,
     "metadata": {},
     "output_type": "execute_result"
    }
   ],
   "source": [
    "text.count(\"i\") # counts the occurance of sub part of the string"
   ]
  },
  {
   "cell_type": "code",
   "execution_count": 31,
   "id": "5015d94a-1121-4498-8eb1-20657fd063b5",
   "metadata": {},
   "outputs": [
    {
     "data": {
      "text/plain": [
       "15"
      ]
     },
     "execution_count": 31,
     "metadata": {},
     "output_type": "execute_result"
    }
   ],
   "source": [
    "text.find(\"t\", 10) # displays the index of the first occurance of the selected substring"
   ]
  },
  {
   "cell_type": "code",
   "execution_count": 32,
   "id": "45e72087-8b6d-438d-9b99-f5646b916c02",
   "metadata": {},
   "outputs": [
    {
     "data": {
      "text/plain": [
       "True"
      ]
     },
     "execution_count": 32,
     "metadata": {},
     "output_type": "execute_result"
    }
   ],
   "source": [
    "text.startswith(\"i\") # checks whether the string starts with given letter"
   ]
  },
  {
   "cell_type": "code",
   "execution_count": 33,
   "id": "1080f8b4-19af-44a7-8c49-52a1e78f8b3f",
   "metadata": {},
   "outputs": [
    {
     "data": {
      "text/plain": [
       "False"
      ]
     },
     "execution_count": 33,
     "metadata": {},
     "output_type": "execute_result"
    }
   ],
   "source": [
    "text.endswith(\"h\") # checks whether the string ends with given letter"
   ]
  },
  {
   "cell_type": "code",
   "execution_count": 34,
   "id": "ec1f774a-f613-4c4e-9dfd-49f2404026ab",
   "metadata": {},
   "outputs": [
    {
     "data": {
      "text/plain": [
       "'i am a python string.'"
      ]
     },
     "execution_count": 34,
     "metadata": {},
     "output_type": "execute_result"
    }
   ],
   "source": [
    "text.strip() # removes the spaces from the start and end of the string"
   ]
  },
  {
   "cell_type": "code",
   "execution_count": 35,
   "id": "5d4dbd77-8911-466c-9199-f0f67b8bee91",
   "metadata": {},
   "outputs": [
    {
     "data": {
      "text/plain": [
       "'i am a character string.'"
      ]
     },
     "execution_count": 35,
     "metadata": {},
     "output_type": "execute_result"
    }
   ],
   "source": [
    "text.replace(\"python\", \"character\") # replaces the one substring with another"
   ]
  },
  {
   "cell_type": "code",
   "execution_count": 10,
   "id": "883ed647-311e-4f12-955f-88240e17feb7",
   "metadata": {},
   "outputs": [],
   "source": [
    "age = \"23\"\n",
    "name = \"abdullah\"\n",
    "var = \" \""
   ]
  },
  {
   "cell_type": "code",
   "execution_count": 11,
   "id": "dcb1fa09-6b1b-4af9-ad32-21680a201dd8",
   "metadata": {},
   "outputs": [
    {
     "data": {
      "text/plain": [
       "False"
      ]
     },
     "execution_count": 11,
     "metadata": {},
     "output_type": "execute_result"
    }
   ],
   "source": [
    "age.isalpha() # checks whether the value is alphabet or not"
   ]
  },
  {
   "cell_type": "code",
   "execution_count": 12,
   "id": "d43035ab-f8e2-4323-adc9-6fa9b971366a",
   "metadata": {},
   "outputs": [
    {
     "data": {
      "text/plain": [
       "True"
      ]
     },
     "execution_count": 12,
     "metadata": {},
     "output_type": "execute_result"
    }
   ],
   "source": [
    "age.isalnum() # checks whether the value is numeric or not"
   ]
  },
  {
   "cell_type": "code",
   "execution_count": 13,
   "id": "dfaceeee-f21f-4978-be20-ddd288273bf7",
   "metadata": {},
   "outputs": [
    {
     "data": {
      "text/plain": [
       "True"
      ]
     },
     "execution_count": 13,
     "metadata": {},
     "output_type": "execute_result"
    }
   ],
   "source": [
    "var.isspace() # checks whether the value is space or not"
   ]
  },
  {
   "cell_type": "code",
   "execution_count": 14,
   "id": "353f711c-18de-474b-97f4-9ecefda938ff",
   "metadata": {},
   "outputs": [
    {
     "data": {
      "text/plain": [
       "True"
      ]
     },
     "execution_count": 14,
     "metadata": {},
     "output_type": "execute_result"
    }
   ],
   "source": [
    "age.isdigit() # checks whether the value is digit or not"
   ]
  },
  {
   "cell_type": "code",
   "execution_count": 15,
   "id": "1aa1aa1c-bddb-4a51-b109-755249c1c58b",
   "metadata": {},
   "outputs": [
    {
     "data": {
      "text/plain": [
       "True"
      ]
     },
     "execution_count": 15,
     "metadata": {},
     "output_type": "execute_result"
    }
   ],
   "source": [
    "name.islower() # checks whether the value is in lowercase or not"
   ]
  },
  {
   "cell_type": "code",
   "execution_count": 18,
   "id": "eef2062c-d7d8-4d8c-aaa1-5baabcf99a85",
   "metadata": {},
   "outputs": [
    {
     "data": {
      "text/plain": [
       "True"
      ]
     },
     "execution_count": 18,
     "metadata": {},
     "output_type": "execute_result"
    }
   ],
   "source": [
    "age.isdecimal() # checks whether the value is decimal or not"
   ]
  },
  {
   "cell_type": "markdown",
   "id": "17a59c9d-9afc-47ee-aae6-a14f21031a7f",
   "metadata": {},
   "source": [
    "## Concatenation in detail:"
   ]
  },
  {
   "cell_type": "code",
   "execution_count": 22,
   "id": "95132cfd-f17e-426b-8c66-204fd7df54fb",
   "metadata": {},
   "outputs": [
    {
     "name": "stdin",
     "output_type": "stream",
     "text": [
      "Apka naam kia hai? Hani\n",
      "Apki age kitni hai? 18\n",
      "App kahan rehti hein? Karachi\n"
     ]
    },
    {
     "name": "stdout",
     "output_type": "stream",
     "text": [
      "Mera naam Hani hai Mein 18 saal ki hun or mein Karachi mein rahti hun.\n"
     ]
    }
   ],
   "source": [
    "Name = input(\"Apka naam kia hai?\")\n",
    "Age = int(input(\"Apki age kitni hai?\"))\n",
    "City = input(\"App kahan rehti hein?\")\n",
    "\n",
    "print(\"Mera naam \" + Name + \" hai\" \" Mein \" + str(Age) + \" saal ki hun or mein \" + City + \" mein rahti hun.\") # sentence formating using concatenation"
   ]
  },
  {
   "cell_type": "markdown",
   "id": "71a09b12-c2c9-448b-a41d-195a0b3934fc",
   "metadata": {},
   "source": [
    "## f-String:"
   ]
  },
  {
   "cell_type": "code",
   "execution_count": 23,
   "id": "0a18c266-51e1-408e-8ff4-e019b906f769",
   "metadata": {},
   "outputs": [
    {
     "name": "stdout",
     "output_type": "stream",
     "text": [
      "Mera naam Hani hai, mein 18 saal ki hun or mein Karachi mein rehti hun.\n"
     ]
    }
   ],
   "source": [
    "print(f\"Mera naam {Name} hai, mein {Age} saal ki hun or mein {City} mein rehti hun.\") # f-string don't need concatenation and type casting to format the string"
   ]
  }
 ],
 "metadata": {
  "kernelspec": {
   "display_name": "Python 3 (ipykernel)",
   "language": "python",
   "name": "python3"
  },
  "language_info": {
   "codemirror_mode": {
    "name": "ipython",
    "version": 3
   },
   "file_extension": ".py",
   "mimetype": "text/x-python",
   "name": "python",
   "nbconvert_exporter": "python",
   "pygments_lexer": "ipython3",
   "version": "3.13.5"
  }
 },
 "nbformat": 4,
 "nbformat_minor": 5
}
