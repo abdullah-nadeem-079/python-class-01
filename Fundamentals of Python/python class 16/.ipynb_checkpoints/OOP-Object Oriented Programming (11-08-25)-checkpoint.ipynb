{
 "cells": [
  {
   "cell_type": "markdown",
   "id": "9e3c2c00-3b6c-46fb-bbab-50c1badb715c",
   "metadata": {},
   "source": [
    "## Today's Topics:"
   ]
  },
  {
   "cell_type": "markdown",
   "id": "5346f2e1-0853-4abc-8419-6b9b37b22a8f",
   "metadata": {},
   "source": [
    "### Core concepts of Object Oriented Programming:"
   ]
  },
  {
   "cell_type": "markdown",
   "id": "68321956-c4a6-449c-9a68-65f39a74f058",
   "metadata": {},
   "source": [
    "### Class:\n",
    "A __class__ is like a blueprint for creating objects. It defines a set of attributes and behaviors that the created objects (instances) will have."
   ]
  },
  {
   "cell_type": "code",
   "execution_count": null,
   "id": "0afa28f6-334c-4518-926a-b44a9daae66b",
   "metadata": {},
   "outputs": [],
   "source": [
    "class Dog:\n",
    "    def __init__(self, name, breed):\n",
    "        self.name = name\n",
    "        self.breed = breed\n",
    "\n",
    "    def bark(self):\n",
    "        print(f\"{self.name} says woof!\")"
   ]
  },
  {
   "cell_type": "markdown",
   "id": "aea07fd9-f78d-438e-9b32-98d8f9e85dc1",
   "metadata": {},
   "source": [
    "### Object:\n",
    "An __object__ is an instance of a class. When a class is defined, no memory is allocated until an object of that class is created."
   ]
  },
  {
   "cell_type": "code",
   "execution_count": null,
   "id": "e10c4547-bdb6-4602-b964-3e65a55081ba",
   "metadata": {},
   "outputs": [],
   "source": [
    "my_dog = Dog(\"Buddy\", \"Golden Retriever\")\n",
    "my_dog.bark()  # Output: Buddy says woof!"
   ]
  },
  {
   "cell_type": "markdown",
   "id": "5b0e8431-2e0e-486d-ab18-9792a9c91e2d",
   "metadata": {},
   "source": [
    "### Initializer (Constructor):\n",
    "The __init__ method is a special function that runs as soon as an object is created. It's used to initialize the object's attributes."
   ]
  },
  {
   "cell_type": "code",
   "execution_count": null,
   "id": "7ed6a455-d82c-454c-87a2-e74ac044f648",
   "metadata": {},
   "outputs": [],
   "source": [
    "def __init__(self, name, breed):\n",
    "    self.name = name\n",
    "    self.breed = breed"
   ]
  },
  {
   "cell_type": "markdown",
   "id": "fc15053e-9e49-4e29-a326-6317c5aae592",
   "metadata": {},
   "source": [
    "### Attributes and Methods:\n",
    "* __Attributes__ are variables that belong to the object.\n",
    "* __Methods__ are functions defined inside a class and are used to perform operations on the object."
   ]
  },
  {
   "cell_type": "markdown",
   "id": "01357c84-4ae0-44ad-b1a7-5acea67f830a",
   "metadata": {},
   "source": [
    "### OOP Principles:"
   ]
  },
  {
   "cell_type": "markdown",
   "id": "0b458db2-650a-4867-814e-c2d8f26af9a4",
   "metadata": {},
   "source": [
    "#### Encapslation:\n",
    "Encapsulation is the bundling of data (attributes) and methods that operate on that data into a single unit, i.e., the class."
   ]
  },
  {
   "cell_type": "code",
   "execution_count": null,
   "id": "0fbe6aea-f8fc-44c5-9540-a7068b7d8ced",
   "metadata": {},
   "outputs": [],
   "source": [
    "class BankAccount:\n",
    "    def __init__(self, balance):\n",
    "        self.__balance = balance  # Private attribute\n",
    "\n",
    "    def deposit(self, amount):\n",
    "        self.__balance += amount\n",
    "\n",
    "    def get_balance(self):\n",
    "        return self.__balance"
   ]
  },
  {
   "cell_type": "markdown",
   "id": "ad55e705-c259-43d4-a5ac-9f6054a00996",
   "metadata": {},
   "source": [
    "#### Abstraction:\n",
    "Abstraction hides the internal complexity and only exposes the necessary parts."
   ]
  },
  {
   "cell_type": "code",
   "execution_count": null,
   "id": "d349455f-d9d8-4a77-a4df-e551b91b308c",
   "metadata": {},
   "outputs": [],
   "source": [
    "class Car:\n",
    "    def start(self):\n",
    "        self.__engine_start()\n",
    "\n",
    "    def __engine_start(self):\n",
    "        print(\"Engine started\")\n"
   ]
  },
  {
   "cell_type": "markdown",
   "id": "b0332b20-e0e7-48a0-928c-666b1e76d2ec",
   "metadata": {},
   "source": [
    "#### Inheritance:\n",
    "Inheritance allows a class (child) to inherit the properties and behaviors of another class (parent)."
   ]
  },
  {
   "cell_type": "code",
   "execution_count": null,
   "id": "5e1fd902-7065-4387-a7d8-b69d88463878",
   "metadata": {},
   "outputs": [],
   "source": [
    "class Animal:\n",
    "    def speak(self):\n",
    "        print(\"Animal speaks\")\n",
    "\n",
    "class Dog(Animal):\n",
    "    def speak(self):\n",
    "        print(\"Dog barks\")\n",
    "\n",
    "dog = Dog()\n",
    "dog.speak()  # Output: Dog barks"
   ]
  },
  {
   "cell_type": "markdown",
   "id": "9fda75e7-c584-435b-87ff-a2db7bced8a9",
   "metadata": {},
   "source": [
    "#### Polymorphism:\n",
    "Polymorphism means \"many forms.\" It allows functions or methods to process objects differently depending on their class."
   ]
  },
  {
   "cell_type": "code",
   "execution_count": null,
   "id": "67c349f1-3516-4ec3-a4c0-9a88313d8829",
   "metadata": {},
   "outputs": [],
   "source": [
    "class Cat:\n",
    "    def speak(self):\n",
    "        print(\"Cat meows\")\n",
    "\n",
    "animals = [Dog(), Cat()]\n",
    "\n",
    "for animal in animals:\n",
    "    animal.speak()"
   ]
  },
  {
   "cell_type": "markdown",
   "id": "93cab9e7-aba7-4b4e-81b2-36d59a2c25e6",
   "metadata": {},
   "source": [
    "### Advance OOP Concepts in Python:"
   ]
  },
  {
   "cell_type": "markdown",
   "id": "39feccea-516c-4048-8353-c767fed2a318",
   "metadata": {},
   "source": [
    "#### class attributes vs instance attributes"
   ]
  },
  {
   "cell_type": "code",
   "execution_count": null,
   "id": "7d330724-8cf2-4b87-9cb2-66b7c4306254",
   "metadata": {},
   "outputs": [],
   "source": [
    "class Dog:\n",
    "    species = \"Canine\"  # Class attribute\n",
    "\n",
    "    def __init__(self, name):\n",
    "        self.name = name  # Instance attribute"
   ]
  },
  {
   "cell_type": "markdown",
   "id": "76aeeb07-d24a-4d7d-b32f-86a30e5a2f69",
   "metadata": {},
   "source": [
    "#### class methods vs static methods:"
   ]
  },
  {
   "cell_type": "code",
   "execution_count": null,
   "id": "17fcbed4-919f-48ff-98e1-c516f95f231e",
   "metadata": {},
   "outputs": [],
   "source": [
    "class MyClass:\n",
    "    @classmethod\n",
    "    def class_method(cls):\n",
    "        print(\"Class method called\")\n",
    "\n",
    "    @staticmethod\n",
    "    def static_method():\n",
    "        print(\"Static method called\")"
   ]
  },
  {
   "cell_type": "markdown",
   "id": "ace4df95-f839-4491-9ce0-f54fd3a40401",
   "metadata": {},
   "source": [
    "#### Multiple Inheritance:"
   ]
  },
  {
   "cell_type": "code",
   "execution_count": null,
   "id": "84b1fb2f-210e-470b-821a-ab74d7c555a5",
   "metadata": {},
   "outputs": [],
   "source": [
    "class A:\n",
    "    pass\n",
    "\n",
    "class B:\n",
    "    pass\n",
    "\n",
    "class C(A, B):\n",
    "    pass"
   ]
  },
  {
   "cell_type": "markdown",
   "id": "60d9921f-401d-42c9-95e7-4b2312b759e7",
   "metadata": {},
   "source": [
    "#### Magic Methods (Dunder Methods):\n",
    "Special methods that allow you to define custom behavior for built-in functions.\n",
    "\n",
    "Examples:\n",
    "* __str__: String representation\n",
    "* __len__: Length\n",
    "* __add__: Overloading + operator"
   ]
  },
  {
   "cell_type": "code",
   "execution_count": null,
   "id": "f6da3aee-2184-4964-a045-981b184c4573",
   "metadata": {},
   "outputs": [],
   "source": [
    "class Book:\n",
    "    def __init__(self, pages):\n",
    "        self.pages = pages\n",
    "\n",
    "    def __add__(self, other):\n",
    "        return Book(self.pages + other.pages)\n",
    "\n",
    "book1 = Book(100)\n",
    "book2 = Book(200)\n",
    "print((book1 + book2).pages)  # Output: 300"
   ]
  },
  {
   "cell_type": "markdown",
   "id": "f2ac8562-d937-4aba-a4ab-845f336c6c5d",
   "metadata": {},
   "source": [
    "### Types of Variables in OOP:\n",
    "* Instance variable (object level variable)\n",
    "* Static variable (Class level variable)\n",
    "* Local variable (Method level variable)"
   ]
  },
  {
   "cell_type": "markdown",
   "id": "66c02288-2d74-4305-a50f-1f8af7ea9188",
   "metadata": {},
   "source": [
    "#### Static Variable (Class level variable):\n",
    "* Definition:\n",
    "    * Static (or class) variables are shared among all objects of a class. They are not tied to any one object.\n",
    "* Scope:\n",
    "    * One copy is maintained for the entire class and shared across all instances.\n",
    "* Declaring position:\n",
    "    * Directly inside the class but outside any methods."
   ]
  },
  {
   "cell_type": "code",
   "execution_count": null,
   "id": "48c4b1ac-a5ec-4eb5-a01d-afd2a2d63f0e",
   "metadata": {},
   "outputs": [],
   "source": [
    "class Student:\n",
    "    school_name = \"Green High School\"  # Static variable\n",
    "\n",
    "    def __init__(self, name):\n",
    "        self.name = name  # Instance variable\n",
    "\n",
    "s1 = Student(\"Alice\")\n",
    "s2 = Student(\"Bob\")\n",
    "\n",
    "print(s1.school_name)  # Green High School\n",
    "print(s2.school_name)  # Green High School\n",
    "\n",
    "# Changing static variable using class name\n",
    "Student.school_name = \"Blue Valley High\"\n",
    "\n",
    "print(s1.school_name)  # Blue Valley High"
   ]
  },
  {
   "cell_type": "markdown",
   "id": "e90227ba-bb64-4f67-a123-3efa7a1fe9f1",
   "metadata": {},
   "source": [
    "#### Instance variable (Object levle variable):\n",
    "* Definition:\n",
    "    * Instance variables are variables unique to each object. They are defined using self inside the constructor (__init__) or other instance methods.\n",
    "* Scope:\n",
    "    * Each object gets its own copy — changing the value in one object doesn’t affect others.\n",
    "* Declaring position:\n",
    "* Inside instance methods using self"
   ]
  },
  {
   "cell_type": "code",
   "execution_count": null,
   "id": "57e30cf0-4c91-4752-8bfe-dae6b4ca56cc",
   "metadata": {},
   "outputs": [],
   "source": [
    "class Student:\n",
    "    def __init__(self, name, age):\n",
    "        self.name = name      # Instance variable\n",
    "        self.age = age        # Instance variable\n",
    "\n",
    "s1 = Student(\"Alice\", 20)\n",
    "s2 = Student(\"Bob\", 22)\n",
    "\n",
    "print(s1.name)  # Alice\n",
    "print(s2.name)  # Bob"
   ]
  },
  {
   "cell_type": "markdown",
   "id": "e32506ef-0752-4292-96d5-ef3a9a6f932c",
   "metadata": {},
   "source": [
    "#### Local variable (Method level variable):\n",
    "* Definition:\n",
    "    * Local variables are temporary variables used inside a method. They exist only while the method is running.\n",
    "* Scope:\n",
    "    * Only accessible within the method in which they are declared.\n",
    "* Declaring position:\n",
    "    * Any method, without self."
   ]
  },
  {
   "cell_type": "code",
   "execution_count": null,
   "id": "6c0fe9f0-600e-4c4a-a261-450fe9e5eed8",
   "metadata": {},
   "outputs": [],
   "source": [
    "class Student:\n",
    "    def display(self):\n",
    "        subject = \"Math\"  # Local variable\n",
    "        print(\"Subject:\", subject)\n",
    "\n",
    "s = Student()\n",
    "s.display()  # Output: Subject: Math\n",
    "# print(subject)  # ❌ Error: name 'subject' is not defined"
   ]
  },
  {
   "cell_type": "markdown",
   "id": "07e22ca1-1e59-4798-a730-264364bc875f",
   "metadata": {},
   "source": [
    "#### Python progarm using all three types of variables:"
   ]
  },
  {
   "cell_type": "code",
   "execution_count": null,
   "id": "f75e3dd7-615d-4970-8a44-07f3fbd0a6ca",
   "metadata": {},
   "outputs": [],
   "source": [
    "class Student:\n",
    "    # Static variable (class-level)\n",
    "    school_name = \"Greenwood High School\"\n",
    "\n",
    "    def __init__(self, name, grade):\n",
    "        # Instance variables (object-level)\n",
    "        self.name = name\n",
    "        self.grade = grade\n",
    "\n",
    "    def display_details(self):\n",
    "        # Local variable (method-level)\n",
    "        subject = \"Mathematics\"\n",
    "        print(f\"Name     : {self.name}\")\n",
    "        print(f\"Grade    : {self.grade}\")\n",
    "        print(f\"Subject  : {subject}\")\n",
    "        print(f\"School   : {Student.school_name}\")\n",
    "        print(\"-\" * 30)\n",
    "\n",
    "\n",
    "# Creating multiple Student objects\n",
    "student1 = Student(\"Alice\", \"8th\")\n",
    "student2 = Student(\"Bob\", \"9th\")\n",
    "\n",
    "# Accessing method which uses all variable types\n",
    "student1.display_details()\n",
    "student2.display_details()\n",
    "\n",
    "# Changing static variable (affects all instances)\n",
    "Student.school_name = \"Blue Ridge High School\"\n",
    "\n",
    "print(\"\\nAfter changing the school name (static variable):\\n\")\n",
    "student1.display_details()\n",
    "student2.display_details()\n"
   ]
  },
  {
   "cell_type": "markdown",
   "id": "84337202-5c13-492b-9b65-dcf17465b80b",
   "metadata": {},
   "source": [
    "#### Variables Comparission Table:\n",
    "| Type         | Declared in                 | Scope                  | Accessed via              | Example               |\n",
    "| ------------ | --------------------------- | ---------------------- | ------------------------- | --------------------- |\n",
    "| **Instance** | Inside methods using `self` | Specific to object     | `self.var`                | `self.name = \"Alice\"` |\n",
    "| **Static**   | Directly in class body      | Shared by all objects  | `Class.var` or `self.var` | `school_name = \"XYZ\"` |\n",
    "| **Local**    | Inside any method           | Only inside the method | Just by name (e.g. `x`)   | `x = 10`              |\n"
   ]
  },
  {
   "cell_type": "markdown",
   "id": "b3062dc6-0711-46d6-bb19-e1c75da922c8",
   "metadata": {},
   "source": [
    "Class defines what an object should look like.\n",
    "\n",
    "Object is a real-world entity created from a class.\n",
    "\n",
    "Encapsulation ensures data protection by keeping variables private or controlled.\n",
    "\n",
    "Abstraction simplifies interaction with complex systems.\n",
    "\n",
    "Inheritance promotes reusability and reduces redundancy.\n",
    "\n",
    "Polymorphism allows flexibility and extensibility.\n",
    "\n",
    "Instance Variable is tied to a specific object (self.name).\n",
    "\n",
    "Static Variable is common across all instances (Class.variable).\n",
    "\n",
    "Local Variable is temporary and lives only inside a method (x = 5 inside a function)."
   ]
  },
  {
   "cell_type": "markdown",
   "id": "5d34f45c-b1a6-468d-b46e-af32007ca67f",
   "metadata": {},
   "source": [
    "#### Summary:\n",
    "| Concept               | Description                                                                 |\n",
    "| --------------------- | --------------------------------------------------------------------------- |\n",
    "| **Class**             | Blueprint for creating objects (defines structure and behavior)             |\n",
    "| **Object**            | An instance of a class with its own data and methods                        |\n",
    "| **Encapsulation**     | Bundling data and methods; restricting direct access to internal variables  |\n",
    "| **Abstraction**       | Hiding complex implementation and showing only essential features           |\n",
    "| **Inheritance**       | Allows a class to inherit properties and methods from another class         |\n",
    "| **Polymorphism**      | One interface, multiple forms — same method behaves differently for objects |\n",
    "| **Instance Variable** | Object-level variable; unique to each object, defined using `self`          |\n",
    "| **Static Variable**   | Class-level variable; shared among all objects of the class                 |\n",
    "| **Local Variable**    | Method-level variable; exists only within a method's scope                  |\n"
   ]
  },
  {
   "cell_type": "markdown",
   "id": "5fdda11b-e5e0-4f40-ad53-481d29db391a",
   "metadata": {},
   "source": [
    "#### Types of Methods in OOP:\n",
    "* Class Methods\n",
    "* Instance / Methods\n",
    "* Static Methods"
   ]
  },
  {
   "cell_type": "markdown",
   "id": "5bea29cd-50d8-41c9-bd4d-d700872126db",
   "metadata": {},
   "source": [
    "#### Instance Methods"
   ]
  },
  {
   "cell_type": "markdown",
   "id": "4391ffad-bd46-43a9-ae15-22ce4dde17ad",
   "metadata": {},
   "source": [
    "* Description:\n",
    "    * The most common type of method.\n",
    "    * Operates on object (instance) data.\n",
    "    * Automatically receives the object (self) as the first argument."
   ]
  },
  {
   "cell_type": "code",
   "execution_count": null,
   "id": "ac217190-b731-46a2-bd0e-0bf426086089",
   "metadata": {},
   "outputs": [],
   "source": [
    "class Car:\n",
    "    def __init__(self, brand):\n",
    "        self.brand = brand  # instance attribute\n",
    "\n",
    "    def display_brand(self):  # instance method\n",
    "        print(f\"The car brand is {self.brand}\")\n",
    "\n",
    "my_car = Car(\"Toyota\")\n",
    "my_car.display_brand()  # Output: The car brand is Toyota"
   ]
  },
  {
   "cell_type": "markdown",
   "id": "06ada0de-c3a3-4882-ae2d-2b3bd06a4a40",
   "metadata": {},
   "source": [
    "#### Class Methods:\n",
    "* Description:\n",
    "    * Operates on the class itself, not individual objects.\n",
    "    * Receives the class (cls) as the first argument.\n",
    "    * Can access or modify class variables."
   ]
  },
  {
   "cell_type": "code",
   "execution_count": null,
   "id": "fd40a36f-4061-4316-81e2-2c6edff3e304",
   "metadata": {},
   "outputs": [],
   "source": [
    "class Student:\n",
    "    school_name = \"Green School\"  # class variable\n",
    "\n",
    "    @classmethod\n",
    "    def change_school(cls, new_name):\n",
    "        cls.school_name = new_name\n",
    "\n",
    "Student.change_school(\"Blue School\")\n",
    "print(Student.school_name)  # Output: Blue School"
   ]
  },
  {
   "cell_type": "markdown",
   "id": "191cc047-978d-400b-9caa-600b0f948653",
   "metadata": {},
   "source": [
    "#### Static Method:"
   ]
  },
  {
   "cell_type": "markdown",
   "id": "f50e5c48-834a-49e3-af90-a0d94544f28e",
   "metadata": {},
   "source": [
    "* Description:\n",
    "    * Does not access class or instance data.\n",
    "    * Doesn’t take self or cls as the first parameter.\n",
    "    * Used for utility/helper functions related to the class."
   ]
  },
  {
   "cell_type": "code",
   "execution_count": null,
   "id": "98aa26ad-1e4b-4dd5-bfe7-b20ec748c34a",
   "metadata": {},
   "outputs": [],
   "source": [
    "class Math:\n",
    "    @staticmethod\n",
    "    def add(a, b):\n",
    "        return a + b\n",
    "\n",
    "print(Math.add(5, 3))  # Output: 8"
   ]
  },
  {
   "cell_type": "markdown",
   "id": "ddd94d90-0f73-40a8-876f-c2b5a5dcfe7b",
   "metadata": {},
   "source": [
    "#### Types of Methods (Table):\n",
    "| Method Type  | Decorator       | First Param | Can Access              | Example Use                     |\n",
    "| ------------ | --------------- | ----------- | ----------------------- | ------------------------------- |\n",
    "| **Instance** | None            | `self`      | Instance & class        | `self.name`, `self.age`         |\n",
    "| **Class**    | `@classmethod`  | `cls`       | Class only              | Modify class variable or state  |\n",
    "| **Static**   | `@staticmethod` | None        | Neither (unless passed) | General-purpose utility methods |\n"
   ]
  },
  {
   "cell_type": "markdown",
   "id": "f02caf05-684e-4ba8-803d-d18166fa856a",
   "metadata": {},
   "source": [
    "#### Python Program using all three types of Methods:"
   ]
  },
  {
   "cell_type": "code",
   "execution_count": null,
   "id": "95c488a2-0963-424f-9661-169214e0f853",
   "metadata": {},
   "outputs": [],
   "source": [
    "class Student:\n",
    "    # Class variable (shared by all instances)\n",
    "    school_name = \"Green Valley School\"\n",
    "\n",
    "    def __init__(self, name, age):\n",
    "        # Instance variables (unique to each object)\n",
    "        self.name = name\n",
    "        self.age = age\n",
    "\n",
    "    # 🔹 Instance Method\n",
    "    def display_info(self):\n",
    "        print(f\"Name: {self.name}\")\n",
    "        print(f\"Age: {self.age}\")\n",
    "        print(f\"School: {Student.school_name}\")\n",
    "\n",
    "    # 🔹 Class Method\n",
    "    @classmethod\n",
    "    def change_school(cls, new_name):\n",
    "        cls.school_name = new_name\n",
    "        print(f\"School name changed to: {cls.school_name}\")\n",
    "\n",
    "    # 🔹 Static Method\n",
    "    @staticmethod\n",
    "    def is_adult(age):\n",
    "        return age >= 18\n",
    "\n",
    "\n",
    "# 🔸 Creating student objects\n",
    "student1 = Student(\"Alice\", 17)\n",
    "student2 = Student(\"Bob\", 19)\n",
    "\n",
    "# 🔸 Using instance method\n",
    "print(\"Student 1 Info:\")\n",
    "student1.display_info()\n",
    "print()\n",
    "\n",
    "print(\"Student 2 Info:\")\n",
    "student2.display_info()\n",
    "print()\n",
    "\n",
    "# 🔸 Using class method to change school name\n",
    "Student.change_school(\"Blue Ridge Academy\")\n",
    "print()\n",
    "\n",
    "# 🔸 Displaying info again to reflect school name change\n",
    "print(\"Updated Student Info:\")\n",
    "student1.display_info()\n",
    "student2.display_info()\n",
    "print()\n",
    "\n",
    "# 🔸 Using static method\n",
    "print(f\"Is {student1.name} an adult? {'Yes' if Student.is_adult(student1.age) else 'No'}\")\n",
    "print(f\"Is {student2.name} an adult? {'Yes' if Student.is_adult(student2.age) else 'No'}\")"
   ]
  },
  {
   "cell_type": "markdown",
   "id": "01c82548-2a6f-47fe-923c-affae0b075ac",
   "metadata": {},
   "source": [
    "### Classes and Objects:"
   ]
  },
  {
   "cell_type": "code",
   "execution_count": null,
   "id": "9939c8ee-f62a-41e0-8a8e-606595874f78",
   "metadata": {},
   "outputs": [],
   "source": [
    "class Computer:\n",
    "    # characteristics / properties / attributes / variables\n",
    "    ram          = \"8GB\"\n",
    "    processor    = \"intel corei9\"\n",
    "    storage      = \"1TB\"\n",
    "    model        = \"HP\"\n",
    "    price        = 60000\n",
    "\n",
    "    # actions / behaviour\n",
    "    def coding():\n",
    "        print(\"coding\")\n",
    "    def designing():\n",
    "        print(\"Designing\")\n",
    "    def browsing():\n",
    "        print(\"Browsing\")"
   ]
  },
  {
   "cell_type": "code",
   "execution_count": null,
   "id": "035faed3-7be1-4129-9837-d7c6791675a5",
   "metadata": {},
   "outputs": [],
   "source": [
    "class Computer:\n",
    "    # initializer\n",
    "    def __init__(self, ram, processor, storage, model, price):\n",
    "        # characteristics / properties / attributes / variables\n",
    "        self.ram = ram\n",
    "        self.processor = processor\n",
    "        self.storage = storage\n",
    "        self.model = model\n",
    "        self.price = price\n",
    "\n",
    "    # actions / behaviour\n",
    "    def coding(self):\n",
    "        print(f\"I am coding on {self.model}\")\n",
    "    def designing(self):\n",
    "        print(f\"I am designing on {self.model}\")\n",
    "    def browsing(self):\n",
    "        print(f\"I am browsing on {self.model}\")"
   ]
  },
  {
   "cell_type": "code",
   "execution_count": null,
   "id": "e64af3a2-51e9-4857-9a58-e9d77849415e",
   "metadata": {},
   "outputs": [],
   "source": [
    "class Student:\n",
    "    def __init__(self, roll, name, course, gender, email):\n",
    "        self.roll = roll\n",
    "        self.name = name\n",
    "        self.course = course\n",
    "        self.gender = gender\n",
    "        self.email = email\n",
    "\n",
    "    def attend_class(self):\n",
    "        print(f\"{self.name} is attending class\")\n",
    "    def appear_exam(self):\n",
    "        print(f\"{self.name} is appearing in exam\")\n",
    "    def result(self):\n",
    "        print(f\"{self.name} is pass in exam\")"
   ]
  }
 ],
 "metadata": {
  "kernelspec": {
   "display_name": "Python 3 (ipykernel)",
   "language": "python",
   "name": "python3"
  },
  "language_info": {
   "codemirror_mode": {
    "name": "ipython",
    "version": 3
   },
   "file_extension": ".py",
   "mimetype": "text/x-python",
   "name": "python",
   "nbconvert_exporter": "python",
   "pygments_lexer": "ipython3",
   "version": "3.13.5"
  }
 },
 "nbformat": 4,
 "nbformat_minor": 5
}
