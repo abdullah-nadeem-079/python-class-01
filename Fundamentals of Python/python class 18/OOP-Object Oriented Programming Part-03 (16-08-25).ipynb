{
 "cells": [
  {
   "cell_type": "markdown",
   "id": "952dba74-99d4-4253-ac85-de8361f68741",
   "metadata": {},
   "source": [
    "## Today's Topics:"
   ]
  },
  {
   "cell_type": "markdown",
   "id": "a6171612-b898-4254-a2e7-dc03a7082da3",
   "metadata": {},
   "source": [
    "### Object / Instance as attribute:"
   ]
  },
  {
   "cell_type": "code",
   "execution_count": 1,
   "id": "4b3d4c8d-a7b3-468b-add0-bf81eb0657fe",
   "metadata": {},
   "outputs": [],
   "source": [
    "# Parent Class:\n",
    "\n",
    "class Car():\n",
    "    def __init__(self, make, model, year):\n",
    "        self.make = make\n",
    "        self.model = model\n",
    "        self.year = year\n",
    "        self.odometer_reading = 0\n",
    "\n",
    "    def get_descriptive_name(self):\n",
    "        long_name = str(self.year) + ' ' + self.make + ' ' + self.model\n",
    "        return long_name.title()\n",
    "    def read_odometer(self):\n",
    "        print(\"This car has \" + str(self.odometer_reading) + \" miles on it.\")\n",
    "    def update_odometer(self, mileage):\n",
    "        if mileage >= self.odometer_reading:\n",
    "            self.odometer_reading = mileage\n",
    "        else:\n",
    "            print(\"You can't roll back an odometer!\")\n",
    "    def increament_odometer(self, miles):\n",
    "        self.odometer_reading += miles\n",
    "    def fill_gas_tank(self):\n",
    "        print(\"Fuel is filled in car\")"
   ]
  },
  {
   "cell_type": "code",
   "execution_count": 3,
   "id": "d10a28de-28b4-4821-9d01-0863241efde6",
   "metadata": {},
   "outputs": [],
   "source": [
    "# Child Class:\n",
    "\n",
    "class ElectricCar(Car):\n",
    "    pass"
   ]
  },
  {
   "cell_type": "code",
   "execution_count": 4,
   "id": "8f53ecfc-05f4-48fb-9f0c-e18c5098b774",
   "metadata": {},
   "outputs": [],
   "source": [
    "ec1 = ElectricCar(\"Tesla\", \"ModelS\", \"2025\") # creating an object of child class, it will get all instances of parent class because it inherits it. "
   ]
  },
  {
   "cell_type": "code",
   "execution_count": 7,
   "id": "e6cd0519-593a-496e-8b16-e9a9a73fe36a",
   "metadata": {},
   "outputs": [],
   "source": [
    "class ElectricCar(Car):\n",
    "    def __init__(self, make, model, year, seats): \n",
    "        super().__init__(make, model, year) # using super function to call method from parent class, so we don't need to assign value to instance again\n",
    "        self.seats = seats \n",
    "        self.battery = Battery(28, 75, \"Osaka\", 210, \"Lithium\") # using object / instance as an attribute\n",
    "    def description(self):\n",
    "        print(f\"{self.model}, {self.make}, {self.year}, {self.seats}, {self.battery}\")"
   ]
  },
  {
   "cell_type": "code",
   "execution_count": 5,
   "id": "19c5236c-bc36-43b0-8c14-8898968cc8c5",
   "metadata": {},
   "outputs": [],
   "source": [
    "# creating separate class for battery so that we can use it as an attribute in other class\n",
    "\n",
    "class Battery():\n",
    "    def __init__(self, plates, weight, manuf, power, tpe,):\n",
    "        self.plates = 18\n",
    "        self.weight = 50\n",
    "        self.manuf = \"Osaka\"\n",
    "        self.power = 180\n",
    "        self.tpe = \"dry\"\n",
    "\n",
    "    def charge_battery(self):\n",
    "        print(f\"{self.manuf} battery is on charging\")\n",
    "    def battery_backup(self):\n",
    "        print(f\"{self.manuf} battery is on backup\")"
   ]
  },
  {
   "cell_type": "code",
   "execution_count": 8,
   "id": "b614e1a5-c433-4384-9629-a28de68a735f",
   "metadata": {},
   "outputs": [],
   "source": [
    "ec1 = ElectricCar(\"Tesla\", \"ModelS\", \"2025\", 8) # creating an object of child class, it will get all instances of parent class because it inherits it. "
   ]
  },
  {
   "cell_type": "code",
   "execution_count": 9,
   "id": "1dc0b619-844e-4fbc-ba8e-f4b8fd545b40",
   "metadata": {},
   "outputs": [
    {
     "data": {
      "text/plain": [
       "50"
      ]
     },
     "execution_count": 9,
     "metadata": {},
     "output_type": "execute_result"
    }
   ],
   "source": [
    "ec1.battery.weight"
   ]
  },
  {
   "cell_type": "code",
   "execution_count": 10,
   "id": "5395c0ec-910b-42bd-bbd4-25a118f3f533",
   "metadata": {},
   "outputs": [
    {
     "data": {
      "text/plain": [
       "'Osaka'"
      ]
     },
     "execution_count": 10,
     "metadata": {},
     "output_type": "execute_result"
    }
   ],
   "source": [
    "ec1.battery.manuf"
   ]
  },
  {
   "cell_type": "markdown",
   "id": "2a53dd56-a689-43fa-b0c7-cccda14e28c7",
   "metadata": {},
   "source": [
    "### Polymorphism:\n",
    "* Means : Many faces\n",
    "* Method Overriding\n",
    "    * If a method of pareant calss is overided in child class so it's called method overiding\n",
    "* Method Overloading\n",
    "    * In a class if two methods are of same name it's called method overloading and python doesn't allow method overloading"
   ]
  },
  {
   "cell_type": "code",
   "execution_count": 18,
   "id": "0bc24e95-e125-45c5-a61f-2df37b0373fe",
   "metadata": {},
   "outputs": [],
   "source": [
    "# Parent Class:\n",
    "\n",
    "class Car():\n",
    "    def __init__(self, make, model, year):\n",
    "        self.make = make\n",
    "        self.model = model\n",
    "        self.year = year\n",
    "        self.odometer_reading = 0\n",
    "\n",
    "    def get_descriptive_name(self):\n",
    "        long_name = str(self.year) + ' ' + self.make + ' ' + self.model\n",
    "        return long_name.title()\n",
    "    def read_odometer(self):\n",
    "        print(\"This car has \" + str(self.odometer_reading) + \" miles on it.\")\n",
    "    def update_odometer(self, mileage):\n",
    "        if mileage >= self.odometer_reading:\n",
    "            self.odometer_reading = mileage\n",
    "        else:\n",
    "            print(\"You can't roll back an odometer!\")\n",
    "    def increament_odometer(self, miles):\n",
    "        self.odometer_reading += miles\n",
    "    def fill_gas_tank(self):\n",
    "        print(\"Fuel is filled in car\")"
   ]
  },
  {
   "cell_type": "code",
   "execution_count": 19,
   "id": "62e65424-032e-4ef0-ba31-28774a64d9c1",
   "metadata": {},
   "outputs": [],
   "source": [
    "# Child Class:\n",
    "\n",
    "class ElectricCar(Car):\n",
    "    def __init__(self, make, model, year, seats): \n",
    "        super().__init__(make, model, year) # using super function to call method from parent class, so we don't need to assign value to instance again\n",
    "        self.seats = seats \n",
    "        self.battery = Battery(28, 75, \"Osaka\", 210, \"Lithium\") # using object / instance as an attribute\n",
    "    def description(self):\n",
    "        print(f\"{self.model}, {self.make}, {self.year}, {self.seats}, {self.battery}\")\n",
    "    def fill_gas_tank(self): # overiding fill gas tank function in child class \n",
    "        print(\"No fuel tank in electric car\")"
   ]
  },
  {
   "cell_type": "code",
   "execution_count": 20,
   "id": "369756d7-d48c-44cc-9e3e-a92ad7270d3f",
   "metadata": {},
   "outputs": [],
   "source": [
    "ec1 = ElectricCar(\"Tesla\", \"ModelS\", \"2025\", 8) # creating an object of child class, it will get all instances of parent class because it inherits it. "
   ]
  },
  {
   "cell_type": "code",
   "execution_count": 21,
   "id": "5339bcd3-a2e7-4db3-82b4-88586e2fad1e",
   "metadata": {},
   "outputs": [
    {
     "name": "stdout",
     "output_type": "stream",
     "text": [
      "No fuel tank in electric car\n"
     ]
    }
   ],
   "source": [
    "ec1.fill_gas_tank()"
   ]
  },
  {
   "cell_type": "code",
   "execution_count": 22,
   "id": "0cf7277c-2e52-46c3-8484-50dcad971161",
   "metadata": {},
   "outputs": [],
   "source": [
    "class Employee:\n",
    "    def __init__(self, name, salary):\n",
    "        self.name = name\n",
    "        self.salary = salary\n",
    "    def calculate_annual_salary(self):\n",
    "        return self.salary * 12"
   ]
  },
  {
   "cell_type": "code",
   "execution_count": 23,
   "id": "cf4473c7-fedc-43e3-8f12-550593a5d082",
   "metadata": {},
   "outputs": [],
   "source": [
    "emp1 = Employee(\"Abdullah\", 250000)"
   ]
  },
  {
   "cell_type": "code",
   "execution_count": 24,
   "id": "f00f5bbe-2d38-479e-b493-b8924b143d98",
   "metadata": {},
   "outputs": [
    {
     "data": {
      "text/plain": [
       "3000000"
      ]
     },
     "execution_count": 24,
     "metadata": {},
     "output_type": "execute_result"
    }
   ],
   "source": [
    "emp1.calculate_annual_salary()"
   ]
  },
  {
   "cell_type": "code",
   "execution_count": 26,
   "id": "5164b55d-d3ce-4210-a393-3b8c22734f86",
   "metadata": {},
   "outputs": [],
   "source": [
    "class Manager(Employee):\n",
    "    def __init__(self, name, salary, department):\n",
    "        super().__init__(name, salary)\n",
    "        self.department = department\n",
    "    def calculate_annual_salary(self, bonus):\n",
    "        return self.salary * 12 + bonus"
   ]
  },
  {
   "cell_type": "code",
   "execution_count": 27,
   "id": "9bc928cc-1fe5-4d66-a1be-1cc6946c20c6",
   "metadata": {},
   "outputs": [],
   "source": [
    "m1 = Manager(\"Anas\", 300000, \"IT\")"
   ]
  },
  {
   "cell_type": "code",
   "execution_count": 28,
   "id": "63647aec-e15c-4cdf-ab79-5e00ec20b164",
   "metadata": {},
   "outputs": [
    {
     "data": {
      "text/plain": [
       "3620000"
      ]
     },
     "execution_count": 28,
     "metadata": {},
     "output_type": "execute_result"
    }
   ],
   "source": [
    "m1.calculate_annual_salary(20000)"
   ]
  },
  {
   "cell_type": "markdown",
   "id": "3f838191-dc99-420c-8638-1e774aee37d6",
   "metadata": {},
   "source": [
    "### Types of Variables / Attributes in OOP:\n",
    "* Instance variable (object level variable)\n",
    "* Static variable (Class level variable)\n",
    "* Local variable (Method level variable)"
   ]
  },
  {
   "cell_type": "markdown",
   "id": "08e18536-923b-4871-a5e4-0f970ff32553",
   "metadata": {},
   "source": [
    "#### Types of Methods in OOP:\n",
    "* Class Methods\n",
    "* Instance Methods\n",
    "* Static Methods"
   ]
  },
  {
   "cell_type": "code",
   "execution_count": null,
   "id": "4c126a97-a5c8-46a9-bfe7-95ee4405f229",
   "metadata": {},
   "outputs": [],
   "source": []
  }
 ],
 "metadata": {
  "kernelspec": {
   "display_name": "Python 3 (ipykernel)",
   "language": "python",
   "name": "python3"
  },
  "language_info": {
   "codemirror_mode": {
    "name": "ipython",
    "version": 3
   },
   "file_extension": ".py",
   "mimetype": "text/x-python",
   "name": "python",
   "nbconvert_exporter": "python",
   "pygments_lexer": "ipython3",
   "version": "3.13.5"
  }
 },
 "nbformat": 4,
 "nbformat_minor": 5
}
