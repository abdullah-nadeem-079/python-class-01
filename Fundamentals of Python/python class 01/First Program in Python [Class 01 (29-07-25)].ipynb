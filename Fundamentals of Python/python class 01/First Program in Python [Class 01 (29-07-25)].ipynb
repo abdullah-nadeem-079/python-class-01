{
 "cells": [
  {
   "cell_type": "markdown",
   "id": "aa0f36be-ee98-4f2f-8e55-3d00cf6029db",
   "metadata": {},
   "source": [
    "## Basic Jupyter Notebook Shortcuts:\n",
    "* Shift + Enter = Cell Execution, insert the new cell\n",
    "* Ctrl + Enter = Cell Execution, stays in the same cell\n",
    "* Press Enter = activate the editing mode\n",
    "* Press Esc = activate the command mode\n",
    "## Command mode shortcuts:\n",
    "* Esc + 1,2,3,4,5,6 = Heading or Markdown \n",
    "* Esc + A = Add new cell above the current cell\n",
    "* Esc + B = Add new cell below the current cell\n",
    "* Esc + Press D twice = delete the cell\n",
    "* Esc + Z = Undo cell deletion\n",
    "* Esc + Y = Change cell to code\n",
    "* Esc + M = Change cell to markdown\n",
    "* Esc + C = Copy cell\n",
    "* Esc + X = Cut cell\n",
    "* Esc + V = Paste cell below\n",
    "* Esc + Shift + V = Paste cell above\n",
    "## Navigation and cleanup shortcuts:\n",
    "* Press L = Toggle line numbersin the current cell\n",
    "* Press O = Toggle cell output\n",
    "* Shift + L = Toggle line numbers for all cells\n",
    "* Press I twice = Interrupt the kernel (e.g stop running loop)\n",
    "* Press 0 twice = Restart the kernel (e.g starts the loop)\n",
    "## Edit mode shortcuts:  \n",
    "* Ctrl + / = Comment/uncommment the selected lines\n",
    "* Press Tab = Autocomplete/show suggestions\n",
    "* Shift + Tab = Show docstring/tooltips\n",
    "* Ctrl + Shift + - = Split cell at the cursor\n",
    "* Press H in command mode to see all shortcuts in jupyter notebook "
   ]
  },
  {
   "cell_type": "markdown",
   "id": "bb3aeef0-4db4-4d99-9170-c5884a8f71ce",
   "metadata": {},
   "source": [
    "## Today's Topics:\n",
    "* Print Function\n",
    "* Operators\n",
    "* Data Types"
   ]
  },
  {
   "cell_type": "markdown",
   "id": "e715e849-59ff-46b1-8b9a-66e8d7faef9d",
   "metadata": {},
   "source": [
    "## Print\n",
    "    Print is Python built in function that prints any valid value given to it (value >>> argument).\n",
    "    It can print any number of values comma separated.\n",
    "    Example: print(\"Hello Python\")"
   ]
  },
  {
   "cell_type": "markdown",
   "id": "2abe5950-743f-490e-9e85-ec426946a703",
   "metadata": {},
   "source": [
    "## Types of Print regarding quotes:"
   ]
  },
  {
   "cell_type": "markdown",
   "id": "3d4154ce-8b7f-4873-b519-67460d7fa5a3",
   "metadata": {},
   "source": [
    "# print('I am single quoted single line string')\n",
    "* print(\"I am double quoted single line string\")\n",
    "* print('''I am single tripple quoted multiline string''')\n",
    "* print(\"\"\"I am double tripple quoted multiline string\"\"\")"
   ]
  },
  {
   "cell_type": "markdown",
   "id": "e8e80d02-8f8a-476b-b3f0-45ae613c9654",
   "metadata": {},
   "source": [
    "## Data Types:\n",
    "*    String = str = (\"Hello Python\")\n",
    "*    Integer = int = (1, 3, 5, 7 etc)\n",
    "*    Float = float = (2.0, 7.5, 3.9)\n",
    "*   Bolean = Bolean = (True and False)"
   ]
  },
  {
   "cell_type": "markdown",
   "id": "8537661e-db67-4c79-a67a-bbe56c6043a5",
   "metadata": {},
   "source": [
    "## Operators:\n",
    "An operator is a symbol that performs a certain operation between operands."
   ]
  },
  {
   "cell_type": "code",
   "execution_count": 1,
   "id": "f610d749-dcec-448d-a7b3-95770200a280",
   "metadata": {},
   "outputs": [],
   "source": [
    "a = 10\n",
    "b = 5"
   ]
  },
  {
   "cell_type": "markdown",
   "id": "88770822-9fa7-4115-90b5-13a00a3911ef",
   "metadata": {},
   "source": [
    "## Types of Operators:\n",
    "### Arithematic Operators:\n",
    "* Add (+)\n",
    "* Subtract (-)\n",
    "* Multiply (*)\n",
    "* Divide float/decimal division (/)\n",
    "* Divide floor/integer division (//)\n",
    "* Modulus/Remainder (%)\n",
    "* Power (**)"
   ]
  },
  {
   "cell_type": "code",
   "execution_count": 4,
   "id": "754dc5b1-5811-48cf-89d8-742d3238d009",
   "metadata": {},
   "outputs": [
    {
     "name": "stdout",
     "output_type": "stream",
     "text": [
      "addition of a and b = 15\n",
      "subtraction of a and b = 5\n",
      "multiplication of a and b = 50\n",
      "division of a and b in float is 2.0\n",
      "division of a and b in integer is 2\n",
      "remainder of a and b is 0\n",
      "a powers b = 100000\n"
     ]
    }
   ],
   "source": [
    "# add operator:\n",
    "print(\"addition of a and b =\", a + b)\n",
    "\n",
    "# diff operator:\n",
    "print(\"subtraction of a and b =\", a - b)\n",
    "\n",
    "# Multiply operator:\n",
    "print(\"multiplication of a and b =\", a * b)\n",
    "\n",
    "# divide in float/decimal values:\n",
    "print(\"division of a and b in float is\", a / b)\n",
    "\n",
    "# divide in floor/integer values:\n",
    "print(\"division of a and b in integer is\", a // b)\n",
    "\n",
    "# shows the remainder:\n",
    "print(\"remainder of a and b is\", a % b)\n",
    "\n",
    "# shows the power:\n",
    "print(\"a powers b =\", a ** b)"
   ]
  },
  {
   "cell_type": "markdown",
   "id": "e2739f4a-d690-408c-8ab0-31a313c55413",
   "metadata": {},
   "source": [
    "### Relational Operators:\n",
    "* Greaterthan (>)\n",
    "* Lessthan (<)\n",
    "* Greaterthan and Equal to (>=)\n",
    "* Lessthan and Equal to (<=)\n",
    "* Equal to (==)\n",
    "* Not Equal to (!=)"
   ]
  },
  {
   "cell_type": "code",
   "execution_count": 7,
   "id": "e317433a-dec1-4c34-ac0a-bbba96e49a16",
   "metadata": {},
   "outputs": [
    {
     "name": "stdout",
     "output_type": "stream",
     "text": [
      "a is greaterthan b = True\n",
      "a is lessthan b = False\n",
      "a is greaterthan and equal to b = True\n",
      "a is lessthan and equal to b = False\n",
      "a is equal to b = False\n",
      "a is not equal to b = True\n"
     ]
    }
   ],
   "source": [
    "# checks whether the value is greater or not:\n",
    "print(\"a is greaterthan b =\", a > b)\n",
    "\n",
    "# checks whether the value is lesser or not:\n",
    "print(\"a is lessthan b =\", a < b)\n",
    "\n",
    "# checks whether the value is greater and equal or not:\n",
    "print(\"a is greaterthan and equal to b =\", a >= b)\n",
    "\n",
    "# checks whether the value is lesser and equal or not:\n",
    "print(\"a is lessthan and equal to b =\", a <= b)\n",
    "\n",
    "# checks whether the value is equal or not:\n",
    "print(\"a is equal to b =\", a == b)\n",
    "\n",
    "# checks whether the value is not equal or not:\n",
    "print(\"a is not equal to b =\", a != b)"
   ]
  },
  {
   "cell_type": "markdown",
   "id": "c5021051-0070-4ef6-8d75-820e2a4c4f02",
   "metadata": {},
   "source": [
    "### Assignment Operators:\n",
    "* Equal (=)\n",
    "* Plus equals (+=)\n",
    "* Minus equals (-=)\n",
    "* Multiply equals (*=)\n",
    "* Divide equals float/decimal devision (/=)\n",
    "* Divide equals floor/integer division (//=)\n",
    "* Mod/Remain equals (%=)\n",
    "* Power equals (**=)"
   ]
  },
  {
   "cell_type": "code",
   "execution_count": 13,
   "id": "987a722b-9347-4d89-b72f-f71822843e1e",
   "metadata": {},
   "outputs": [
    {
     "name": "stdout",
     "output_type": "stream",
     "text": [
      "15\n",
      "10\n",
      "50\n",
      "10.0\n",
      "2.0\n",
      "2.0\n",
      "32.0\n"
     ]
    }
   ],
   "source": [
    "# all these assignment operators change the memory value of the variable:\n",
    "\n",
    "# assigns values to the variable:\n",
    "a = 10\n",
    "b = 5\n",
    "\n",
    "# plus and equals:\n",
    "a += b\n",
    "print(a)\n",
    "\n",
    "# minus and equals:\n",
    "a -= b\n",
    "print(a)\n",
    "\n",
    "# multiply and equals:\n",
    "a *= b\n",
    "print(a)\n",
    "\n",
    "# divide and equals (float division):\n",
    "a /= b\n",
    "print(a)\n",
    "\n",
    "# floor divide and equals (integer division):\n",
    "a //= b\n",
    "print(a)\n",
    "\n",
    "# modulus and equals:\n",
    "a %= b\n",
    "print(a)\n",
    "\n",
    "# power and equals:\n",
    "a **= b\n",
    "print(a)"
   ]
  },
  {
   "cell_type": "markdown",
   "id": "b5b9e699-d9dd-4bb2-97b4-68912f9e60e5",
   "metadata": {},
   "source": [
    "### Logical Operators:\n",
    "* And\n",
    "* Or\n",
    "* Not"
   ]
  },
  {
   "cell_type": "code",
   "execution_count": 17,
   "id": "d0e29803-a2ef-40f1-a147-a4896a1aeb0e",
   "metadata": {},
   "outputs": [
    {
     "name": "stdout",
     "output_type": "stream",
     "text": [
      "a is greaterthan b amd b is lessthan a = True\n",
      "a is less than b or b is greaterthan a True\n"
     ]
    },
    {
     "data": {
      "text/plain": [
       "True"
      ]
     },
     "execution_count": 17,
     "metadata": {},
     "output_type": "execute_result"
    }
   ],
   "source": [
    "# checks whether all conditions are true or not:\n",
    "print(\"a is greaterthan b amd b is lessthan a =\", a > b and b < a)\n",
    "\n",
    "# checks if any of the conditions is true or not:\n",
    "print(\"a is less than b or b is greaterthan a\", a < b or b < a)\n",
    "\n",
    "# checks if the statement is not true:\n",
    "not (a == b)"
   ]
  }
 ],
 "metadata": {
  "kernelspec": {
   "display_name": "Python 3 (ipykernel)",
   "language": "python",
   "name": "python3"
  },
  "language_info": {
   "codemirror_mode": {
    "name": "ipython",
    "version": 3
   },
   "file_extension": ".py",
   "mimetype": "text/x-python",
   "name": "python",
   "nbconvert_exporter": "python",
   "pygments_lexer": "ipython3",
   "version": "3.13.5"
  }
 },
 "nbformat": 4,
 "nbformat_minor": 5
}
