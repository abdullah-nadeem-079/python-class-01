{
 "cells": [
  {
   "cell_type": "markdown",
   "id": "f71c5f60-a9b6-4a07-a973-779f2d3890c5",
   "metadata": {},
   "source": [
    "## Today's Topics: "
   ]
  },
  {
   "cell_type": "markdown",
   "id": "8c1f6d71-1a70-4f02-b003-d5f2377bb235",
   "metadata": {},
   "source": [
    "### Inheritance in detail:"
   ]
  },
  {
   "cell_type": "markdown",
   "id": "184a2423-5287-4333-a497-6a323fa09f54",
   "metadata": {},
   "source": [
    "### Multi-level Inheritance:"
   ]
  },
  {
   "cell_type": "markdown",
   "id": "445f8e76-173c-4189-8c4f-3ee7eebb4d17",
   "metadata": {},
   "source": [
    "### Multiple Inheritance:"
   ]
  },
  {
   "cell_type": "markdown",
   "id": "a9694470-b27f-4303-ae27-b983f65b4cbe",
   "metadata": {},
   "source": [
    "### Dealing with initializer in Inheritance:"
   ]
  },
  {
   "cell_type": "markdown",
   "id": "3e59af82-821b-439c-bd1e-c44da1fd3f09",
   "metadata": {},
   "source": [
    "### Super Keyword:"
   ]
  },
  {
   "cell_type": "markdown",
   "id": "ae7db6ed-04af-4560-bbae-b0bafa6e184a",
   "metadata": {},
   "source": [
    "### Polymorphism in detail:"
   ]
  },
  {
   "cell_type": "markdown",
   "id": "b59028de-3811-4762-afe9-fa304b7e68a9",
   "metadata": {},
   "source": [
    "### Polymorphism via Duck Typing:"
   ]
  },
  {
   "cell_type": "markdown",
   "id": "20f8297a-b696-4102-9158-35fbc196e7a2",
   "metadata": {},
   "source": [
    "### Polymorphism via Operator Overloading:"
   ]
  },
  {
   "cell_type": "markdown",
   "id": "e9236806-9e6f-47c6-a621-8f8c6b3a3935",
   "metadata": {},
   "source": [
    "### Instance as Variable in detail:"
   ]
  },
  {
   "cell_type": "markdown",
   "id": "b5b4cb73-260e-4106-b5df-8c8597dcc6c7",
   "metadata": {},
   "source": [
    "### Abstraction in detail:"
   ]
  },
  {
   "cell_type": "markdown",
   "id": "e4abb1e1-e7f2-4e55-9bcb-192e4bf9602a",
   "metadata": {},
   "source": [
    "### Generators, Iterators and Decorators:"
   ]
  }
 ],
 "metadata": {
  "kernelspec": {
   "display_name": "Python 3 (ipykernel)",
   "language": "python",
   "name": "python3"
  },
  "language_info": {
   "codemirror_mode": {
    "name": "ipython",
    "version": 3
   },
   "file_extension": ".py",
   "mimetype": "text/x-python",
   "name": "python",
   "nbconvert_exporter": "python",
   "pygments_lexer": "ipython3",
   "version": "3.13.5"
  }
 },
 "nbformat": 4,
 "nbformat_minor": 5
}
