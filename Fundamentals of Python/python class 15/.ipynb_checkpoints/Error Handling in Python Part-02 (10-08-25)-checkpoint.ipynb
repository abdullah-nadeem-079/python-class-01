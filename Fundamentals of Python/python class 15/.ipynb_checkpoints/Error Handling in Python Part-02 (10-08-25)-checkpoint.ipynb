{
 "cells": [
  {
   "cell_type": "markdown",
   "id": "7581c258-4611-451d-be17-1540327f41ba",
   "metadata": {},
   "source": [
    "## Today's Topics:\n",
    "* Exception handling / Error handling\n",
    "* else : finally\n",
    "* usecase of finally\n",
    "* User Defined Exceptions\n",
    "* object blueprint-class"
   ]
  },
  {
   "cell_type": "markdown",
   "id": "fc0f8ca4-f4f6-4751-a09b-616cda6c2a2c",
   "metadata": {},
   "source": [
    "### else : finally:"
   ]
  },
  {
   "cell_type": "code",
   "execution_count": 9,
   "id": "118749fe-dfcd-4ed5-b122-96581dc87182",
   "metadata": {},
   "outputs": [
    {
     "name": "stdin",
     "output_type": "stream",
     "text": [
      "Enter a number: 12\n",
      "Enter a number: 6\n"
     ]
    },
    {
     "name": "stdout",
     "output_type": "stream",
     "text": [
      "2.0\n",
      "Else keyword runs if no error detected\n"
     ]
    }
   ],
   "source": [
    "try:\n",
    "    num1 = float(input(\"Enter a number:\"))\n",
    "    num2 = float(input(\"Enter a number:\"))\n",
    "    result = num1 / num2\n",
    "    print(result)\n",
    "except Exception as error:\n",
    "    print(\"Exception detected\", error)\n",
    "else:\n",
    "    print(\"Else keyword runs if no error detected\") # else keyword runs if no error detected"
   ]
  },
  {
   "cell_type": "code",
   "execution_count": 10,
   "id": "8a1488dc-2de9-49d2-b47a-472960125f81",
   "metadata": {},
   "outputs": [
    {
     "name": "stdin",
     "output_type": "stream",
     "text": [
      "Enter a number: 12\n",
      "Enter a number: ten\n"
     ]
    },
    {
     "name": "stdout",
     "output_type": "stream",
     "text": [
      "finally keyword always runs no matter what\n"
     ]
    },
    {
     "ename": "ValueError",
     "evalue": "could not convert string to float: 'ten'",
     "output_type": "error",
     "traceback": [
      "\u001b[1;31m---------------------------------------------------------------------------\u001b[0m",
      "\u001b[1;31mValueError\u001b[0m                                Traceback (most recent call last)",
      "Cell \u001b[1;32mIn[10], line 3\u001b[0m\n\u001b[0;32m      1\u001b[0m \u001b[38;5;28;01mtry\u001b[39;00m:\n\u001b[0;32m      2\u001b[0m     num1 \u001b[38;5;241m=\u001b[39m \u001b[38;5;28mfloat\u001b[39m(\u001b[38;5;28minput\u001b[39m(\u001b[38;5;124m\"\u001b[39m\u001b[38;5;124mEnter a number:\u001b[39m\u001b[38;5;124m\"\u001b[39m))\n\u001b[1;32m----> 3\u001b[0m     num2 \u001b[38;5;241m=\u001b[39m \u001b[38;5;28mfloat\u001b[39m(\u001b[38;5;28minput\u001b[39m(\u001b[38;5;124m\"\u001b[39m\u001b[38;5;124mEnter a number:\u001b[39m\u001b[38;5;124m\"\u001b[39m))\n\u001b[0;32m      4\u001b[0m     result \u001b[38;5;241m=\u001b[39m num1 \u001b[38;5;241m/\u001b[39m num2\n\u001b[0;32m      5\u001b[0m     \u001b[38;5;28mprint\u001b[39m(result)\n",
      "\u001b[1;31mValueError\u001b[0m: could not convert string to float: 'ten'"
     ]
    }
   ],
   "source": [
    "try:\n",
    "    num1 = float(input(\"Enter a number:\"))\n",
    "    num2 = float(input(\"Enter a number:\"))\n",
    "    result = num1 / num2\n",
    "    print(result)\n",
    "except ZeroDivisionError as error:\n",
    "    print(\"Exception detected\", error)\n",
    "else:\n",
    "    print(\"Else keyword runs if no error detected\")\n",
    "finally:\n",
    "    print(\"finally keyword always runs no matter what\") # finally keyword always runs even if the error raised"
   ]
  },
  {
   "cell_type": "markdown",
   "id": "28012360-1a54-49e4-917f-0c3d5ac40f1f",
   "metadata": {},
   "source": [
    "#### A common and very simple use case of finally:"
   ]
  },
  {
   "cell_type": "code",
   "execution_count": 15,
   "id": "3c8390ff-99bf-4fc2-903f-c86aa1720d53",
   "metadata": {},
   "outputs": [
    {
     "name": "stdin",
     "output_type": "stream",
     "text": [
      "Enter your name: Abdullah\n",
      "Enter your age: 19\n",
      "Enter your weight: 50\n"
     ]
    },
    {
     "ename": "TypeError",
     "evalue": "write() argument must be str, not int",
     "output_type": "error",
     "traceback": [
      "\u001b[1;31m---------------------------------------------------------------------------\u001b[0m",
      "\u001b[1;31mTypeError\u001b[0m                                 Traceback (most recent call last)",
      "Cell \u001b[1;32mIn[15], line 8\u001b[0m\n\u001b[0;32m      6\u001b[0m     f\u001b[38;5;241m.\u001b[39mwrite(age)\n\u001b[0;32m      7\u001b[0m     weight \u001b[38;5;241m=\u001b[39m \u001b[38;5;28mint\u001b[39m(\u001b[38;5;28minput\u001b[39m(\u001b[38;5;124m\"\u001b[39m\u001b[38;5;124mEnter your weight:\u001b[39m\u001b[38;5;124m\"\u001b[39m)) \u001b[38;5;66;03m# erro raised because write() only knows how to handle str data not int\u001b[39;00m\n\u001b[1;32m----> 8\u001b[0m     f\u001b[38;5;241m.\u001b[39mwrite(weight)\n\u001b[0;32m      9\u001b[0m \u001b[38;5;28;01mexcept\u001b[39;00m \u001b[38;5;167;01mFileNotFoundError\u001b[39;00m:\n\u001b[0;32m     10\u001b[0m     \u001b[38;5;28mprint\u001b[39m(\u001b[38;5;124m\"\u001b[39m\u001b[38;5;124mFile not found\u001b[39m\u001b[38;5;124m\"\u001b[39m)\n",
      "\u001b[1;31mTypeError\u001b[0m: write() argument must be str, not int"
     ]
    }
   ],
   "source": [
    "try:\n",
    "    f = open(\"testing.txt\", \"r+\")\n",
    "    name = input(\"Enter your name:\")\n",
    "    f.write(name)\n",
    "    age = input(\"Enter your age:\")\n",
    "    f.write(age)\n",
    "    weight = int(input(\"Enter your weight:\")) # erro raised because write() only knows how to handle str data not int\n",
    "    f.write(weight)\n",
    "except FileNotFoundError:\n",
    "    print(\"File not found\")\n",
    "finally:\n",
    "    f.close() # finally closes the file even if the error occured and prevent from data loss"
   ]
  },
  {
   "cell_type": "markdown",
   "id": "6ea37664-efa7-48f2-ab7b-c7332b0df9a5",
   "metadata": {},
   "source": [
    "### User Defined Exceptions:"
   ]
  },
  {
   "cell_type": "code",
   "execution_count": 16,
   "id": "790f2704-528e-4b29-a8bd-ed468033e3cb",
   "metadata": {},
   "outputs": [
    {
     "name": "stdin",
     "output_type": "stream",
     "text": [
      "Enter student age 12\n"
     ]
    },
    {
     "name": "stdout",
     "output_type": "stream",
     "text": [
      "Student with age less than 15 and greater than 70 is not eligible\n"
     ]
    }
   ],
   "source": [
    "try:\n",
    "    age = int(input(\"Enter student age\")) # 15<age<70\n",
    "    if age < 15 or (age > 70):\n",
    "        raise Exception(\"Student with age less than 15 and greater than 70 is not eligible\")\n",
    "except Exception as error:\n",
    "    print(error)"
   ]
  },
  {
   "cell_type": "markdown",
   "id": "64ad4699-986d-45cb-a80b-33476164e2f4",
   "metadata": {},
   "source": [
    "### Object Blueprint-class"
   ]
  },
  {
   "cell_type": "code",
   "execution_count": 17,
   "id": "28599824-e840-48ae-bd3b-bcd8dab093b5",
   "metadata": {},
   "outputs": [],
   "source": [
    "class AgeException(Exception):\n",
    "    pass"
   ]
  },
  {
   "cell_type": "code",
   "execution_count": 18,
   "id": "89a3e3af-128e-4658-81b0-2d45c1fcb6bc",
   "metadata": {},
   "outputs": [
    {
     "name": "stdin",
     "output_type": "stream",
     "text": [
      "Enter student age 12\n"
     ]
    },
    {
     "ename": "AgeException",
     "evalue": "Student with age less than 15 and greater than 70 is not eligible",
     "output_type": "error",
     "traceback": [
      "\u001b[1;31m---------------------------------------------------------------------------\u001b[0m",
      "\u001b[1;31mAgeException\u001b[0m                              Traceback (most recent call last)",
      "Cell \u001b[1;32mIn[18], line 4\u001b[0m\n\u001b[0;32m      2\u001b[0m     age \u001b[38;5;241m=\u001b[39m \u001b[38;5;28mint\u001b[39m(\u001b[38;5;28minput\u001b[39m(\u001b[38;5;124m\"\u001b[39m\u001b[38;5;124mEnter student age\u001b[39m\u001b[38;5;124m\"\u001b[39m)) \u001b[38;5;66;03m# 15<age<70\u001b[39;00m\n\u001b[0;32m      3\u001b[0m     \u001b[38;5;28;01mif\u001b[39;00m age \u001b[38;5;241m<\u001b[39m \u001b[38;5;241m15\u001b[39m \u001b[38;5;129;01mor\u001b[39;00m (age \u001b[38;5;241m>\u001b[39m \u001b[38;5;241m70\u001b[39m):\n\u001b[1;32m----> 4\u001b[0m         \u001b[38;5;28;01mraise\u001b[39;00m AgeException(\u001b[38;5;124m\"\u001b[39m\u001b[38;5;124mStudent with age less than 15 and greater than 70 is not eligible\u001b[39m\u001b[38;5;124m\"\u001b[39m)\n\u001b[0;32m      5\u001b[0m \u001b[38;5;28;01mexcept\u001b[39;00m \u001b[38;5;167;01mZeroDivisionError\u001b[39;00m:\n\u001b[0;32m      6\u001b[0m     \u001b[38;5;28mprint\u001b[39m(\u001b[38;5;124m\"\u001b[39m\u001b[38;5;124merror\u001b[39m\u001b[38;5;124m\"\u001b[39m)\n",
      "\u001b[1;31mAgeException\u001b[0m: Student with age less than 15 and greater than 70 is not eligible"
     ]
    }
   ],
   "source": [
    "try:\n",
    "    age = int(input(\"Enter student age\")) # 15<age<70\n",
    "    if age < 15 or (age > 70):\n",
    "        raise AgeException(\"Student with age less than 15 and greater than 70 is not eligible\")\n",
    "except ZeroDivisionError:\n",
    "    print(\"error\")"
   ]
  },
  {
   "cell_type": "code",
   "execution_count": 19,
   "id": "0d5f2013-8bf2-4880-b53a-a5116de3cc4c",
   "metadata": {},
   "outputs": [
    {
     "name": "stdin",
     "output_type": "stream",
     "text": [
      "Enter student age 12\n"
     ]
    },
    {
     "name": "stdout",
     "output_type": "stream",
     "text": [
      "Student with age less than 15 and greater than 70 is not eligible\n"
     ]
    }
   ],
   "source": [
    "try:\n",
    "    age = int(input(\"Enter student age\")) # 15<age<70\n",
    "    if age < 15 or (age > 70):\n",
    "        raise AgeException(\"Student with age less than 15 and greater than 70 is not eligible\")\n",
    "except ZeroDivisionError, SyntaxError, TypeError: # we can use multiple exception by commas.\n",
    "    print(\"error\")\n",
    "except AgeException as error:\n",
    "    print(error)"
   ]
  }
 ],
 "metadata": {
  "kernelspec": {
   "display_name": "Python 3 (ipykernel)",
   "language": "python",
   "name": "python3"
  },
  "language_info": {
   "codemirror_mode": {
    "name": "ipython",
    "version": 3
   },
   "file_extension": ".py",
   "mimetype": "text/x-python",
   "name": "python",
   "nbconvert_exporter": "python",
   "pygments_lexer": "ipython3",
   "version": "3.13.5"
  }
 },
 "nbformat": 4,
 "nbformat_minor": 5
}
