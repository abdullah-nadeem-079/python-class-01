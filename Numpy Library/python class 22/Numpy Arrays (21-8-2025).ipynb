{
 "cells": [
  {
   "cell_type": "markdown",
   "id": "96d932b0-7df1-4705-bc7e-13039ef707a6",
   "metadata": {},
   "source": [
    "## Today's Topics:"
   ]
  },
  {
   "cell_type": "markdown",
   "id": "59cfd47b-6c81-4d3b-ba48-b6d3f08c5adf",
   "metadata": {},
   "source": [
    "### ZIP Function in Python:"
   ]
  },
  {
   "cell_type": "code",
   "execution_count": 2,
   "id": "ed9f14e4-5cf3-4a6a-8ef0-04ce2daac06d",
   "metadata": {},
   "outputs": [],
   "source": [
    "lst1 = [1,3,5,7,9]\n",
    "lst2 = [2,4,6,8,10] # creating list "
   ]
  },
  {
   "cell_type": "code",
   "execution_count": 3,
   "id": "bfcad693-dafd-4e72-9e32-61603c20cbe0",
   "metadata": {},
   "outputs": [
    {
     "name": "stdout",
     "output_type": "stream",
     "text": [
      "[3, 7, 11, 15, 19]\n"
     ]
    }
   ],
   "source": [
    "lst3 = []\n",
    "\n",
    "for n in zip(lst1,lst2): # adding elements of list index wise using for in loop and zip function\n",
    "    lst3.append(sum(n))\n",
    "print(lst3)"
   ]
  },
  {
   "cell_type": "code",
   "execution_count": 11,
   "id": "fc8878c8-e291-4187-b5d7-97032b38a07a",
   "metadata": {},
   "outputs": [
    {
     "data": {
      "text/plain": [
       "[(1, 2), (3, 4), (5, 6), (7, 8), (9, 10)]"
      ]
     },
     "execution_count": 11,
     "metadata": {},
     "output_type": "execute_result"
    }
   ],
   "source": [
    "list((zip(lst1, lst2))) # printing both list as a zip in form of tuple combining elements of both lists sequentlly"
   ]
  },
  {
   "cell_type": "markdown",
   "id": "5521afee-7f50-400b-afd2-163ae952a586",
   "metadata": {},
   "source": [
    "### Vectorized Operations in Array:"
   ]
  },
  {
   "cell_type": "code",
   "execution_count": 13,
   "id": "e0a871bf-503a-412e-8b13-d4c6858c12a3",
   "metadata": {},
   "outputs": [],
   "source": [
    "import numpy as np # importing numpy library"
   ]
  },
  {
   "cell_type": "code",
   "execution_count": 14,
   "id": "2335d275-54b4-4b68-80f3-0da6e81f39ed",
   "metadata": {},
   "outputs": [],
   "source": [
    "arr1 = np.array(lst1)\n",
    "arr2 = np.array(lst2) # creating arrays using list above"
   ]
  },
  {
   "cell_type": "code",
   "execution_count": 16,
   "id": "c4e303ef-a882-4545-b1c8-b54e19abae22",
   "metadata": {},
   "outputs": [
    {
     "name": "stdout",
     "output_type": "stream",
     "text": [
      "[1 3 5 7 9]\n",
      "[ 2  4  6  8 10]\n"
     ]
    }
   ],
   "source": [
    "print(arr1)\n",
    "print(arr2) # printing both arrays"
   ]
  },
  {
   "cell_type": "code",
   "execution_count": 17,
   "id": "c3f66f95-23d7-4c9a-8ab3-70ed672babf7",
   "metadata": {},
   "outputs": [
    {
     "data": {
      "text/plain": [
       "array([ 3,  7, 11, 15, 19])"
      ]
     },
     "execution_count": 17,
     "metadata": {},
     "output_type": "execute_result"
    }
   ],
   "source": [
    "arr1 + arr2 # addition of both arrays sequently index wise, array always do mirror operations"
   ]
  },
  {
   "cell_type": "code",
   "execution_count": 18,
   "id": "4b79c138-1a29-47f1-90f8-4432fb733bff",
   "metadata": {},
   "outputs": [
    {
     "data": {
      "text/plain": [
       "array([10, 30, 50, 70, 90])"
      ]
     },
     "execution_count": 18,
     "metadata": {},
     "output_type": "execute_result"
    }
   ],
   "source": [
    "arr1 * 10 # Multiplying each element of array by 10 because vector expand in every dimension"
   ]
  },
  {
   "cell_type": "markdown",
   "id": "c38aab39-a0a5-4924-9e70-ae9311dfb551",
   "metadata": {},
   "source": [
    "### Arithematic Operations on array:\n",
    "Array always perform mirror operations.\n",
    "* addition\n",
    "* subtraction\n",
    "* multiplication >>>> (Linear Algebra) and (Mirror)"
   ]
  },
  {
   "cell_type": "code",
   "execution_count": 19,
   "id": "71989426-d417-46dc-8bee-baaf9ebaee44",
   "metadata": {},
   "outputs": [
    {
     "data": {
      "text/plain": [
       "array([[ 1,  2,  3,  4],\n",
       "       [ 5,  6,  7,  8],\n",
       "       [ 9, 10, 11, 12]])"
      ]
     },
     "execution_count": 19,
     "metadata": {},
     "output_type": "execute_result"
    }
   ],
   "source": [
    "a = np.arange(1,13).reshape(3,4)\n",
    "a"
   ]
  },
  {
   "cell_type": "code",
   "execution_count": 20,
   "id": "70c69e6a-626f-4328-917c-69adbbae9281",
   "metadata": {},
   "outputs": [
    {
     "data": {
      "text/plain": [
       "array([[  3.34759142,   2.9989627 ,   5.5890092 ],\n",
       "       [  6.35978149, -11.17493946,  -6.58850168],\n",
       "       [  1.19648716,  -0.92016397,  12.63652216],\n",
       "       [ -2.24248619,  -3.96390099, -17.6776624 ]])"
      ]
     },
     "execution_count": 20,
     "metadata": {},
     "output_type": "execute_result"
    }
   ],
   "source": [
    "b = np.random.randn(4,3) * 10\n",
    "b"
   ]
  },
  {
   "cell_type": "code",
   "execution_count": 21,
   "id": "aa3ec220-442b-47c9-96f2-bf9eddeb9039",
   "metadata": {},
   "outputs": [
    {
     "ename": "ValueError",
     "evalue": "operands could not be broadcast together with shapes (3,4) (4,3) ",
     "output_type": "error",
     "traceback": [
      "\u001b[1;31m---------------------------------------------------------------------------\u001b[0m",
      "\u001b[1;31mValueError\u001b[0m                                Traceback (most recent call last)",
      "Cell \u001b[1;32mIn[21], line 1\u001b[0m\n\u001b[1;32m----> 1\u001b[0m \u001b[38;5;28mprint\u001b[39m(a \u001b[38;5;241m+\u001b[39m b)\n\u001b[0;32m      2\u001b[0m \u001b[38;5;28mprint\u001b[39m(a \u001b[38;5;241m-\u001b[39m b)\n\u001b[0;32m      3\u001b[0m \u001b[38;5;28mprint\u001b[39m(a \u001b[38;5;241m*\u001b[39m b)\n",
      "\u001b[1;31mValueError\u001b[0m: operands could not be broadcast together with shapes (3,4) (4,3) "
     ]
    }
   ],
   "source": [
    "print(a + b) # we cannot perform mirror operations on arrays with different shapes as (3,4) and (4,3)\n",
    "print(a - b) # only algebric operations are possible in arrays with different shapes   \n",
    "print(a * b) # for algebric operations no. of columns of first array must be equal to no. of rows of second array"
   ]
  },
  {
   "cell_type": "code",
   "execution_count": 22,
   "id": "98e71cde-cd07-40c3-82a2-dd19b344aadf",
   "metadata": {},
   "outputs": [
    {
     "data": {
      "text/plain": [
       "array([[  10.68667112,  -37.96701209,  -40.38907729],\n",
       "       [  45.33216665,  -90.20717897,  -64.55160817],\n",
       "       [  79.97766217, -142.44734585,  -88.71413904]])"
      ]
     },
     "execution_count": 22,
     "metadata": {},
     "output_type": "execute_result"
    }
   ],
   "source": [
    "a @ b # We use @ sign to multiply in algebric multiplication "
   ]
  },
  {
   "cell_type": "code",
   "execution_count": 23,
   "id": "000115e6-4679-4ed6-a2c1-bf1abe8008d4",
   "metadata": {},
   "outputs": [
    {
     "data": {
      "text/plain": [
       "array([[  10.68667112,  -37.96701209,  -40.38907729],\n",
       "       [  45.33216665,  -90.20717897,  -64.55160817],\n",
       "       [  79.97766217, -142.44734585,  -88.71413904]])"
      ]
     },
     "execution_count": 23,
     "metadata": {},
     "output_type": "execute_result"
    }
   ],
   "source": [
    "np.dot(a,b) # using dot product function in np for algebric multiplication"
   ]
  },
  {
   "cell_type": "code",
   "execution_count": 24,
   "id": "4aaec394-7e44-42d2-8014-21e229286c0a",
   "metadata": {},
   "outputs": [
    {
     "data": {
      "text/plain": [
       "array([[  10.68667112,  -37.96701209,  -40.38907729],\n",
       "       [  45.33216665,  -90.20717897,  -64.55160817],\n",
       "       [  79.97766217, -142.44734585,  -88.71413904]])"
      ]
     },
     "execution_count": 24,
     "metadata": {},
     "output_type": "execute_result"
    }
   ],
   "source": [
    "a.dot(b) # using dot function of array for algebric multiplication"
   ]
  },
  {
   "cell_type": "markdown",
   "id": "ac9e7d44-02ed-44e7-a498-ef9528910ae4",
   "metadata": {},
   "source": [
    "### Functions in array:"
   ]
  },
  {
   "cell_type": "markdown",
   "id": "749d4866-4534-4d54-ae38-3f82f6ecef6b",
   "metadata": {},
   "source": [
    "#### Array Creation Functions:\n",
    "| **Function**                         | **Description**                                              |\n",
    "| ------------------------------------ | ------------------------------------------------------------ |\n",
    "| `np.array(object)`                   | Creates an array from a list, tuple, or iterable             |\n",
    "| `np.zeros(shape)`                    | Array filled with 0s                                         |\n",
    "| `np.ones(shape)`                     | Array filled with 1s                                         |\n",
    "| `np.full(shape, value)`              | Array filled with a specific value                           |\n",
    "| `np.eye(N)`                          | Identity matrix of size `N × N` with 1s on the diagonal      |\n",
    "| `np.identity(n)`                     | Identity matrix of size `n × n` (always square)              |\n",
    "| `np.arange(start, stop, step)`       | Array with evenly spaced values                              |\n",
    "| `np.linspace(start, stop, num)`      | Array with `num` evenly spaced values between start and stop |\n",
    "| `np.random.rand(shape)`              | Array of random values from 0 to 1                           |\n",
    "| `np.random.randint(low, high, size)` | Array of random integers in a specified range                |\n",
    "| `np.zeros_like(a)`                   | Array of 0s with same shape and type as array `a`            |\n",
    "| `np.ones_like(a)`                    | Array of 1s with same shape and type as array `a`            |\n",
    "| `np.full_like(a, fill_value)`        | Array filled with `fill_value`, same shape and type as `a`   |\n",
    "| `np.empty_like(a)`                   | Empty (uninitialized) array with same shape and type as `a`  |"
   ]
  },
  {
   "cell_type": "markdown",
   "id": "888a1eef-80f2-4888-93ed-ff9ed28ea303",
   "metadata": {},
   "source": [
    "#### Array Inspection & Attributes:\n",
    "| Attribute/Function | Description                    |\n",
    "| ------------------ | ------------------------------ |\n",
    "| `arr.shape`        | Shape of array (rows, cols)    |\n",
    "| `arr.ndim`         | Number of dimensions           |\n",
    "| `arr.size`         | Total number of elements       |\n",
    "| `arr.dtype`        | Data type of elements          |\n",
    "| `arr.itemsize`     | Size (in bytes) of one element |\n",
    "| `arr.T`            | Transpose of the array         |\n"
   ]
  },
  {
   "cell_type": "markdown",
   "id": "a8d7e07a-6311-4b4d-994f-44fde2a7a0a7",
   "metadata": {},
   "source": [
    "#### Reshaping and Modifying Arrays:\n",
    "| Function                       | Description                                                                |\n",
    "| ------------------------------ | -------------------------------------------------------------------------- |\n",
    "| `arr.reshape(shape)`           | Reshape without changing data                                              |\n",
    "| `arr.flatten()`                | Flattens into 1D                                                           |\n",
    "| `np.concatenate([a, b], axis)` | Combines arrays                                                            |\n",
    "| `np.split(arr, sections)`      | Splits an array                                                            |\n",
    "| `arr.ravel()`                  | Returns flattened array (like `flatten`, but returns a view when possible) |\n"
   ]
  },
  {
   "cell_type": "markdown",
   "id": "22956559-8fd8-4775-acd8-02c6e56515ae",
   "metadata": {},
   "source": [
    "#### Conversion & Type Utilities:\n",
    "| **Function**                                               | **Description**                                                      |\n",
    "| ---------------------------------------------------------- | -------------------------------------------------------------------- |\n",
    "| `np.asarray(a, dtype=None, order=None)`                    | Converts input `a` to a NumPy array, avoiding copy if possible.      |\n",
    "| `np.asanyarray(a, dtype=None)`                             | Similar to `asarray` but passes through subclasses (e.g., matrices)  |\n",
    "| `np.asfarray(a, dtype=float)`                              | Converts input to an ndarray of floats                               |\n",
    "| `np.require(a, dtype=None, requirements=None)`             | Ensures array meets specified requirements (e.g., writable, aligned) |\n",
    "| `np.astype(dtype, order='K', casting='unsafe', copy=True)` | Method on arrays to convert to different dtype                       |\n",
    "| `np.copy(a, order='K')`                                    | Creates a copy of array `a`                                          |\n",
    "| `np.squeeze(a, axis=None)`                                 | Removes single-dimensional entries from the shape of an array        |\n",
    "| `np.expand_dims(a, axis)`                                  | Expands array shape by inserting a new axis                          |\n"
   ]
  },
  {
   "cell_type": "markdown",
   "id": "b618af41-423f-47f9-b40a-55062f56ca34",
   "metadata": {},
   "source": [
    "#### Mathematical Functions:\n",
    "| Function                       | Description              |\n",
    "| ------------------------------ | ------------------------ |\n",
    "| `np.sum(arr)`                  | Sum of all elements      |\n",
    "| `np.mean(arr)`                 | Mean of array            |\n",
    "| `np.std(arr)`                  | Standard deviation       |\n",
    "| `np.var(arr)`                  | Variance                 |\n",
    "| `np.min(arr)` / `np.max(arr)`  | Minimum / Maximum        |\n",
    "| `np.argmin()` / `np.argmax()`  | Index of min/max         |\n",
    "| `np.cumsum()` / `np.cumprod()` | Cumulative sum / product |\n"
   ]
  },
  {
   "cell_type": "markdown",
   "id": "ec798374-15f3-4c02-82ec-8f6a32c48f36",
   "metadata": {},
   "source": [
    "#### Logical and Comparison Operations:\n",
    "| Function                      | Description                    |\n",
    "| ----------------------------- | ------------------------------ |\n",
    "| `arr > value`                 | Element-wise comparison        |\n",
    "| `np.where(condition, x, y)`   | Conditional selection          |\n",
    "| `np.all(arr)` / `np.any(arr)` | Checks all / any True          |\n",
    "| `np.isin(arr, [values])`      | Checks if elements are in list |\n",
    "| `np.logical_and(x, y)`        | Logical AND                    |\n",
    "| `np.logical_or(x, y)`         | Logical OR                     |\n"
   ]
  },
  {
   "cell_type": "markdown",
   "id": "afcd64f1-29ac-4222-8abd-15fda1ef8632",
   "metadata": {},
   "source": [
    "#### Sorting & Searching:\n",
    "| Function                      | Description                            |\n",
    "| ----------------------------- | -------------------------------------- |\n",
    "| `np.sort(arr)`                | Returns sorted array                   |\n",
    "| `arr.sort()`                  | Sorts in-place                         |\n",
    "| `np.argsort(arr)`             | Returns indices that would sort array  |\n",
    "| `np.unique(arr)`              | Unique elements                        |\n",
    "| `np.searchsorted(arr, value)` | Index where element should be inserted |\n"
   ]
  },
  {
   "cell_type": "markdown",
   "id": "91fcbdfc-163f-40f1-a9cd-8627e2065e5a",
   "metadata": {},
   "source": [
    "#### Broadcasting & Vectorized Operations:\n",
    "NumPy lets you apply operations to arrays without explicit loops:"
   ]
  },
  {
   "cell_type": "code",
   "execution_count": 25,
   "id": "dc57251b-82a0-4e7b-9f50-9560729bedf9",
   "metadata": {},
   "outputs": [
    {
     "data": {
      "text/plain": [
       "array([2, 4, 6])"
      ]
     },
     "execution_count": 25,
     "metadata": {},
     "output_type": "execute_result"
    }
   ],
   "source": [
    "arr = np.array([1, 2, 3])\n",
    "arr + 10  # [11 12 13]\n",
    "arr * 2   # [2 4 6]"
   ]
  },
  {
   "cell_type": "markdown",
   "id": "98a6f996-6e4d-4a3b-95ba-214d1a289fa7",
   "metadata": {},
   "source": [
    "#### Copying vs. Views:\n",
    "| Function     | Description                   |\n",
    "| ------------ | ----------------------------- |\n",
    "| `arr.copy()` | Returns a deep copy           |\n",
    "| `arr.view()` | Returns a shallow copy (view) |\n"
   ]
  },
  {
   "cell_type": "markdown",
   "id": "e643ecf6-7d58-4c7f-bbde-ddbd6d621bca",
   "metadata": {},
   "source": [
    "#### Matrix Operations:\n",
    "| Function           | Description                         |\n",
    "| ------------------ | ----------------------------------- |\n",
    "| `np.dot(a, b)`     | Dot product                         |\n",
    "| `np.matmul(a, b)`  | Matrix multiplication               |\n",
    "| `a @ b`            | Shorthand for matrix multiplication |\n",
    "| `np.linalg.inv(a)` | Matrix inverse                      |\n",
    "| `np.linalg.det(a)` | Determinant                         |\n",
    "| `np.linalg.eig(a)` | Eigenvalues and eigenvectors        |\n"
   ]
  },
  {
   "cell_type": "markdown",
   "id": "926654f3-20b4-4bf1-a5db-e8e6e26eda1f",
   "metadata": {},
   "source": [
    "#### Summary Table:\n",
    "| Category                        | Examples                                                                       |\n",
    "| ------------------------------- | ------------------------------------------------------------------------------ |\n",
    "| **Creation**                    | `np.array`, `np.zeros`, `np.ones`, `np.arange`, `np.random.rand`               |\n",
    "| **Attributes**                  | `shape`, `ndim`, `dtype`, `T`                                                  |\n",
    "| **Math**                        | `sum`, `mean`, `std`, `min`, `max`, `cumsum`                                   |\n",
    "| **Reshape/Modify**              | `reshape`, `flatten`, `concatenate`, `split`                                   |\n",
    "| **Logic**                       | `where`, `all`, `any`, `isin`, `logical_and`                                   |\n",
    "| **Sort/Search**                 | `sort`, `argsort`, `unique`, `searchsorted`                                    |\n",
    "| **Linear Algebra**              | `dot`, `matmul`, `inv`, `eig`                                                  |\n",
    "| **Conversion & Type Utilities** | `asarray`, `asanyarray`, `astype`, `copy`, `require`, `squeeze`, `expand_dims` |\n"
   ]
  },
  {
   "cell_type": "markdown",
   "id": "69f6c896-23d1-4f4b-a957-3db8a80fbe75",
   "metadata": {},
   "source": [
    "### Bolean Indexing in Arrays:"
   ]
  },
  {
   "cell_type": "code",
   "execution_count": 26,
   "id": "c91fcf13-4928-413b-a892-ee3e5bf15717",
   "metadata": {},
   "outputs": [
    {
     "data": {
      "text/plain": [
       "array([[101, 102, 103, 104, 105, 106, 107, 108, 109, 110],\n",
       "       [111, 112, 113, 114, 115, 116, 117, 118, 119, 120],\n",
       "       [121, 122, 123, 124, 125, 126, 127, 128, 129, 130],\n",
       "       [131, 132, 133, 134, 135, 136, 137, 138, 139, 140],\n",
       "       [141, 142, 143, 144, 145, 146, 147, 148, 149, 150]])"
      ]
     },
     "execution_count": 26,
     "metadata": {},
     "output_type": "execute_result"
    }
   ],
   "source": [
    "arr3 = np.arange(101,151).reshape(5,10) # creating a 2 dimensional array\n",
    "arr3"
   ]
  },
  {
   "cell_type": "code",
   "execution_count": 27,
   "id": "0aa26e35-cbdd-430d-87e5-df0664fc98eb",
   "metadata": {},
   "outputs": [
    {
     "data": {
      "text/plain": [
       "array([[False, False, False, False, False, False, False, False, False,\n",
       "        False],\n",
       "       [False, False, False, False, False, False, False, False, False,\n",
       "        False],\n",
       "       [False, False, False, False, False, False, False, False, False,\n",
       "        False],\n",
       "       [ True,  True,  True,  True,  True,  True,  True,  True,  True,\n",
       "         True],\n",
       "       [ True,  True,  True,  True,  True,  True,  True,  True,  True,\n",
       "         True]])"
      ]
     },
     "execution_count": 27,
     "metadata": {},
     "output_type": "execute_result"
    }
   ],
   "source": [
    "arr3 > 130 # applying bolean indexing on array"
   ]
  },
  {
   "cell_type": "code",
   "execution_count": 28,
   "id": "f9b9c26d-bd0c-4bfc-b23a-82f977c13993",
   "metadata": {},
   "outputs": [
    {
     "name": "stderr",
     "output_type": "stream",
     "text": [
      "C:\\Users\\Hp\\AppData\\Local\\Temp\\ipykernel_5636\\1581105877.py:1: DeprecationWarning: This function is deprecated. Please call randint(1, 30 + 1) instead\n",
      "  arr4 = np.random.random_integers(1,30, (5,6))\n"
     ]
    },
    {
     "data": {
      "text/plain": [
       "array([[13,  2, 14, 11, 27,  3],\n",
       "       [ 9,  1, 19,  3,  8, 27],\n",
       "       [27, 10,  8, 15, 20, 20],\n",
       "       [ 7, 22, 12, 23, 13,  8],\n",
       "       [23, 20, 10, 26, 23,  9]], dtype=int32)"
      ]
     },
     "execution_count": 28,
     "metadata": {},
     "output_type": "execute_result"
    }
   ],
   "source": [
    "arr4 = np.random.random_integers(1,30, (5,6)) # creating 2 dimensional array using random integer function and shape\n",
    "arr4"
   ]
  },
  {
   "cell_type": "code",
   "execution_count": 40,
   "id": "717e9848-37df-4b0d-8dc3-96b9c982f87a",
   "metadata": {},
   "outputs": [
    {
     "data": {
      "text/plain": [
       "array([[False, False, False, False,  True, False],\n",
       "       [False, False, False, False, False,  True],\n",
       "       [ True, False, False, False, False, False],\n",
       "       [False,  True, False,  True, False, False],\n",
       "       [ True, False, False,  True,  True, False]])"
      ]
     },
     "execution_count": 40,
     "metadata": {},
     "output_type": "execute_result"
    }
   ],
   "source": [
    "arr4 > 20 # applying bolean indexing on array"
   ]
  },
  {
   "cell_type": "code",
   "execution_count": 31,
   "id": "ae8a46f3-9198-47ce-8fce-cc0d6b1ce82a",
   "metadata": {},
   "outputs": [
    {
     "name": "stdout",
     "output_type": "stream",
     "text": [
      "[27 27 27 22 23 23 26 23]\n"
     ]
    }
   ],
   "source": [
    "print(arr4[arr4 > 20]) # sorting required values using bolean operaions "
   ]
  },
  {
   "cell_type": "code",
   "execution_count": 32,
   "id": "f3e7a170-3778-419e-8b4c-72a8fb89b56b",
   "metadata": {},
   "outputs": [
    {
     "name": "stderr",
     "output_type": "stream",
     "text": [
      "C:\\Users\\Hp\\AppData\\Local\\Temp\\ipykernel_5636\\1809472352.py:1: DeprecationWarning: This function is deprecated. Please call randint(1, 21 + 1) instead\n",
      "  arr5 = np.random.random_integers(1,21, 20)\n"
     ]
    },
    {
     "data": {
      "text/plain": [
       "array([ 6, 20,  5, 21, 19, 18,  9,  9,  8,  7,  4, 21,  7, 17,  3, 10, 10,\n",
       "        1, 17, 11], dtype=int32)"
      ]
     },
     "execution_count": 32,
     "metadata": {},
     "output_type": "execute_result"
    }
   ],
   "source": [
    "arr5 = np.random.random_integers(1,21, 20) # creating 1 dimesional array\n",
    "arr5 "
   ]
  },
  {
   "cell_type": "code",
   "execution_count": 34,
   "id": "0af74ec2-ad23-46ca-be24-09645d52a142",
   "metadata": {},
   "outputs": [
    {
     "data": {
      "text/plain": [
       "array([20, 21, 19, 18, 21, 17, 10, 10, 17, 11], dtype=int32)"
      ]
     },
     "execution_count": 34,
     "metadata": {},
     "output_type": "execute_result"
    }
   ],
   "source": [
    "arr5[arr5 >= 10] # print values greaterthan and equal to 10"
   ]
  },
  {
   "cell_type": "code",
   "execution_count": 35,
   "id": "0e3a896c-9078-4034-ac75-110434361c19",
   "metadata": {},
   "outputs": [
    {
     "data": {
      "text/plain": [
       "array([6, 5, 9, 9, 8, 7, 4, 7, 3, 1], dtype=int32)"
      ]
     },
     "execution_count": 35,
     "metadata": {},
     "output_type": "execute_result"
    }
   ],
   "source": [
    "arr5[~(arr5 >= 10)] # print values lessthan and equal to 10, use ~ sign to invert the condition"
   ]
  },
  {
   "cell_type": "code",
   "execution_count": 36,
   "id": "47081150-80fd-4b87-8459-be754dfb2fcc",
   "metadata": {},
   "outputs": [
    {
     "data": {
      "text/plain": [
       "array([ 6, 20, 18,  8,  4, 10, 10], dtype=int32)"
      ]
     },
     "execution_count": 36,
     "metadata": {},
     "output_type": "execute_result"
    }
   ],
   "source": [
    "arr5[arr5 % 2 == 0] # print even numbers "
   ]
  },
  {
   "cell_type": "code",
   "execution_count": 37,
   "id": "6dfde739-027f-4ed2-a090-81180a926f17",
   "metadata": {},
   "outputs": [
    {
     "data": {
      "text/plain": [
       "array([ 5, 21, 19,  9,  9,  7, 21,  7, 17,  3,  1, 17, 11], dtype=int32)"
      ]
     },
     "execution_count": 37,
     "metadata": {},
     "output_type": "execute_result"
    }
   ],
   "source": [
    "arr5[~(arr5 % 2 == 0)] # print odd numbers, use ~ sign to invert the condition"
   ]
  },
  {
   "cell_type": "code",
   "execution_count": 39,
   "id": "f1d937c0-fa48-4d0a-bbb9-543f3f4884f6",
   "metadata": {},
   "outputs": [
    {
     "data": {
      "text/plain": [
       "array([6, 9, 9, 8, 7, 7], dtype=int32)"
      ]
     },
     "execution_count": 39,
     "metadata": {},
     "output_type": "execute_result"
    }
   ],
   "source": [
    "arr5[(arr5 > 5) & (arr5 < 10)] # print values greaterthan 5 and lessthan 10"
   ]
  },
  {
   "cell_type": "markdown",
   "id": "8bcd0961-763e-46fa-85df-38ea1e1302cd",
   "metadata": {},
   "source": [
    "### Fancy Indexing:"
   ]
  },
  {
   "cell_type": "code",
   "execution_count": 41,
   "id": "13cb5825-2169-4f8a-9bd9-5c1a3234aaab",
   "metadata": {},
   "outputs": [
    {
     "name": "stderr",
     "output_type": "stream",
     "text": [
      "C:\\Users\\Hp\\AppData\\Local\\Temp\\ipykernel_5636\\1581105877.py:1: DeprecationWarning: This function is deprecated. Please call randint(1, 30 + 1) instead\n",
      "  arr4 = np.random.random_integers(1,30, (5,6))\n"
     ]
    },
    {
     "data": {
      "text/plain": [
       "array([[ 6,  8, 11,  6, 19, 18],\n",
       "       [23, 18, 10, 14,  7, 19],\n",
       "       [24,  8, 27, 30,  3, 14],\n",
       "       [16, 22, 30,  9, 23, 22],\n",
       "       [ 8,  1, 13, 18, 13,  3]], dtype=int32)"
      ]
     },
     "execution_count": 41,
     "metadata": {},
     "output_type": "execute_result"
    }
   ],
   "source": [
    "arr4 = np.random.random_integers(1,30, (5,6)) # creating 2 dimensional array\n",
    "arr4"
   ]
  },
  {
   "cell_type": "code",
   "execution_count": 43,
   "id": "c2b4e5bf-9963-4e52-8e83-d0f34384c33b",
   "metadata": {},
   "outputs": [
    {
     "data": {
      "text/plain": [
       "array([[24,  8, 27, 30,  3, 14],\n",
       "       [23, 18, 10, 14,  7, 19],\n",
       "       [16, 22, 30,  9, 23, 22],\n",
       "       [23, 18, 10, 14,  7, 19]], dtype=int32)"
      ]
     },
     "execution_count": 43,
     "metadata": {},
     "output_type": "execute_result"
    }
   ],
   "source": [
    "arr4[[2,1,3,1]] # print selected rows of the array"
   ]
  },
  {
   "cell_type": "code",
   "execution_count": 44,
   "id": "6251c0c4-a5c1-48f1-b90f-61d765e72e58",
   "metadata": {},
   "outputs": [
    {
     "data": {
      "text/plain": [
       "array([14, 10,  6], dtype=int32)"
      ]
     },
     "execution_count": 44,
     "metadata": {},
     "output_type": "execute_result"
    }
   ],
   "source": [
    "arr4[[2,1,0], [5,2,0]] # print selected values of the array, values will be selected in the form of order pairs e.g (R,C) = (2,5)(1,2)(0,0)"
   ]
  },
  {
   "cell_type": "code",
   "execution_count": 45,
   "id": "73ab967b-04d8-42a1-9ef2-ff892eceb10b",
   "metadata": {},
   "outputs": [],
   "source": [
    "from numpy.linalg import inv, qr # imports 2 specific linear algebra functions from module numpy.linalg"
   ]
  }
 ],
 "metadata": {
  "kernelspec": {
   "display_name": "Python 3 (ipykernel)",
   "language": "python",
   "name": "python3"
  },
  "language_info": {
   "codemirror_mode": {
    "name": "ipython",
    "version": 3
   },
   "file_extension": ".py",
   "mimetype": "text/x-python",
   "name": "python",
   "nbconvert_exporter": "python",
   "pygments_lexer": "ipython3",
   "version": "3.13.5"
  }
 },
 "nbformat": 4,
 "nbformat_minor": 5
}
